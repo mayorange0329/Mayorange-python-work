{
 "cells": [
  {
   "cell_type": "code",
   "execution_count": 1,
   "metadata": {},
   "outputs": [],
   "source": [
    "%matplotlib inline\n",
    "\n",
    "import numpy as np\n",
    "import matplotlib.pyplot as plt\n",
    "import pandas as pd \n",
    "import random\n",
    "from ipywidgets import interact"
   ]
  },
  {
   "cell_type": "code",
   "execution_count": null,
   "metadata": {},
   "outputs": [],
   "source": [
    "Sup={1:\"朗博\", 2:\"夸克\", 3:\"查戈納爾\", 4:\"古木\" , 5:\"伯頓\"\n",
    "     ,6:\"維羅\", 7:\"薩尼\", 8:\"克萊斯\", 9:\"渥馬爾\", 10:\"艾瑞\"\n",
    "     ,11:\"贊尼爾\", 12:\"牛魔王\", 13:\"歐米茄\", 14:\"美娜\"\n",
    "     ,15:\"皮皮\", 16:\"安奈特\", 17:\"提米\" , 18:\"佩娜\", 19:\"愛麗絲\",20:\"依夏\"\n",
    "     ,21:\"瀾\", 22:\"阿萊斯特\"\n",
    "     ,23:\"瑞克\", 24:\"蝙蝠俠\", 25:\"超人\" \n",
    "    }\n",
    "\n",
    "msg=\"傳說機器人\"\n",
    "print(\"歡迎使用！挑戰者今天想玩什麼？\")\n",
    "while(msg !=\"OK\"):\n",
    "    msg=input(\"[請輸入輔助種類：「坦克」、「功能輔助」、「特化輔助」，或「隨機推薦」，決定後請輸入「OK」] \")\n",
    "    if \"坦克\" in msg:\n",
    "        print(Sup[random.randint(1,14)])\n",
    "    elif \"功能輔助\" in msg:\n",
    "        print(Sup[random.randint(15,22)])\n",
    "    elif \"特化輔助\" in msg:\n",
    "        print(Sup[random.randint(23,25)])\n",
    "    elif \"隨機推薦\" in msg:\n",
    "        print(Sup[random.randint(1,25)])\n",
    "    else:\n",
    "        print(\"謝謝使用，祝你排位上分！\")"
   ]
  },
  {
   "cell_type": "code",
   "execution_count": null,
   "metadata": {},
   "outputs": [],
   "source": []
  },
  {
   "cell_type": "code",
   "execution_count": null,
   "metadata": {},
   "outputs": [],
   "source": []
  }
 ],
 "metadata": {
  "kernelspec": {
   "display_name": "Python 3",
   "language": "python",
   "name": "python3"
  },
  "language_info": {
   "codemirror_mode": {
    "name": "ipython",
    "version": 3
   },
   "file_extension": ".py",
   "mimetype": "text/x-python",
   "name": "python",
   "nbconvert_exporter": "python",
   "pygments_lexer": "ipython3",
   "version": "3.7.3"
  }
 },
 "nbformat": 4,
 "nbformat_minor": 2
}
