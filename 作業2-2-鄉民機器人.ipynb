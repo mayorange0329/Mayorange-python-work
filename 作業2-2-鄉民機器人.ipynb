{
 "cells": [
  {
   "cell_type": "code",
   "execution_count": 1,
   "metadata": {},
   "outputs": [],
   "source": [
    "%matplotlib inline\n",
    "\n",
    "import numpy as np\n",
    "import matplotlib.pyplot as plt\n",
    "import pandas as pd "
   ]
  },
  {
   "cell_type": "code",
   "execution_count": 2,
   "metadata": {},
   "outputs": [
    {
     "name": "stdout",
     "output_type": "stream",
     "text": [
      "歡迎登入！\n",
      "[問卦]女朋友太漂亮怎麼辦？\n",
      "\u001b[1;31m 噓 \u001b[0m 醒醒吧你沒有女朋友\n",
      "[問卦]我家妹妹怎麼辣麼可愛> <\n",
      "\u001b[1;31m 噓 \u001b[0m 醒醒吧你沒有妹妹\n",
      "[問卦]錢太多花不完的困擾該怎麼解決？\n",
      "\u001b[1;31m 噓 \u001b[0m 醒醒吧你沒有錢\n",
      "[問卦]原、原來我什麼都沒有嗎？！\n",
      "\u001b[1;42m 推 \u001b[0m 你終於認清現實了\n",
      "[問卦]登出\n",
      "期待您下一次的光臨\n"
     ]
    }
   ],
   "source": [
    "msg=\"鄉民機器人\"\n",
    "print(\"歡迎登入！\")\n",
    "while(msg !=\"登出\"):\n",
    "    msg=input(\" \")\n",
    "    if \"女朋友\" in msg:\n",
    "        print(\"\\033[1;31m 噓 \\033[0m 醒醒吧你沒有女朋友\")\n",
    "    elif \"妹妹\" in msg:\n",
    "        print(\"\\033[1;31m 噓 \\033[0m 醒醒吧你沒有妹妹\")\n",
    "    elif \"錢\" in msg:\n",
    "        print(\"\\033[1;31m 噓 \\033[0m 醒醒吧你沒有錢\")\n",
    "    elif \"什麼都沒有\" in msg:\n",
    "        print(\"\\033[1;32m 推 \\033[0m 你終於認清現實了\")\n",
    "    else:\n",
    "        print(\"期待您下一次的光臨\")"
   ]
  },
  {
   "cell_type": "code",
   "execution_count": null,
   "metadata": {},
   "outputs": [],
   "source": []
  }
 ],
 "metadata": {
  "kernelspec": {
   "display_name": "Python 3",
   "language": "python",
   "name": "python3"
  },
  "language_info": {
   "codemirror_mode": {
    "name": "ipython",
    "version": 3
   },
   "file_extension": ".py",
   "mimetype": "text/x-python",
   "name": "python",
   "nbconvert_exporter": "python",
   "pygments_lexer": "ipython3",
   "version": "3.7.3"
  }
 },
 "nbformat": 4,
 "nbformat_minor": 2
}
