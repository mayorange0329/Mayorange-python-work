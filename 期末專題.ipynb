{
 "cells": [
  {
   "cell_type": "markdown",
   "metadata": {},
   "source": [
    "## 數學軟體應用_期末專案\n",
    "\n",
    "\n",
    "\n",
    "想解決的問題：\n",
    "平常會關注電競賽事，因為電競是相當關注數據的一個領域，所以想要用這學期學到的Python，幫助自己更輕鬆解讀各項數據。"
   ]
  },
  {
   "cell_type": "code",
   "execution_count": 3,
   "metadata": {},
   "outputs": [],
   "source": [
    "#先將常用功能匯入\n",
    "\n",
    "%matplotlib inline\n",
    "import numpy as np\n",
    "import matplotlib.pyplot as plt\n",
    "import pandas as pd\n",
    "import seaborn as sns"
   ]
  },
  {
   "cell_type": "markdown",
   "metadata": {},
   "source": [
    "### 0. 簡介擇定為專案主題的賽事\n",
    "\n",
    "在開始前，先簡介以下擇定為主題的賽事。"
   ]
  },
  {
   "cell_type": "markdown",
   "metadata": {},
   "source": [
    "### 0-A GCS當前簡介\n",
    "\n",
    "\n",
    "擇定為本次主題的[GCS職業聯賽](https://esports.moba.garena.tw/gcs)（Garena Challenger Series）是競舞娛樂《傳說對決》於 2017年7月展開的職業電子競技聯賽。\n",
    "GCS是台灣第一次以手遊遊戲為主的職業聯賽，每年有春、夏兩季。"
   ]
  },
  {
   "cell_type": "code",
   "execution_count": 15,
   "metadata": {},
   "outputs": [
    {
     "name": "stdout",
     "output_type": "stream",
     "text": [
      "截至目前為止，聯賽已經創立883天\n"
     ]
    }
   ],
   "source": [
    "import datetime\n",
    "\n",
    "d1 = datetime.datetime(2017,7,30)   \n",
    "d2 = datetime.datetime(2019,12,30)  \n",
    "interval = d2 - d1                  \n",
    "天數=interval.days                       \n",
    "\n",
    "infor_GCS=f\"截至目前為止，聯賽已經創立{天數}天\"\n",
    "\n",
    "print(infor_GCS)"
   ]
  },
  {
   "cell_type": "code",
   "execution_count": 17,
   "metadata": {},
   "outputs": [
    {
     "name": "stdout",
     "output_type": "stream",
     "text": [
      "   February 2020\n",
      "Su Mo Tu We Th Fr Sa\n",
      "                   1\n",
      " 2  3  4  5  6  7  8\n",
      " 9 10 11 12 13 14 15\n",
      "16 17 18 19 20 21 22\n",
      "23 24 25 26 27 28 29\n",
      "\n",
      "最新一季，即2020春季職業聯賽，將於2月8日(週六)展開\n"
     ]
    }
   ],
   "source": [
    "import calendar\n",
    "\n",
    "calendar.setfirstweekday(firstweekday=6)\n",
    "\n",
    "calen=calendar.month(2020,2)\n",
    "print(calen)\n",
    "\n",
    "print(\"最新一季，即2020春季職業聯賽，將於2月8日(週六)展開\")"
   ]
  },
  {
   "cell_type": "code",
   "execution_count": 16,
   "metadata": {},
   "outputs": [
    {
     "name": "stdout",
     "output_type": "stream",
     "text": [
      "距離聯賽下次開賽，還剩下52天\n"
     ]
    }
   ],
   "source": [
    "from datetime import datetime\n",
    "from datetime import timedelta\n",
    "\n",
    "intime = datetime(2019,12,18) \n",
    "outtime = datetime(2020,2,8)\n",
    "\n",
    "def cd(d):\n",
    "\n",
    "  next = outtime - timedelta(d)\n",
    "  nexts = next - datetime.today()\n",
    "  return (next.date(),tods.days)\n",
    "\n",
    "\n",
    "result = outtime- intime\n",
    "\n",
    "\n",
    "\n",
    "infor_nextseason=f\"距離聯賽下次開賽，還剩下{result.days}天\"\n",
    "\n",
    "print(infor_nextseason)"
   ]
  },
  {
   "cell_type": "markdown",
   "metadata": {},
   "source": [
    "### 0-B GCS歷史回顧"
   ]
  },
  {
   "cell_type": "markdown",
   "metadata": {},
   "source": [
    "GCS歷經數次隊伍變化，包含：\n",
    "\n",
    "<table><tr><td bgcolor=#ffb6b9>2018春季：AHQW轉賣給MAD，MS二隊透過升降賽晉升。</td></tr></table>\n",
    "\n",
    "<table><tr><td bgcolor=#ffb6b9>2018夏季：FW加入聯賽，ST更名為ONE。</td></tr></table>\n",
    "\n",
    "<table><tr><td bgcolor=#ffb6b9>2019春季：JT、AHQ退出，TXO加入聯賽。</td></tr></table>\n",
    "\n",
    "<table><tr><td bgcolor=#ffb6b9>2019夏季後：SMG在升降賽失利，將於2020春季退出聯賽，由MOP加入；TXO宣布退出聯賽。</td></tr></table>\n"
   ]
  },
  {
   "cell_type": "code",
   "execution_count": 37,
   "metadata": {},
   "outputs": [
    {
     "data": {
      "text/plain": [
       "Text(0.5, 1.0, '隊伍數量圖')"
      ]
     },
     "execution_count": 37,
     "metadata": {},
     "output_type": "execute_result"
    },
    {
     "data": {
      "image/png": "[encoded data removed]",
      "text/plain": [
       "<Figure size 432x288 with 1 Axes>"
      ]
     },
     "metadata": {
      "needs_background": "light"
     },
     "output_type": "display_data"
    }
   ],
   "source": [
    "### 隊伍數量變化長條圖\n",
    "\n",
    "x = [\"2017Sum\",\"2018Spr\",\"2018Sum\",\"2019Spr\",\"2019Sum\",\"2020Spr(E)\"]\n",
    "Teams=[7,7,8,7,7,6]\n",
    "plt.bar(x,Teams,width=0.5,fc='#ffb6b9')\n",
    "\n",
    "plt.xlabel(\"季度\",fontproperties=\"Microsoft JhengHei\")\n",
    "plt.ylabel(\"隊伍數\",fontproperties=\"Microsoft JhengHei\")\n",
    "plt.title(\"隊伍數量圖\",fontproperties=\"Microsoft JhengHei\")\n"
   ]
  },
  {
   "cell_type": "code",
   "execution_count": 38,
   "metadata": {},
   "outputs": [
    {
     "name": "stdout",
     "output_type": "stream",
     "text": [
      "歷史賽季隊伍列表查詢\n"
     ]
    },
    {
     "data": {
      "application/vnd.jupyter.widget-view+json": {
       "model_id": "906a434b3d80466894dd447fd28801dd",
       "version_major": 2,
       "version_minor": 0
      },
      "text/plain": [
       "interactive(children=(Dropdown(description='隊伍', options={'2017夏季': 'SMG、ST、HKA、JT、AHQR、AHQW、MS', '2018春季': 'S…"
      ]
     },
     "metadata": {},
     "output_type": "display_data"
    },
    {
     "data": {
      "text/plain": [
       "<function __main__.teams(隊伍)>"
      ]
     },
     "execution_count": 38,
     "metadata": {},
     "output_type": "execute_result"
    }
   ],
   "source": [
    "### 歷史賽季隊伍列表查詢\n",
    "\n",
    "from ipywidgets import interact\n",
    "\n",
    "print(\"歷史賽季隊伍列表查詢\")\n",
    "\n",
    "def teams(隊伍):\n",
    "    print(\"該季隊伍\")\n",
    "    print(隊伍)\n",
    "\n",
    "interact(teams, 隊伍= {\"2017夏季\":\"SMG、ST、HKA、JT、AHQR、AHQW、MS\",\"2018春季\":\"SMG、ST、HKA、JT、AHQR、MAD、MS\",\"2018夏季\":\"SMG、ONE、HKA、JT、AHQ、MAD、MS、FW\", \"2019春季\":\"SMG、ONE、HKA、MAD、NVM、FW、TXO\", \"2019夏季\":\"SMG、ONE、HKA、MAD、FW、TXO\"})"
   ]
  },
  {
   "cell_type": "markdown",
   "metadata": {},
   "source": [
    "### 0-C 為什麼選擇了GCS"
   ]
  },
  {
   "cell_type": "code",
   "execution_count": 54,
   "metadata": {},
   "outputs": [
    {
     "name": "stdout",
     "output_type": "stream",
     "text": [
      "賽事層級由低至高分別為：普通玩家→業餘賽→城市賽→升降賽→職業賽(GCS)→國際賽(AIC&AWC)\n"
     ]
    },
    {
     "name": "stderr",
     "output_type": "stream",
     "text": [
      "C:\\Users\\USER\\Anaconda3\\lib\\site-packages\\ipykernel_launcher.py:17: UserWarning: The following kwargs were not used by contour: 'linewidth'\n"
     ]
    },
    {
     "data": {
      "image/png": "[encoded data removed]",
      "text/plain": [
       "<Figure size 432x288 with 1 Axes>"
      ]
     },
     "metadata": {
      "needs_background": "light"
     },
     "output_type": "display_data"
    }
   ],
   "source": [
    "#用contourf做賽制示意圖\n",
    "\n",
    "from mpl_toolkits.mplot3d import Axes3D\n",
    "\n",
    "ax = Axes3D(plt.figure())\n",
    "\n",
    "def f(x, y):\n",
    "    return (1 - x / 3 + x**2 + y**2) * np.exp(- x**2 - y**2)\n",
    "\n",
    "\n",
    "x = np.linspace(-2, 4, 100)\n",
    "y = np.linspace(-2, 4, 100)\n",
    "\n",
    "X, Y = np.meshgrid(x, y)\n",
    "\n",
    "plt.contourf(X, Y, f(X, Y), 5, cmap=\"gray\")\n",
    "C = plt.contour(X, Y, f(X, Y), 5, colors = 'black', linewidth = 0.3)\n",
    "plt.axis('off')\n",
    "\n",
    "print(\"賽事層級由低至高分別為：普通玩家→業餘賽→城市賽→升降賽→職業賽(GCS)→國際賽(AIC&AWC)\")\n",
    "\n",
    "#遇到的困難：原本想在等高線標籤上直接標出賽事層級，不過文字呈現標籤查詢嘗試數種方式都不太滿意，最後還是只能決定另外print"
   ]
  },
  {
   "cell_type": "markdown",
   "metadata": {},
   "source": [
    "如賽制所示，GCS是僅次於國際賽事的職業殿堂，並且，從下圖的各賽區的國際賽冠軍次數分布可以看到，GCS賽區目前仍是最具競爭力的賽區之一。"
   ]
  },
  {
   "cell_type": "code",
   "execution_count": 57,
   "metadata": {},
   "outputs": [
    {
     "data": {
      "image/png": "[encoded data removed]",
      "text/plain": [
       "<Figure size 432x288 with 1 Axes>"
      ]
     },
     "metadata": {
      "needs_background": "light"
     },
     "output_type": "display_data"
    }
   ],
   "source": [
    "#用雷達圖畫出各賽區國際賽冠軍次數呈現賽區競爭力\n",
    "\n",
    "#雷達圖五角名稱\n",
    "labels = np.array(['AOG(越南)','GCS(台港澳)','RPL(泰國)','KR(韓國)','Others'])\n",
    "#雷達圖有五個角\n",
    "dataLenth = 5\n",
    "\n",
    "#數據：各賽區冠軍次數\n",
    "data = np.array([2,2,1,1,0])\n",
    "\n",
    "angles = np.linspace(0, 2*np.pi, dataLenth, endpoint=False)\n",
    "data = np.concatenate((data, [data[0]]))\n",
    "angles = np.concatenate((angles, [angles[0]]))\n",
    "\n",
    "fig = plt.figure()\n",
    "ax = fig.add_subplot(polar=True)\n",
    "ax.plot(angles, data, 'black', linewidth=2)\n",
    "ax.fill(angles, data, facecolor='#ffb6b9')\n",
    "\n",
    "#雷達圖六角與標題文字\n",
    "ax.set_thetagrids(angles * 180/np.pi, labels,fontproperties=\"Microsoft JhengHei\")\n",
    "ax.set_title(\"賽區強度分布\",fontproperties=\"Microsoft JhengHei\")\n",
    "\n",
    "#雷達圖刻度從零到五\n",
    "ax.set_rlim(0,5)\n",
    "ax.grid(True)\n",
    "\n",
    "plt.show()"
   ]
  },
  {
   "cell_type": "markdown",
   "metadata": {},
   "source": [
    "之所以從平常觀看的幾個賽事裡最後選擇GCS，除了因為對台港澳賽區最是熟悉，也是因為GCS的賽區競爭力強，在其中數據頂尖的選手放到國際賽、乃至整個遊戲，常常有很出色的表現值得觀察。"
   ]
  },
  {
   "cell_type": "markdown",
   "metadata": {},
   "source": [
    "## 1.數據匯入與初步整理"
   ]
  },
  {
   "cell_type": "markdown",
   "metadata": {},
   "source": [
    "數據：GCS 2018-2019(共四季數據)\n",
    "(來源：官網公開資料&自己整理的Excel，有一些自己平日整理的資料所以沒有直接用爬蟲，而是將整理好的Excel改存成csv檔)"
   ]
  },
  {
   "cell_type": "code",
   "execution_count": 4,
   "metadata": {},
   "outputs": [
    {
     "data": {
      "text/html": [
       "<div>\n",
       "<style scoped>\n",
       "    .dataframe tbody tr th:only-of-type {\n",
       "        vertical-align: middle;\n",
       "    }\n",
       "\n",
       "    .dataframe tbody tr th {\n",
       "        vertical-align: top;\n",
       "    }\n",
       "\n",
       "    .dataframe thead th {\n",
       "        text-align: right;\n",
       "    }\n",
       "</style>\n",
       "<table border=\"1\" class=\"dataframe\">\n",
       "  <thead>\n",
       "    <tr style=\"text-align: right;\">\n",
       "      <th></th>\n",
       "      <th>Unnamed: 0</th>\n",
       "      <th>Unnamed: 1</th>\n",
       "      <th>Unnamed: 2</th>\n",
       "      <th>Unnamed: 3</th>\n",
       "      <th>KDA</th>\n",
       "      <th>擊殺</th>\n",
       "      <th>助攻</th>\n",
       "    </tr>\n",
       "  </thead>\n",
       "  <tbody>\n",
       "    <tr>\n",
       "      <th>0</th>\n",
       "      <td>2019</td>\n",
       "      <td>夏季</td>\n",
       "      <td>ONE</td>\n",
       "      <td>BaiYa</td>\n",
       "      <td>∞</td>\n",
       "      <td>3</td>\n",
       "      <td>10</td>\n",
       "    </tr>\n",
       "    <tr>\n",
       "      <th>1</th>\n",
       "      <td>2019</td>\n",
       "      <td>夏季</td>\n",
       "      <td>ONE</td>\n",
       "      <td>YuXiao</td>\n",
       "      <td>∞</td>\n",
       "      <td>2</td>\n",
       "      <td>3</td>\n",
       "    </tr>\n",
       "    <tr>\n",
       "      <th>2</th>\n",
       "      <td>2019</td>\n",
       "      <td>夏季</td>\n",
       "      <td>MAD</td>\n",
       "      <td>Winds</td>\n",
       "      <td>20</td>\n",
       "      <td>6</td>\n",
       "      <td>14</td>\n",
       "    </tr>\n",
       "    <tr>\n",
       "      <th>3</th>\n",
       "      <td>2019</td>\n",
       "      <td>夏季</td>\n",
       "      <td>HKA</td>\n",
       "      <td>TheMan</td>\n",
       "      <td>7.37</td>\n",
       "      <td>142</td>\n",
       "      <td>175</td>\n",
       "    </tr>\n",
       "    <tr>\n",
       "      <th>4</th>\n",
       "      <td>2019</td>\n",
       "      <td>夏季</td>\n",
       "      <td>ONE</td>\n",
       "      <td>HuaLin</td>\n",
       "      <td>6.69</td>\n",
       "      <td>105</td>\n",
       "      <td>236</td>\n",
       "    </tr>\n",
       "  </tbody>\n",
       "</table>\n",
       "</div>"
      ],
      "text/plain": [
       "   Unnamed: 0 Unnamed: 1 Unnamed: 2 Unnamed: 3   KDA   擊殺   助攻\n",
       "0        2019         夏季        ONE      BaiYa     ∞    3   10\n",
       "1        2019         夏季        ONE     YuXiao     ∞    2    3\n",
       "2        2019         夏季        MAD      Winds    20    6   14\n",
       "3        2019         夏季        HKA     TheMan  7.37  142  175\n",
       "4        2019         夏季        ONE     HuaLin  6.69  105  236"
      ]
     },
     "execution_count": 4,
     "metadata": {},
     "output_type": "execute_result"
    }
   ],
   "source": [
    "#匯入\n",
    "\n",
    "df1=pd.read_csv(\"GCS.csv\",encoding=\"big5\")\n",
    "df1.head()"
   ]
  },
  {
   "cell_type": "code",
   "execution_count": 6,
   "metadata": {},
   "outputs": [],
   "source": [
    "#重新命名\n",
    "\n",
    "df1.rename(columns={'Unnamed: 0':'年度','Unnamed: 1':'季度','Unnamed: 2':'隊伍','Unnamed: 3':'選手'}, inplace=True)"
   ]
  },
  {
   "cell_type": "code",
   "execution_count": 7,
   "metadata": {},
   "outputs": [
    {
     "data": {
      "text/html": [
       "<div>\n",
       "<style scoped>\n",
       "    .dataframe tbody tr th:only-of-type {\n",
       "        vertical-align: middle;\n",
       "    }\n",
       "\n",
       "    .dataframe tbody tr th {\n",
       "        vertical-align: top;\n",
       "    }\n",
       "\n",
       "    .dataframe thead th {\n",
       "        text-align: right;\n",
       "    }\n",
       "</style>\n",
       "<table border=\"1\" class=\"dataframe\">\n",
       "  <thead>\n",
       "    <tr style=\"text-align: right;\">\n",
       "      <th></th>\n",
       "      <th>年度</th>\n",
       "      <th>季度</th>\n",
       "      <th>隊伍</th>\n",
       "      <th>選手</th>\n",
       "      <th>KDA</th>\n",
       "      <th>擊殺</th>\n",
       "      <th>助攻</th>\n",
       "    </tr>\n",
       "  </thead>\n",
       "  <tbody>\n",
       "    <tr>\n",
       "      <th>0</th>\n",
       "      <td>2019</td>\n",
       "      <td>夏季</td>\n",
       "      <td>ONE</td>\n",
       "      <td>BaiYa</td>\n",
       "      <td>∞</td>\n",
       "      <td>3</td>\n",
       "      <td>10</td>\n",
       "    </tr>\n",
       "    <tr>\n",
       "      <th>1</th>\n",
       "      <td>2019</td>\n",
       "      <td>夏季</td>\n",
       "      <td>ONE</td>\n",
       "      <td>YuXiao</td>\n",
       "      <td>∞</td>\n",
       "      <td>2</td>\n",
       "      <td>3</td>\n",
       "    </tr>\n",
       "    <tr>\n",
       "      <th>2</th>\n",
       "      <td>2019</td>\n",
       "      <td>夏季</td>\n",
       "      <td>MAD</td>\n",
       "      <td>Winds</td>\n",
       "      <td>20</td>\n",
       "      <td>6</td>\n",
       "      <td>14</td>\n",
       "    </tr>\n",
       "    <tr>\n",
       "      <th>3</th>\n",
       "      <td>2019</td>\n",
       "      <td>夏季</td>\n",
       "      <td>HKA</td>\n",
       "      <td>TheMan</td>\n",
       "      <td>7.37</td>\n",
       "      <td>142</td>\n",
       "      <td>175</td>\n",
       "    </tr>\n",
       "    <tr>\n",
       "      <th>4</th>\n",
       "      <td>2019</td>\n",
       "      <td>夏季</td>\n",
       "      <td>ONE</td>\n",
       "      <td>HuaLin</td>\n",
       "      <td>6.69</td>\n",
       "      <td>105</td>\n",
       "      <td>236</td>\n",
       "    </tr>\n",
       "  </tbody>\n",
       "</table>\n",
       "</div>"
      ],
      "text/plain": [
       "     年度  季度   隊伍      選手   KDA   擊殺   助攻\n",
       "0  2019  夏季  ONE   BaiYa     ∞    3   10\n",
       "1  2019  夏季  ONE  YuXiao     ∞    2    3\n",
       "2  2019  夏季  MAD   Winds    20    6   14\n",
       "3  2019  夏季  HKA  TheMan  7.37  142  175\n",
       "4  2019  夏季  ONE  HuaLin  6.69  105  236"
      ]
     },
     "execution_count": 7,
     "metadata": {},
     "output_type": "execute_result"
    }
   ],
   "source": [
    "df1.head()"
   ]
  },
  {
   "cell_type": "markdown",
   "metadata": {},
   "source": [
    "## 2. 數據分析"
   ]
  },
  {
   "cell_type": "markdown",
   "metadata": {},
   "source": [
    "### 2-1 擊殺數據"
   ]
  },
  {
   "cell_type": "code",
   "execution_count": 62,
   "metadata": {},
   "outputs": [],
   "source": [
    "總擊殺=df1['擊殺'].sum()\n",
    "平均擊殺=df1['擊殺'].mean()\n",
    "擊殺標準差=df1['擊殺'].std()"
   ]
  },
  {
   "cell_type": "code",
   "execution_count": 70,
   "metadata": {},
   "outputs": [
    {
     "name": "stdout",
     "output_type": "stream",
     "text": [
      "截至目前為止，聯賽總共累積了11768次擊殺，每個選手平均打出了60.97409326424871個擊殺數,不過由於各路位置與職責的不同，擊殺數存在著47.79158695501498的標準差\n"
     ]
    }
   ],
   "source": [
    "infor_K=f\"截至目前為止，聯賽總共累積了{總擊殺}次擊殺，每個選手平均打出了{平均擊殺}個擊殺數,不過由於各路位置與職責的不同，擊殺數存在著{擊殺標準差}的標準差\"\n",
    "\n",
    "print(infor_K)"
   ]
  },
  {
   "cell_type": "code",
   "execution_count": 67,
   "metadata": {},
   "outputs": [
    {
     "data": {
      "text/plain": [
       "Text(0.5, 0, 'Number of kill')"
      ]
     },
     "execution_count": 67,
     "metadata": {},
     "output_type": "execute_result"
    },
    {
     "name": "stderr",
     "output_type": "stream",
     "text": [
      "C:\\Users\\USER\\Anaconda3\\lib\\site-packages\\matplotlib\\backends\\backend_agg.py:211: RuntimeWarning: Glyph 25802 missing from current font.\n",
      "  font.set_text(s, 0.0, flags=flags)\n",
      "C:\\Users\\USER\\Anaconda3\\lib\\site-packages\\matplotlib\\backends\\backend_agg.py:211: RuntimeWarning: Glyph 27578 missing from current font.\n",
      "  font.set_text(s, 0.0, flags=flags)\n",
      "C:\\Users\\USER\\Anaconda3\\lib\\site-packages\\matplotlib\\backends\\backend_agg.py:180: RuntimeWarning: Glyph 25802 missing from current font.\n",
      "  font.set_text(s, 0, flags=flags)\n",
      "C:\\Users\\USER\\Anaconda3\\lib\\site-packages\\matplotlib\\backends\\backend_agg.py:180: RuntimeWarning: Glyph 27578 missing from current font.\n",
      "  font.set_text(s, 0, flags=flags)\n"
     ]
    },
    {
     "data": {
      "image/png": "[encoded data removed]",
      "text/plain": [
       "<Figure size 432x288 with 1 Axes>"
      ]
     },
     "metadata": {
      "needs_background": "light"
     },
     "output_type": "display_data"
    }
   ],
   "source": [
    "#用箱型圖檢視擊殺數據的分布\n",
    "\n",
    "fig,axes = plt.subplots()\n",
    "df1['擊殺'].plot(kind='box',ax=axes, title=\"Boxplot_Kill\", color='#ffb6b9')\n",
    "axes.set_xlabel('Kill')\n",
    "axes.set_xlabel('Number of kill')"
   ]
  },
  {
   "cell_type": "code",
   "execution_count": 71,
   "metadata": {},
   "outputs": [
    {
     "data": {
      "text/html": [
       "<div>\n",
       "<style scoped>\n",
       "    .dataframe tbody tr th:only-of-type {\n",
       "        vertical-align: middle;\n",
       "    }\n",
       "\n",
       "    .dataframe tbody tr th {\n",
       "        vertical-align: top;\n",
       "    }\n",
       "\n",
       "    .dataframe thead th {\n",
       "        text-align: right;\n",
       "    }\n",
       "</style>\n",
       "<table border=\"1\" class=\"dataframe\">\n",
       "  <thead>\n",
       "    <tr style=\"text-align: right;\">\n",
       "      <th></th>\n",
       "      <th>年度</th>\n",
       "      <th>季度</th>\n",
       "      <th>隊伍</th>\n",
       "      <th>選手</th>\n",
       "      <th>KDA</th>\n",
       "      <th>擊殺</th>\n",
       "      <th>助攻</th>\n",
       "    </tr>\n",
       "  </thead>\n",
       "  <tbody>\n",
       "    <tr>\n",
       "      <th>155</th>\n",
       "      <td>2018</td>\n",
       "      <td>春季</td>\n",
       "      <td>ONE</td>\n",
       "      <td>HuaLin</td>\n",
       "      <td>4.08</td>\n",
       "      <td>206</td>\n",
       "      <td>231</td>\n",
       "    </tr>\n",
       "  </tbody>\n",
       "</table>\n",
       "</div>"
      ],
      "text/plain": [
       "       年度  季度   隊伍      選手   KDA   擊殺   助攻\n",
       "155  2018  春季  ONE  HuaLin  4.08  206  231"
      ]
     },
     "execution_count": 71,
     "metadata": {},
     "output_type": "execute_result"
    }
   ],
   "source": [
    "#找出誰在單季創造了史上最多擊殺\n",
    "\n",
    "df1_sorted_K=df1.sort_values(by=[\"擊殺\"],ascending=False)\n",
    "df1_sorted_K[:1]"
   ]
  },
  {
   "cell_type": "markdown",
   "metadata": {},
   "source": [
    "## 2-2 KDA數據\n",
    "\n"
   ]
  },
  {
   "cell_type": "code",
   "execution_count": 72,
   "metadata": {},
   "outputs": [
    {
     "data": {
      "text/html": [
       "<div>\n",
       "<style scoped>\n",
       "    .dataframe tbody tr th:only-of-type {\n",
       "        vertical-align: middle;\n",
       "    }\n",
       "\n",
       "    .dataframe tbody tr th {\n",
       "        vertical-align: top;\n",
       "    }\n",
       "\n",
       "    .dataframe thead th {\n",
       "        text-align: right;\n",
       "    }\n",
       "</style>\n",
       "<table border=\"1\" class=\"dataframe\">\n",
       "  <thead>\n",
       "    <tr style=\"text-align: right;\">\n",
       "      <th></th>\n",
       "      <th>年度</th>\n",
       "      <th>季度</th>\n",
       "      <th>隊伍</th>\n",
       "      <th>選手</th>\n",
       "      <th>KDA</th>\n",
       "      <th>擊殺</th>\n",
       "      <th>助攻</th>\n",
       "    </tr>\n",
       "  </thead>\n",
       "  <tbody>\n",
       "    <tr>\n",
       "      <th>0</th>\n",
       "      <td>2019</td>\n",
       "      <td>夏季</td>\n",
       "      <td>ONE</td>\n",
       "      <td>BaiYa</td>\n",
       "      <td>∞</td>\n",
       "      <td>3</td>\n",
       "      <td>10</td>\n",
       "    </tr>\n",
       "    <tr>\n",
       "      <th>1</th>\n",
       "      <td>2019</td>\n",
       "      <td>夏季</td>\n",
       "      <td>ONE</td>\n",
       "      <td>YuXiao</td>\n",
       "      <td>∞</td>\n",
       "      <td>2</td>\n",
       "      <td>3</td>\n",
       "    </tr>\n",
       "    <tr>\n",
       "      <th>44</th>\n",
       "      <td>2019</td>\n",
       "      <td>春季</td>\n",
       "      <td>ONE</td>\n",
       "      <td>GoDDog</td>\n",
       "      <td>9.29</td>\n",
       "      <td>20</td>\n",
       "      <td>45</td>\n",
       "    </tr>\n",
       "    <tr>\n",
       "      <th>140</th>\n",
       "      <td>2018</td>\n",
       "      <td>春季</td>\n",
       "      <td>JT</td>\n",
       "      <td>Star</td>\n",
       "      <td>8.43</td>\n",
       "      <td>158</td>\n",
       "      <td>230</td>\n",
       "    </tr>\n",
       "    <tr>\n",
       "      <th>86</th>\n",
       "      <td>2018</td>\n",
       "      <td>夏季</td>\n",
       "      <td>JT</td>\n",
       "      <td>Star</td>\n",
       "      <td>8.1</td>\n",
       "      <td>96</td>\n",
       "      <td>155</td>\n",
       "    </tr>\n",
       "    <tr>\n",
       "      <th>3</th>\n",
       "      <td>2019</td>\n",
       "      <td>夏季</td>\n",
       "      <td>HKA</td>\n",
       "      <td>TheMan</td>\n",
       "      <td>7.37</td>\n",
       "      <td>142</td>\n",
       "      <td>175</td>\n",
       "    </tr>\n",
       "    <tr>\n",
       "      <th>4</th>\n",
       "      <td>2019</td>\n",
       "      <td>夏季</td>\n",
       "      <td>ONE</td>\n",
       "      <td>HuaLin</td>\n",
       "      <td>6.69</td>\n",
       "      <td>105</td>\n",
       "      <td>236</td>\n",
       "    </tr>\n",
       "    <tr>\n",
       "      <th>87</th>\n",
       "      <td>2018</td>\n",
       "      <td>夏季</td>\n",
       "      <td>SMG</td>\n",
       "      <td>Chichi</td>\n",
       "      <td>6.6</td>\n",
       "      <td>133</td>\n",
       "      <td>144</td>\n",
       "    </tr>\n",
       "    <tr>\n",
       "      <th>45</th>\n",
       "      <td>2019</td>\n",
       "      <td>春季</td>\n",
       "      <td>MAD</td>\n",
       "      <td>Star</td>\n",
       "      <td>6.44</td>\n",
       "      <td>89</td>\n",
       "      <td>188</td>\n",
       "    </tr>\n",
       "    <tr>\n",
       "      <th>88</th>\n",
       "      <td>2018</td>\n",
       "      <td>夏季</td>\n",
       "      <td>FW</td>\n",
       "      <td>XiXi</td>\n",
       "      <td>6.17</td>\n",
       "      <td>78</td>\n",
       "      <td>107</td>\n",
       "    </tr>\n",
       "  </tbody>\n",
       "</table>\n",
       "</div>"
      ],
      "text/plain": [
       "       年度  季度   隊伍      選手   KDA   擊殺   助攻\n",
       "0    2019  夏季  ONE   BaiYa     ∞    3   10\n",
       "1    2019  夏季  ONE  YuXiao     ∞    2    3\n",
       "44   2019  春季  ONE  GoDDog  9.29   20   45\n",
       "140  2018  春季   JT    Star  8.43  158  230\n",
       "86   2018  夏季   JT    Star   8.1   96  155\n",
       "3    2019  夏季  HKA  TheMan  7.37  142  175\n",
       "4    2019  夏季  ONE  HuaLin  6.69  105  236\n",
       "87   2018  夏季  SMG  Chichi   6.6  133  144\n",
       "45   2019  春季  MAD    Star  6.44   89  188\n",
       "88   2018  夏季   FW    XiXi  6.17   78  107"
      ]
     },
     "execution_count": 72,
     "metadata": {},
     "output_type": "execute_result"
    }
   ],
   "source": [
    "#找出KDA歷史排行前十的選手\n",
    "\n",
    "df1_sorted_KDA=df1.sort_values(by=[\"KDA\"],ascending=False)\n",
    "df1_sorted_KDA[:10]\n",
    "\n"
   ]
  },
  {
   "cell_type": "code",
   "execution_count": 74,
   "metadata": {},
   "outputs": [
    {
     "data": {
      "text/html": [
       "<div>\n",
       "<style scoped>\n",
       "    .dataframe tbody tr th:only-of-type {\n",
       "        vertical-align: middle;\n",
       "    }\n",
       "\n",
       "    .dataframe tbody tr th {\n",
       "        vertical-align: top;\n",
       "    }\n",
       "\n",
       "    .dataframe thead th {\n",
       "        text-align: right;\n",
       "    }\n",
       "</style>\n",
       "<table border=\"1\" class=\"dataframe\">\n",
       "  <thead>\n",
       "    <tr style=\"text-align: right;\">\n",
       "      <th></th>\n",
       "      <th>年度</th>\n",
       "      <th>季度</th>\n",
       "      <th>隊伍</th>\n",
       "      <th>選手</th>\n",
       "      <th>KDA</th>\n",
       "      <th>擊殺</th>\n",
       "      <th>助攻</th>\n",
       "    </tr>\n",
       "  </thead>\n",
       "  <tbody>\n",
       "    <tr>\n",
       "      <th>140</th>\n",
       "      <td>2018</td>\n",
       "      <td>春季</td>\n",
       "      <td>JT</td>\n",
       "      <td>Star</td>\n",
       "      <td>8.43</td>\n",
       "      <td>158</td>\n",
       "      <td>230</td>\n",
       "    </tr>\n",
       "    <tr>\n",
       "      <th>86</th>\n",
       "      <td>2018</td>\n",
       "      <td>夏季</td>\n",
       "      <td>JT</td>\n",
       "      <td>Star</td>\n",
       "      <td>8.1</td>\n",
       "      <td>96</td>\n",
       "      <td>155</td>\n",
       "    </tr>\n",
       "    <tr>\n",
       "      <th>3</th>\n",
       "      <td>2019</td>\n",
       "      <td>夏季</td>\n",
       "      <td>HKA</td>\n",
       "      <td>TheMan</td>\n",
       "      <td>7.37</td>\n",
       "      <td>142</td>\n",
       "      <td>175</td>\n",
       "    </tr>\n",
       "    <tr>\n",
       "      <th>4</th>\n",
       "      <td>2019</td>\n",
       "      <td>夏季</td>\n",
       "      <td>ONE</td>\n",
       "      <td>HuaLin</td>\n",
       "      <td>6.69</td>\n",
       "      <td>105</td>\n",
       "      <td>236</td>\n",
       "    </tr>\n",
       "    <tr>\n",
       "      <th>87</th>\n",
       "      <td>2018</td>\n",
       "      <td>夏季</td>\n",
       "      <td>SMG</td>\n",
       "      <td>Chichi</td>\n",
       "      <td>6.6</td>\n",
       "      <td>133</td>\n",
       "      <td>144</td>\n",
       "    </tr>\n",
       "    <tr>\n",
       "      <th>45</th>\n",
       "      <td>2019</td>\n",
       "      <td>春季</td>\n",
       "      <td>MAD</td>\n",
       "      <td>Star</td>\n",
       "      <td>6.44</td>\n",
       "      <td>89</td>\n",
       "      <td>188</td>\n",
       "    </tr>\n",
       "    <tr>\n",
       "      <th>88</th>\n",
       "      <td>2018</td>\n",
       "      <td>夏季</td>\n",
       "      <td>FW</td>\n",
       "      <td>XiXi</td>\n",
       "      <td>6.17</td>\n",
       "      <td>78</td>\n",
       "      <td>107</td>\n",
       "    </tr>\n",
       "    <tr>\n",
       "      <th>5</th>\n",
       "      <td>2019</td>\n",
       "      <td>夏季</td>\n",
       "      <td>NVM</td>\n",
       "      <td>KuKu</td>\n",
       "      <td>6.08</td>\n",
       "      <td>44</td>\n",
       "      <td>333</td>\n",
       "    </tr>\n",
       "    <tr>\n",
       "      <th>89</th>\n",
       "      <td>2018</td>\n",
       "      <td>夏季</td>\n",
       "      <td>ahq</td>\n",
       "      <td>Chaser</td>\n",
       "      <td>5.88</td>\n",
       "      <td>32</td>\n",
       "      <td>109</td>\n",
       "    </tr>\n",
       "    <tr>\n",
       "      <th>46</th>\n",
       "      <td>2019</td>\n",
       "      <td>春季</td>\n",
       "      <td>ONE</td>\n",
       "      <td>Fanta</td>\n",
       "      <td>5.77</td>\n",
       "      <td>39</td>\n",
       "      <td>307</td>\n",
       "    </tr>\n",
       "  </tbody>\n",
       "</table>\n",
       "</div>"
      ],
      "text/plain": [
       "       年度  季度   隊伍      選手   KDA   擊殺   助攻\n",
       "140  2018  春季   JT    Star  8.43  158  230\n",
       "86   2018  夏季   JT    Star   8.1   96  155\n",
       "3    2019  夏季  HKA  TheMan  7.37  142  175\n",
       "4    2019  夏季  ONE  HuaLin  6.69  105  236\n",
       "87   2018  夏季  SMG  Chichi   6.6  133  144\n",
       "45   2019  春季  MAD    Star  6.44   89  188\n",
       "88   2018  夏季   FW    XiXi  6.17   78  107\n",
       "5    2019  夏季  NVM    KuKu  6.08   44  333\n",
       "89   2018  夏季  ahq  Chaser  5.88   32  109\n",
       "46   2019  春季  ONE   Fanta  5.77   39  307"
      ]
     },
     "execution_count": 74,
     "metadata": {},
     "output_type": "execute_result"
    }
   ],
   "source": [
    "#遇到的困難：有的選手KDA極高(如此排行榜的前三名)是因為出賽場次極少，KDA計算公式為：擊殺+助攻/場次，導致他們的數據極大\n",
    "#解決的方法：因為原始數據中並沒有紀錄每個選手各自的出賽場次，所以無法用篩選剔除，考量到筆數很少，這裡先用手動剔除\n",
    "#調整後的新排行榜如下\n",
    "\n",
    "df1_new=df1.drop(index=[0, 1, 44])\n",
    "df1_sorted_KDA_new=df1_new.sort_values(by=[\"KDA\"],ascending=False)\n",
    "df1_sorted_KDA_new[:10]"
   ]
  },
  {
   "cell_type": "markdown",
   "metadata": {},
   "source": [
    "## 3. 查找數據"
   ]
  },
  {
   "cell_type": "markdown",
   "metadata": {},
   "source": [
    "### 3.1 用隊伍查找數據"
   ]
  },
  {
   "cell_type": "code",
   "execution_count": 78,
   "metadata": {},
   "outputs": [
    {
     "name": "stdout",
     "output_type": "stream",
     "text": [
      "請輸入隊伍名稱：SMG\n"
     ]
    },
    {
     "data": {
      "text/html": [
       "<div>\n",
       "<style scoped>\n",
       "    .dataframe tbody tr th:only-of-type {\n",
       "        vertical-align: middle;\n",
       "    }\n",
       "\n",
       "    .dataframe tbody tr th {\n",
       "        vertical-align: top;\n",
       "    }\n",
       "\n",
       "    .dataframe thead th {\n",
       "        text-align: right;\n",
       "    }\n",
       "</style>\n",
       "<table border=\"1\" class=\"dataframe\">\n",
       "  <thead>\n",
       "    <tr style=\"text-align: right;\">\n",
       "      <th></th>\n",
       "      <th>年度</th>\n",
       "      <th>季度</th>\n",
       "      <th>隊伍</th>\n",
       "      <th>選手</th>\n",
       "      <th>KDA</th>\n",
       "      <th>擊殺</th>\n",
       "      <th>助攻</th>\n",
       "    </tr>\n",
       "  </thead>\n",
       "  <tbody>\n",
       "    <tr>\n",
       "      <th>79</th>\n",
       "      <td>2019</td>\n",
       "      <td>春季</td>\n",
       "      <td>SMG</td>\n",
       "      <td>Xiao</td>\n",
       "      <td>1.34</td>\n",
       "      <td>69</td>\n",
       "      <td>88</td>\n",
       "    </tr>\n",
       "    <tr>\n",
       "      <th>39</th>\n",
       "      <td>2019</td>\n",
       "      <td>夏季</td>\n",
       "      <td>SMG</td>\n",
       "      <td>Ray</td>\n",
       "      <td>1.35</td>\n",
       "      <td>8</td>\n",
       "      <td>73</td>\n",
       "    </tr>\n",
       "    <tr>\n",
       "      <th>82</th>\n",
       "      <td>2019</td>\n",
       "      <td>春季</td>\n",
       "      <td>SMG</td>\n",
       "      <td>QianYo</td>\n",
       "      <td>1.09</td>\n",
       "      <td>8</td>\n",
       "      <td>30</td>\n",
       "    </tr>\n",
       "    <tr>\n",
       "      <th>38</th>\n",
       "      <td>2019</td>\n",
       "      <td>夏季</td>\n",
       "      <td>SMG</td>\n",
       "      <td>Peanut</td>\n",
       "      <td>1.52</td>\n",
       "      <td>38</td>\n",
       "      <td>93</td>\n",
       "    </tr>\n",
       "    <tr>\n",
       "      <th>81</th>\n",
       "      <td>2019</td>\n",
       "      <td>春季</td>\n",
       "      <td>SMG</td>\n",
       "      <td>Peanut</td>\n",
       "      <td>1.16</td>\n",
       "      <td>25</td>\n",
       "      <td>27</td>\n",
       "    </tr>\n",
       "    <tr>\n",
       "      <th>34</th>\n",
       "      <td>2019</td>\n",
       "      <td>夏季</td>\n",
       "      <td>SMG</td>\n",
       "      <td>Nnn</td>\n",
       "      <td>1.89</td>\n",
       "      <td>8</td>\n",
       "      <td>60</td>\n",
       "    </tr>\n",
       "    <tr>\n",
       "      <th>78</th>\n",
       "      <td>2019</td>\n",
       "      <td>春季</td>\n",
       "      <td>SMG</td>\n",
       "      <td>Mid</td>\n",
       "      <td>1.45</td>\n",
       "      <td>30</td>\n",
       "      <td>135</td>\n",
       "    </tr>\n",
       "    <tr>\n",
       "      <th>36</th>\n",
       "      <td>2019</td>\n",
       "      <td>夏季</td>\n",
       "      <td>SMG</td>\n",
       "      <td>Kato</td>\n",
       "      <td>1.84</td>\n",
       "      <td>75</td>\n",
       "      <td>107</td>\n",
       "    </tr>\n",
       "    <tr>\n",
       "      <th>80</th>\n",
       "      <td>2019</td>\n",
       "      <td>春季</td>\n",
       "      <td>SMG</td>\n",
       "      <td>Kato</td>\n",
       "      <td>1.3</td>\n",
       "      <td>5</td>\n",
       "      <td>21</td>\n",
       "    </tr>\n",
       "    <tr>\n",
       "      <th>41</th>\n",
       "      <td>2019</td>\n",
       "      <td>夏季</td>\n",
       "      <td>SMG</td>\n",
       "      <td>Juan</td>\n",
       "      <td>0.46</td>\n",
       "      <td>6</td>\n",
       "      <td>25</td>\n",
       "    </tr>\n",
       "    <tr>\n",
       "      <th>83</th>\n",
       "      <td>2019</td>\n",
       "      <td>春季</td>\n",
       "      <td>SMG</td>\n",
       "      <td>Joey</td>\n",
       "      <td>1.08</td>\n",
       "      <td>38</td>\n",
       "      <td>58</td>\n",
       "    </tr>\n",
       "    <tr>\n",
       "      <th>33</th>\n",
       "      <td>2019</td>\n",
       "      <td>夏季</td>\n",
       "      <td>SMG</td>\n",
       "      <td>Hong</td>\n",
       "      <td>1.89</td>\n",
       "      <td>51</td>\n",
       "      <td>123</td>\n",
       "    </tr>\n",
       "    <tr>\n",
       "      <th>75</th>\n",
       "      <td>2019</td>\n",
       "      <td>春季</td>\n",
       "      <td>SMG</td>\n",
       "      <td>Hong</td>\n",
       "      <td>1.62</td>\n",
       "      <td>51</td>\n",
       "      <td>95</td>\n",
       "    </tr>\n",
       "    <tr>\n",
       "      <th>76</th>\n",
       "      <td>2019</td>\n",
       "      <td>春季</td>\n",
       "      <td>SMG</td>\n",
       "      <td>DinDin</td>\n",
       "      <td>1.5</td>\n",
       "      <td>19</td>\n",
       "      <td>26</td>\n",
       "    </tr>\n",
       "    <tr>\n",
       "      <th>37</th>\n",
       "      <td>2019</td>\n",
       "      <td>夏季</td>\n",
       "      <td>SMG</td>\n",
       "      <td>DanDan</td>\n",
       "      <td>1.71</td>\n",
       "      <td>69</td>\n",
       "      <td>92</td>\n",
       "    </tr>\n",
       "    <tr>\n",
       "      <th>148</th>\n",
       "      <td>2018</td>\n",
       "      <td>春季</td>\n",
       "      <td>SMG</td>\n",
       "      <td>Wayn</td>\n",
       "      <td>4.46</td>\n",
       "      <td>30</td>\n",
       "      <td>77</td>\n",
       "    </tr>\n",
       "    <tr>\n",
       "      <th>92</th>\n",
       "      <td>2018</td>\n",
       "      <td>夏季</td>\n",
       "      <td>SMG</td>\n",
       "      <td>Sirenia</td>\n",
       "      <td>4.66</td>\n",
       "      <td>58</td>\n",
       "      <td>147</td>\n",
       "    </tr>\n",
       "    <tr>\n",
       "      <th>153</th>\n",
       "      <td>2018</td>\n",
       "      <td>春季</td>\n",
       "      <td>SMG</td>\n",
       "      <td>Sirenia</td>\n",
       "      <td>4.19</td>\n",
       "      <td>63</td>\n",
       "      <td>155</td>\n",
       "    </tr>\n",
       "    <tr>\n",
       "      <th>119</th>\n",
       "      <td>2018</td>\n",
       "      <td>夏季</td>\n",
       "      <td>SMG</td>\n",
       "      <td>Liang</td>\n",
       "      <td>2.56</td>\n",
       "      <td>60</td>\n",
       "      <td>150</td>\n",
       "    </tr>\n",
       "    <tr>\n",
       "      <th>160</th>\n",
       "      <td>2018</td>\n",
       "      <td>春季</td>\n",
       "      <td>SMG</td>\n",
       "      <td>Liang</td>\n",
       "      <td>3.55</td>\n",
       "      <td>105</td>\n",
       "      <td>246</td>\n",
       "    </tr>\n",
       "    <tr>\n",
       "      <th>107</th>\n",
       "      <td>2018</td>\n",
       "      <td>夏季</td>\n",
       "      <td>SMG</td>\n",
       "      <td>Hanzo</td>\n",
       "      <td>3.58</td>\n",
       "      <td>101</td>\n",
       "      <td>153</td>\n",
       "    </tr>\n",
       "    <tr>\n",
       "      <th>145</th>\n",
       "      <td>2018</td>\n",
       "      <td>春季</td>\n",
       "      <td>SMG</td>\n",
       "      <td>Hanzo</td>\n",
       "      <td>4.62</td>\n",
       "      <td>190</td>\n",
       "      <td>230</td>\n",
       "    </tr>\n",
       "    <tr>\n",
       "      <th>102</th>\n",
       "      <td>2018</td>\n",
       "      <td>夏季</td>\n",
       "      <td>SMG</td>\n",
       "      <td>Genji</td>\n",
       "      <td>3.85</td>\n",
       "      <td>30</td>\n",
       "      <td>232</td>\n",
       "    </tr>\n",
       "    <tr>\n",
       "      <th>144</th>\n",
       "      <td>2018</td>\n",
       "      <td>春季</td>\n",
       "      <td>SMG</td>\n",
       "      <td>Genji</td>\n",
       "      <td>4.92</td>\n",
       "      <td>48</td>\n",
       "      <td>336</td>\n",
       "    </tr>\n",
       "    <tr>\n",
       "      <th>87</th>\n",
       "      <td>2018</td>\n",
       "      <td>夏季</td>\n",
       "      <td>SMG</td>\n",
       "      <td>Chichi</td>\n",
       "      <td>6.6</td>\n",
       "      <td>133</td>\n",
       "      <td>144</td>\n",
       "    </tr>\n",
       "    <tr>\n",
       "      <th>156</th>\n",
       "      <td>2018</td>\n",
       "      <td>春季</td>\n",
       "      <td>SMG</td>\n",
       "      <td>Chichi</td>\n",
       "      <td>4.05</td>\n",
       "      <td>120</td>\n",
       "      <td>216</td>\n",
       "    </tr>\n",
       "  </tbody>\n",
       "</table>\n",
       "</div>"
      ],
      "text/plain": [
       "       年度  季度   隊伍       選手   KDA   擊殺   助攻\n",
       "79   2019  春季  SMG     Xiao  1.34   69   88\n",
       "39   2019  夏季  SMG      Ray  1.35    8   73\n",
       "82   2019  春季  SMG   QianYo  1.09    8   30\n",
       "38   2019  夏季  SMG   Peanut  1.52   38   93\n",
       "81   2019  春季  SMG   Peanut  1.16   25   27\n",
       "34   2019  夏季  SMG      Nnn  1.89    8   60\n",
       "78   2019  春季  SMG      Mid  1.45   30  135\n",
       "36   2019  夏季  SMG     Kato  1.84   75  107\n",
       "80   2019  春季  SMG     Kato   1.3    5   21\n",
       "41   2019  夏季  SMG     Juan  0.46    6   25\n",
       "83   2019  春季  SMG     Joey  1.08   38   58\n",
       "33   2019  夏季  SMG     Hong  1.89   51  123\n",
       "75   2019  春季  SMG     Hong  1.62   51   95\n",
       "76   2019  春季  SMG   DinDin   1.5   19   26\n",
       "37   2019  夏季  SMG   DanDan  1.71   69   92\n",
       "148  2018  春季  SMG     Wayn  4.46   30   77\n",
       "92   2018  夏季  SMG  Sirenia  4.66   58  147\n",
       "153  2018  春季  SMG  Sirenia  4.19   63  155\n",
       "119  2018  夏季  SMG    Liang  2.56   60  150\n",
       "160  2018  春季  SMG    Liang  3.55  105  246\n",
       "107  2018  夏季  SMG    Hanzo  3.58  101  153\n",
       "145  2018  春季  SMG    Hanzo  4.62  190  230\n",
       "102  2018  夏季  SMG    Genji  3.85   30  232\n",
       "144  2018  春季  SMG    Genji  4.92   48  336\n",
       "87   2018  夏季  SMG   Chichi   6.6  133  144\n",
       "156  2018  春季  SMG   Chichi  4.05  120  216"
      ]
     },
     "execution_count": 78,
     "metadata": {},
     "output_type": "execute_result"
    }
   ],
   "source": [
    "#用隊伍名字篩選資料後，按照年度以及選手排序\n",
    "\n",
    "team=input(\"請輸入隊伍名稱：\")\n",
    "dfteam=df1[df1.隊伍 == team]\n",
    "dfteam.sort_values(by=[\"年度\",\"選手\"],ascending=False)"
   ]
  },
  {
   "cell_type": "code",
   "execution_count": 79,
   "metadata": {},
   "outputs": [],
   "source": [
    "#遇到的困難：考慮到有的選手在不同賽季有轉隊情形，要查看他的歷史數據資料用隊伍查找不一定方便\n",
    "#解決的方法：試著也用選手名字查找"
   ]
  },
  {
   "cell_type": "code",
   "execution_count": 8,
   "metadata": {},
   "outputs": [
    {
     "name": "stdout",
     "output_type": "stream",
     "text": [
      "請輸入選手名稱：Wayn\n"
     ]
    },
    {
     "data": {
      "text/html": [
       "<div>\n",
       "<style scoped>\n",
       "    .dataframe tbody tr th:only-of-type {\n",
       "        vertical-align: middle;\n",
       "    }\n",
       "\n",
       "    .dataframe tbody tr th {\n",
       "        vertical-align: top;\n",
       "    }\n",
       "\n",
       "    .dataframe thead th {\n",
       "        text-align: right;\n",
       "    }\n",
       "</style>\n",
       "<table border=\"1\" class=\"dataframe\">\n",
       "  <thead>\n",
       "    <tr style=\"text-align: right;\">\n",
       "      <th></th>\n",
       "      <th>年度</th>\n",
       "      <th>季度</th>\n",
       "      <th>隊伍</th>\n",
       "      <th>選手</th>\n",
       "      <th>KDA</th>\n",
       "      <th>擊殺</th>\n",
       "      <th>助攻</th>\n",
       "    </tr>\n",
       "  </thead>\n",
       "  <tbody>\n",
       "    <tr>\n",
       "      <th>12</th>\n",
       "      <td>2019</td>\n",
       "      <td>夏季</td>\n",
       "      <td>FW</td>\n",
       "      <td>Wayn</td>\n",
       "      <td>4.36</td>\n",
       "      <td>124</td>\n",
       "      <td>133</td>\n",
       "    </tr>\n",
       "    <tr>\n",
       "      <th>67</th>\n",
       "      <td>2019</td>\n",
       "      <td>春季</td>\n",
       "      <td>FW</td>\n",
       "      <td>Wayn</td>\n",
       "      <td>2.54</td>\n",
       "      <td>83</td>\n",
       "      <td>123</td>\n",
       "    </tr>\n",
       "    <tr>\n",
       "      <th>100</th>\n",
       "      <td>2018</td>\n",
       "      <td>夏季</td>\n",
       "      <td>FW</td>\n",
       "      <td>Wayn</td>\n",
       "      <td>3.91</td>\n",
       "      <td>103</td>\n",
       "      <td>108</td>\n",
       "    </tr>\n",
       "    <tr>\n",
       "      <th>148</th>\n",
       "      <td>2018</td>\n",
       "      <td>春季</td>\n",
       "      <td>SMG</td>\n",
       "      <td>Wayn</td>\n",
       "      <td>4.46</td>\n",
       "      <td>30</td>\n",
       "      <td>77</td>\n",
       "    </tr>\n",
       "  </tbody>\n",
       "</table>\n",
       "</div>"
      ],
      "text/plain": [
       "       年度  季度   隊伍    選手   KDA   擊殺   助攻\n",
       "12   2019  夏季   FW  Wayn  4.36  124  133\n",
       "67   2019  春季   FW  Wayn  2.54   83  123\n",
       "100  2018  夏季   FW  Wayn  3.91  103  108\n",
       "148  2018  春季  SMG  Wayn  4.46   30   77"
      ]
     },
     "execution_count": 8,
     "metadata": {},
     "output_type": "execute_result"
    }
   ],
   "source": [
    "player=input(\"請輸入選手名稱：\")\n",
    "dfplayer=df1[df1.選手 == player]\n",
    "\n",
    "dfplayer.head()"
   ]
  },
  {
   "cell_type": "markdown",
   "metadata": {},
   "source": [
    "## 4. 結論"
   ]
  },
  {
   "cell_type": "markdown",
   "metadata": {},
   "source": [
    "### 4.1 個人學習重點\n",
    "\n",
    "會選擇數學軟體應用這門課，起因是因為在財經社團要自製圖表時，時常需要抓動輒十年的經濟數據，自己原本的方法要做到有些麻煩，看到學長姊會用Python繪製，所以這學期個人花了最多心思的學習重點，在於：\n",
    "\n",
    "1. 數據分析\n",
    "2. 圖表視覺化"
   ]
  },
  {
   "cell_type": "markdown",
   "metadata": {},
   "source": [
    "在期末專題中，我原先希望做到：\n",
    "\n",
    "1. 能分析自己有興趣的數據\n",
    "2. 能將想呈現的數據視覺化"
   ]
  },
  {
   "cell_type": "markdown",
   "metadata": {},
   "source": [
    "### 4.2 遇到的問題"
   ]
  },
  {
   "cell_type": "markdown",
   "metadata": {},
   "source": [
    "不過，在製作期末專題的過程中，我遇到的問題主要在於：\n",
    "\n",
    "1. 數據太少\n",
    "2. 數據不夠完整"
   ]
  },
  {
   "cell_type": "markdown",
   "metadata": {},
   "source": [
    "1. 缺失點：以上使用的資料大多來自官網公開資料，最細僅到單一季度的選手數據，但我一開始沒有考量到GCS的賽事年齡尚短(僅有四季數據)\n",
    "\n",
    "\n",
    "2. 導致的問題：\n",
    "    - 原先有想過用選手數據與隊伍賽季成績間做統計、乃至預測，但由於只有季數據樣本實在太少，最後認為即使做出統計上的顯著，實質上意義也不大，因而沒有用上這學期教的迴歸分析技巧，有點可惜\n",
    "    - 在擊殺數、KDA等部分，會因為選手打的位置而有所不同(像是輔助位擊殺數就會比較少、死亡數比較多)，但數據上並沒有分類，沒有考量好這方面的影響\n",
    "   \n",
    "   \n",
    "3. 可以改進的地方：數據收集上需要調整的地方包含\n",
    "    - 收集選手出賽場次(解決KDA排行榜遇到的問題)\n",
    "    - 分類選手位置\n",
    "    - 可以將數據蒐集的單位切分更細成為每一場，讓樣本數變多，如此一來，也可以觀察使用不同英雄的頻率與勝率、或處於紅方藍方等，是否會影響勝敗，進而從數據看出更多資訊"
   ]
  },
  {
   "cell_type": "markdown",
   "metadata": {},
   "source": [
    "### 4.3 感想與展望"
   ]
  },
  {
   "cell_type": "markdown",
   "metadata": {},
   "source": [
    "作業練習時通常都是用現成的數據集，反而是真的到了期末專題，使用自己做的數據遇到問題後，才發現程式在其中扮演的角色是工具，在過程中能幫助我們更有效率的去達成這一切，但巧婦難為無米之炊，在數據有缺陷的情況下，就要去做分析等等，實際上並沒有太大的意義。學好分析數據、視覺化數據之前，第一步其實是要先對數據本身，和統計的觀念有審慎的認識、挑選，才能夠去解釋其意義、了解自己想了解的事情。\n",
    "\n",
    "雖然目前用的都還只是很初步的技巧，但能夠真的在研究自己有興趣的事情時派上用場，是寫程式最有成就感的事情。\n",
    "\n",
    "就像這次途中發現數據哪裡不足、就打算再去補上，優化下一次的結果，真的就有可能藉由Python的幫助，自立自強的去紀錄、分析這些數據，並且可能在看比賽時派上用場，像是發現隊伍的強弱點、甚至做出各種情況的勝敗預測。\n",
    "\n",
    "之前一直覺得程式語言是很艱深無趣的知識，有點硬著頭皮為了職涯才決定學學看，但現在很希望能把對興趣的認真跟熱情結合程式，讓他是一件有趣而且實用的事情。"
   ]
  }
 ],
 "metadata": {
  "kernelspec": {
   "display_name": "Python 3",
   "language": "python",
   "name": "python3"
  },
  "language_info": {
   "codemirror_mode": {
    "name": "ipython",
    "version": 3
   },
   "file_extension": ".py",
   "mimetype": "text/x-python",
   "name": "python",
   "nbconvert_exporter": "python",
   "pygments_lexer": "ipython3",
   "version": "3.7.3"
  }
 },
 "nbformat": 4,
 "nbformat_minor": 2
}
