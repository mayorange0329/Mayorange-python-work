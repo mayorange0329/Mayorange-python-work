{
 "cells": [
  {
   "cell_type": "code",
   "execution_count": 4,
   "metadata": {},
   "outputs": [],
   "source": [
    "%matplotlib inline\n",
    "\n",
    "import numpy as np\n",
    "import matplotlib.pyplot as plt\n",
    "import pandas as pd"
   ]
  },
  {
   "cell_type": "code",
   "execution_count": 8,
   "metadata": {},
   "outputs": [
    {
     "data": {
      "text/plain": [
       "array([4, 7, 9, 5, 2])"
      ]
     },
     "execution_count": 8,
     "metadata": {},
     "output_type": "execute_result"
    }
   ],
   "source": [
    "np.random.randint(1,10,5)"
   ]
  },
  {
   "cell_type": "code",
   "execution_count": 10,
   "metadata": {},
   "outputs": [],
   "source": [
    "x=np.random.randn(100)"
   ]
  },
  {
   "cell_type": "code",
   "execution_count": 11,
   "metadata": {},
   "outputs": [
    {
     "data": {
      "text/plain": [
       "array([-7.21222083e-01,  9.23340985e-02,  2.67034762e+00,  1.03934560e+00,\n",
       "        6.70302487e-01,  9.63714849e-01, -1.85845821e+00, -3.63204882e-01,\n",
       "       -2.57789128e-01,  2.82447309e-01, -1.61859609e+00,  1.96508092e-01,\n",
       "       -1.22602859e+00,  1.97628591e+00,  2.59238191e-01,  3.20979071e-01,\n",
       "       -7.96675341e-02,  7.34953518e-02, -3.60108358e-01,  5.50311776e-02,\n",
       "        7.17738053e-01,  2.36764879e+00, -5.70090620e-01, -9.30116105e-01,\n",
       "        3.88257693e-01, -1.33707993e+00,  9.49048557e-01, -5.60968388e-01,\n",
       "       -2.05258008e-01, -2.45020548e-01, -6.59187493e-01,  1.66352744e+00,\n",
       "       -5.39644588e-01, -9.58682095e-01, -4.80134892e-01, -2.39127474e-01,\n",
       "        8.19348301e-01, -3.46855884e-01,  3.31314578e-01, -4.15559065e-01,\n",
       "       -6.59384176e-01, -1.89590449e+00,  1.43014858e-01, -1.02239281e+00,\n",
       "        1.20088348e+00,  4.23676276e-01,  3.24288487e-01,  1.45636883e-01,\n",
       "       -7.71194180e-02,  2.20948052e-01, -1.02551449e+00,  7.69180003e-01,\n",
       "       -7.72964628e-02, -9.99440791e-01,  9.62948960e-02, -1.93582948e+00,\n",
       "       -5.69906019e-01, -7.84805734e-01,  2.73833623e-01, -1.94376614e-01,\n",
       "       -6.71152186e-01,  1.38966986e-01,  2.53054055e-01, -5.26471641e-01,\n",
       "        2.29746071e-01,  6.46173825e-01,  9.23928553e-01,  1.10621886e+00,\n",
       "        7.14690803e-01,  4.66385488e-01, -5.54422536e-01,  5.29862591e-02,\n",
       "        2.66939118e-03, -1.36899558e+00, -9.86046303e-01, -4.78818729e-01,\n",
       "       -6.78331169e-01, -7.30855401e-01, -1.30113886e+00,  3.43714137e-01,\n",
       "       -1.24010096e-01, -1.24020269e+00,  6.94392680e-01, -7.05950435e-01,\n",
       "        9.94369153e-01, -2.18179462e-01, -2.14625300e+00, -1.01417709e+00,\n",
       "       -3.84775512e-01, -1.65387413e+00, -8.58384716e-01,  1.22919024e+00,\n",
       "       -9.95004735e-01,  1.95319717e-01,  1.18492747e-01,  9.03484585e-01,\n",
       "       -7.19471517e-02,  1.39173161e+00, -8.41700621e-01, -2.04154272e+00])"
      ]
     },
     "execution_count": 11,
     "metadata": {},
     "output_type": "execute_result"
    }
   ],
   "source": [
    "x"
   ]
  },
  {
   "cell_type": "code",
   "execution_count": 13,
   "metadata": {},
   "outputs": [
    {
     "data": {
      "text/plain": [
       "-0.12966820320154182"
      ]
     },
     "execution_count": 13,
     "metadata": {},
     "output_type": "execute_result"
    }
   ],
   "source": [
    "x.mean()"
   ]
  },
  {
   "cell_type": "code",
   "execution_count": 14,
   "metadata": {},
   "outputs": [
    {
     "data": {
      "text/plain": [
       "0.9194518510377266"
      ]
     },
     "execution_count": 14,
     "metadata": {},
     "output_type": "execute_result"
    }
   ],
   "source": [
    "x.std()"
   ]
  },
  {
   "cell_type": "code",
   "execution_count": 43,
   "metadata": {},
   "outputs": [],
   "source": [
    "x=5*x"
   ]
  },
  {
   "cell_type": "code",
   "execution_count": 44,
   "metadata": {},
   "outputs": [
    {
     "data": {
      "text/plain": [
       "array([ 185.        ,  191.28140704,  197.56281407,  203.84422111,\n",
       "        210.12562814,  216.40703518,  222.68844221,  228.96984925,\n",
       "        235.25125628,  241.53266332,  247.81407035,  254.09547739,\n",
       "        260.37688442,  266.65829146,  272.93969849,  279.22110553,\n",
       "        285.50251256,  291.7839196 ,  298.06532663,  304.34673367,\n",
       "        310.6281407 ,  316.90954774,  323.19095477,  329.47236181,\n",
       "        335.75376884,  342.03517588,  348.31658291,  354.59798995,\n",
       "        360.87939698,  367.16080402,  373.44221106,  379.72361809,\n",
       "        386.00502513,  392.28643216,  398.5678392 ,  404.84924623,\n",
       "        411.13065327,  417.4120603 ,  423.69346734,  429.97487437,\n",
       "        436.25628141,  442.53768844,  448.81909548,  455.10050251,\n",
       "        461.38190955,  467.66331658,  473.94472362,  480.22613065,\n",
       "        486.50753769,  492.78894472,  499.07035176,  505.35175879,\n",
       "        511.63316583,  517.91457286,  524.1959799 ,  530.47738693,\n",
       "        536.75879397,  543.04020101,  549.32160804,  555.60301508,\n",
       "        561.88442211,  568.16582915,  574.44723618,  580.72864322,\n",
       "        587.01005025,  593.29145729,  599.57286432,  605.85427136,\n",
       "        612.13567839,  618.41708543,  624.69849246,  630.9798995 ,\n",
       "        637.26130653,  643.54271357,  649.8241206 ,  656.10552764,\n",
       "        662.38693467,  668.66834171,  674.94974874,  681.23115578,\n",
       "        687.51256281,  693.79396985,  700.07537688,  706.35678392,\n",
       "        712.63819095,  718.91959799,  725.20100503,  731.48241206,\n",
       "        737.7638191 ,  744.04522613,  750.32663317,  756.6080402 ,\n",
       "        762.88944724,  769.17085427,  775.45226131,  781.73366834,\n",
       "        788.01507538,  794.29648241,  800.57788945,  806.85929648,\n",
       "        813.14070352,  819.42211055,  825.70351759,  831.98492462,\n",
       "        838.26633166,  844.54773869,  850.82914573,  857.11055276,\n",
       "        863.3919598 ,  869.67336683,  875.95477387,  882.2361809 ,\n",
       "        888.51758794,  894.79899497,  901.08040201,  907.36180905,\n",
       "        913.64321608,  919.92462312,  926.20603015,  932.48743719,\n",
       "        938.76884422,  945.05025126,  951.33165829,  957.61306533,\n",
       "        963.89447236,  970.1758794 ,  976.45728643,  982.73869347,\n",
       "        989.0201005 ,  995.30150754, 1001.58291457, 1007.86432161,\n",
       "       1014.14572864, 1020.42713568, 1026.70854271, 1032.98994975,\n",
       "       1039.27135678, 1045.55276382, 1051.83417085, 1058.11557789,\n",
       "       1064.39698492, 1070.67839196, 1076.95979899, 1083.24120603,\n",
       "       1089.52261307, 1095.8040201 , 1102.08542714, 1108.36683417,\n",
       "       1114.64824121, 1120.92964824, 1127.21105528, 1133.49246231,\n",
       "       1139.77386935, 1146.05527638, 1152.33668342, 1158.61809045,\n",
       "       1164.89949749, 1171.18090452, 1177.46231156, 1183.74371859,\n",
       "       1190.02512563, 1196.30653266, 1202.5879397 , 1208.86934673,\n",
       "       1215.15075377, 1221.4321608 , 1227.71356784, 1233.99497487,\n",
       "       1240.27638191, 1246.55778894, 1252.83919598, 1259.12060302,\n",
       "       1265.40201005, 1271.68341709, 1277.96482412, 1284.24623116,\n",
       "       1290.52763819, 1296.80904523, 1303.09045226, 1309.3718593 ,\n",
       "       1315.65326633, 1321.93467337, 1328.2160804 , 1334.49748744,\n",
       "       1340.77889447, 1347.06030151, 1353.34170854, 1359.62311558,\n",
       "       1365.90452261, 1372.18592965, 1378.46733668, 1384.74874372,\n",
       "       1391.03015075, 1397.31155779, 1403.59296482, 1409.87437186,\n",
       "       1416.15577889, 1422.43718593, 1428.71859296, 1435.        ])"
      ]
     },
     "execution_count": 44,
     "metadata": {},
     "output_type": "execute_result"
    }
   ],
   "source": [
    "x"
   ]
  },
  {
   "cell_type": "code",
   "execution_count": 41,
   "metadata": {},
   "outputs": [
    {
     "data": {
      "text/plain": [
       "162.0"
      ]
     },
     "execution_count": 41,
     "metadata": {},
     "output_type": "execute_result"
    }
   ],
   "source": [
    "x.mean()"
   ]
  },
  {
   "cell_type": "code",
   "execution_count": 42,
   "metadata": {
    "scrolled": false
   },
   "outputs": [
    {
     "data": {
      "text/plain": [
       "72.53053420429082"
      ]
     },
     "execution_count": 42,
     "metadata": {},
     "output_type": "execute_result"
    }
   ],
   "source": [
    "x.std()"
   ]
  },
  {
   "cell_type": "code",
   "execution_count": 28,
   "metadata": {},
   "outputs": [],
   "source": [
    "x=np.linspace(0,10,200)"
   ]
  },
  {
   "cell_type": "code",
   "execution_count": 29,
   "metadata": {},
   "outputs": [],
   "source": [
    "y=np.sin(x)+0.8*x"
   ]
  },
  {
   "cell_type": "code",
   "execution_count": 30,
   "metadata": {},
   "outputs": [
    {
     "data": {
      "text/plain": [
       "[<matplotlib.lines.Line2D at 0x280a6936a90>]"
      ]
     },
     "execution_count": 30,
     "metadata": {},
     "output_type": "execute_result"
    },
    {
     "data": {
      "image/png": "[encoded data removed]",
      "text/plain": [
       "<Figure size 432x288 with 1 Axes>"
      ]
     },
     "metadata": {
      "needs_background": "light"
     },
     "output_type": "display_data"
    }
   ],
   "source": [
    "plt.plot(x,y)"
   ]
  },
  {
   "cell_type": "code",
   "execution_count": 34,
   "metadata": {},
   "outputs": [],
   "source": [
    "y=np.sin(x)+0.8*x+0.4*np.random.randn(200)"
   ]
  },
  {
   "cell_type": "code",
   "execution_count": 37,
   "metadata": {},
   "outputs": [
    {
     "data": {
      "text/plain": [
       "<matplotlib.collections.PathCollection at 0x280a6966e10>"
      ]
     },
     "execution_count": 37,
     "metadata": {},
     "output_type": "execute_result"
    },
    {
     "data": {
      "image/png": "[encoded data removed]",
      "text/plain": [
       "<Figure size 432x288 with 1 Axes>"
      ]
     },
     "metadata": {
      "needs_background": "light"
     },
     "output_type": "display_data"
    }
   ],
   "source": [
    "plt.scatter(x,y)"
   ]
  },
  {
   "cell_type": "code",
   "execution_count": 45,
   "metadata": {},
   "outputs": [],
   "source": [
    "# 可以加註解"
   ]
  },
  {
   "cell_type": "markdown",
   "metadata": {},
   "source": [
    "# 最大的標題\n",
    "## 次大標題\n",
    "### 第三大標題\n",
    "\n",
    "內文"
   ]
  },
  {
   "cell_type": "markdown",
   "metadata": {},
   "source": [
    "### 有順序的分點\n",
    "\n",
    "1.matlab\n",
    "1.pandas"
   ]
  },
  {
   "cell_type": "markdown",
   "metadata": {},
   "source": [
    "### 做超連結\n",
    "\n",
    "[名稱](https://cd.nccu.edu.tw/)"
   ]
  },
  {
   "cell_type": "markdown",
   "metadata": {},
   "source": [
    "![圖片](插入圖片.jpg)"
   ]
  },
  {
   "cell_type": "code",
   "execution_count": 54,
   "metadata": {},
   "outputs": [
    {
     "ename": "SyntaxError",
     "evalue": "unexpected character after line continuation character (<ipython-input-54-074d657b2f78>, line 1)",
     "output_type": "error",
     "traceback": [
      "\u001b[1;36m  File \u001b[1;32m\"<ipython-input-54-074d657b2f78>\"\u001b[1;36m, line \u001b[1;32m1\u001b[0m\n\u001b[1;33m    \\alpha$\u001b[0m\n\u001b[1;37m           ^\u001b[0m\n\u001b[1;31mSyntaxError\u001b[0m\u001b[1;31m:\u001b[0m unexpected character after line continuation character\n"
     ]
    }
   ],
   "source": [
    "α β"
   ]
  },
  {
   "cell_type": "code",
   "execution_count": 56,
   "metadata": {},
   "outputs": [
    {
     "name": "stdout",
     "output_type": "stream",
     "text": [
      "使用者：安安\n",
      "機器人：拍拍\n"
     ]
    }
   ],
   "source": [
    "ham=input(\"使用者：\")\n",
    "print(\"機器人：拍拍\")"
   ]
  },
  {
   "cell_type": "code",
   "execution_count": null,
   "metadata": {},
   "outputs": [],
   "source": []
  }
 ],
 "metadata": {
  "kernelspec": {
   "display_name": "Python 3",
   "language": "python",
   "name": "python3"
  },
  "language_info": {
   "codemirror_mode": {
    "name": "ipython",
    "version": 3
   },
   "file_extension": ".py",
   "mimetype": "text/x-python",
   "name": "python",
   "nbconvert_exporter": "python",
   "pygments_lexer": "ipython3",
   "version": "3.7.3"
  }
 },
 "nbformat": 4,
 "nbformat_minor": 2
}
