{
 "cells": [
  {
   "cell_type": "markdown",
   "metadata": {},
   "source": [
    "### 作業4\n",
    "\n",
    "玩模擬市民時取ID需要的生成器靈感，姓名取自百家姓、內政部最多取名統計資料"
   ]
  },
  {
   "cell_type": "code",
   "execution_count": 22,
   "metadata": {},
   "outputs": [],
   "source": [
    "%matplotlib inline\n",
    "\n",
    "import numpy as np\n",
    "import matplotlib.pyplot as plt\n",
    "import pandas as pd\n",
    "from numpy.random import randint\n",
    "from numpy.random import choice"
   ]
  },
  {
   "cell_type": "code",
   "execution_count": 23,
   "metadata": {},
   "outputs": [],
   "source": [
    "familynames='''\n",
    "趙\n",
    "錢\n",
    "孫\n",
    "李\n",
    "周\n",
    "吳\n",
    "鄭\n",
    "王\n",
    "馮\n",
    "陳\n",
    "褚\n",
    "衛\n",
    "蔣\n",
    "沈\n",
    "韓'''"
   ]
  },
  {
   "cell_type": "code",
   "execution_count": 24,
   "metadata": {},
   "outputs": [],
   "source": [
    "firstnames='''\n",
    "子晴\n",
    "詠晴\n",
    "宜蓁\n",
    "品好\n",
    "子涵\n",
    "品妍\n",
    "詩涵\n",
    "思妤\n",
    "羽彤\n",
    "禹彤\n",
    "靜宜\n",
    "淑芬\n",
    "雅婷\n",
    "冠廷\n",
    "冠宇\n",
    "家豪\n",
    "承翰\n",
    "柏翰\n",
    "承恩'''"
   ]
  },
  {
   "cell_type": "code",
   "execution_count": 25,
   "metadata": {},
   "outputs": [],
   "source": [
    "phrase1=familynames.split('\\n')\n",
    "phrase2=firstnames.split('\\n')"
   ]
  },
  {
   "cell_type": "code",
   "execution_count": 27,
   "metadata": {},
   "outputs": [
    {
     "name": "stdout",
     "output_type": "stream",
     "text": [
      "吳 冠廷\n"
     ]
    }
   ],
   "source": [
    "k=randint(1,3)\n",
    "egg1=choice(phrase1,1)\n",
    "egg2=choice(phrase2,1)\n",
    "spam1=' '.join(egg1)\n",
    "spam2=' '.join(egg2)\n",
    "print(spam1,spam2)"
   ]
  }
 ],
 "metadata": {
  "kernelspec": {
   "display_name": "Python 3",
   "language": "python",
   "name": "python3"
  },
  "language_info": {
   "codemirror_mode": {
    "name": "ipython",
    "version": 3
   },
   "file_extension": ".py",
   "mimetype": "text/x-python",
   "name": "python",
   "nbconvert_exporter": "python",
   "pygments_lexer": "ipython3",
   "version": "3.7.3"
  }
 },
 "nbformat": 4,
 "nbformat_minor": 2
}
