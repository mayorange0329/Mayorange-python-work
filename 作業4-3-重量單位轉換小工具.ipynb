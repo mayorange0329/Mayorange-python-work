{
 "cells": [
  {
   "cell_type": "markdown",
   "metadata": {},
   "source": [
    "## 作業三\n",
    "\n",
    "重量單位換算小工具"
   ]
  },
  {
   "cell_type": "code",
   "execution_count": 5,
   "metadata": {},
   "outputs": [],
   "source": [
    "%matplotlib inline\n",
    "\n",
    "import numpy as np\n",
    "import matplotlib.pyplot as plt\n",
    "import pandas as pd"
   ]
  },
  {
   "cell_type": "code",
   "execution_count": 6,
   "metadata": {},
   "outputs": [
    {
     "name": "stdout",
     "output_type": "stream",
     "text": [
      "重量單位轉換小工具\n",
      "請輸入公斤(kg)\n",
      "5\n",
      "換算為磅：\n",
      "11.0231131\n",
      "換算為盎司：\n",
      "176.36980950000003\n"
     ]
    }
   ],
   "source": [
    "print(\"重量單位轉換小工具\")\n",
    "print(\"請輸入公斤(kg)\")\n",
    "egg=input(\"\")\n",
    "print(\"換算為磅：\")\n",
    "print(float(egg)*2.20462262)\n",
    "print(\"換算為盎司：\")\n",
    "print(float(egg)*35.2739619)"
   ]
  }
 ],
 "metadata": {
  "kernelspec": {
   "display_name": "Python 3",
   "language": "python",
   "name": "python3"
  },
  "language_info": {
   "codemirror_mode": {
    "name": "ipython",
    "version": 3
   },
   "file_extension": ".py",
   "mimetype": "text/x-python",
   "name": "python",
   "nbconvert_exporter": "python",
   "pygments_lexer": "ipython3",
   "version": "3.7.3"
  }
 },
 "nbformat": 4,
 "nbformat_minor": 2
}
