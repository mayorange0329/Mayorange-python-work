{
 "cells": [
  {
   "cell_type": "code",
   "execution_count": 1,
   "metadata": {},
   "outputs": [],
   "source": [
    "%matplotlib inline\n",
    "\n",
    "import numpy as np\n",
    "import matplotlib.pyplot as plt\n",
    "from ipywidgets import interact"
   ]
  },
  {
   "cell_type": "code",
   "execution_count": 2,
   "metadata": {},
   "outputs": [
    {
     "name": "stdout",
     "output_type": "stream",
     "text": [
      "請選擇欲購買的場次\n"
     ]
    },
    {
     "data": {
      "application/vnd.jupyter.widget-view+json": {
       "model_id": "29dc339d6bbe4d3ea7fa7eb44dcaa796",
       "version_major": 2,
       "version_minor": 0
      },
      "text/plain": [
       "interactive(children=(Dropdown(description='場次', options=('2019/12/21', '2019/12/22', '2019/12/23', '2019/12/2…"
      ]
     },
     "metadata": {},
     "output_type": "display_data"
    },
    {
     "data": {
      "text/plain": [
       "<function __main__.day(場次)>"
      ]
     },
     "execution_count": 2,
     "metadata": {},
     "output_type": "execute_result"
    }
   ],
   "source": [
    "print(\"請選擇欲購買的場次\")\n",
    "\n",
    "def day(場次):\n",
    "    print(\"演出場次\")\n",
    "    print(場次)\n",
    "\n",
    "interact(day, 場次= [\"2019/12/21\", \"2019/12/22\", \"2019/12/23\", \"2019/12/24\", \"2019/12/25\", \"2019/12/28\", \"2019/12/31\"])\n"
   ]
  },
  {
   "cell_type": "code",
   "execution_count": 3,
   "metadata": {},
   "outputs": [
    {
     "name": "stdout",
     "output_type": "stream",
     "text": [
      "請選擇欲購買的區域\n"
     ]
    },
    {
     "data": {
      "application/vnd.jupyter.widget-view+json": {
       "model_id": "d7ae480eb3c94ce689a8f2100dbe99b7",
       "version_major": 2,
       "version_minor": 0
      },
      "text/plain": [
       "interactive(children=(Dropdown(description='區域', options={'搖滾區': 3880, '漫遊區': 1880, '看台區': 800}, value=3880), …"
      ]
     },
     "metadata": {},
     "output_type": "display_data"
    },
    {
     "data": {
      "text/plain": [
       "<function __main__.area(區域)>"
      ]
     },
     "execution_count": 3,
     "metadata": {},
     "output_type": "execute_result"
    }
   ],
   "source": [
    "print(\"請選擇欲購買的區域\")\n",
    "\n",
    "def area(區域):\n",
    "    print(\"本區票價(張)\")\n",
    "    print(區域)\n",
    "\n",
    "interact(area, 區域= {\"搖滾區\":3880,\"漫遊區\":1880,\"看台區\":800})"
   ]
  },
  {
   "cell_type": "code",
   "execution_count": 20,
   "metadata": {},
   "outputs": [
    {
     "name": "stdout",
     "output_type": "stream",
     "text": [
      "請檢查購買場次、票券數量、購買區域是否正確，確認無誤後請輸入「確認」\n",
      " 確認\n",
      "請選擇取票付款方式[ATM轉帳/超商取票]\n",
      " ATM\n",
      "請憑取票序號在取票期限前至ATM完成轉帳手續，如確認無誤請輸入「結束」\n",
      " 結束\n"
     ]
    }
   ],
   "source": [
    "msg=\"購票機器人\"\n",
    "print(\"請檢查購買場次、票券數量、購買區域是否正確，確認無誤後請輸入「確認」\")\n",
    "while(msg !=\"結束\"):\n",
    "    msg=input(\" \")\n",
    "    if \"確認\" in msg:\n",
    "        print(\"請選擇取票付款方式[ATM轉帳/超商取票]\")\n",
    "    elif \"超商\" in msg:\n",
    "        print(\"請憑取票序號在取票期限前至超商完成取票手續，如確認無誤請輸入「結束」\")    \n",
    "    elif \"ATM\" in msg:\n",
    "        print(\"請憑取票序號在取票期限前至ATM完成轉帳手續，如確認無誤請輸入「結束」\") \n",
    "    elif \"結束\" in msg:\n",
    "        break\n",
    "    else:\n",
    "        print(\"請檢查輸入內容\")"
   ]
  }
 ],
 "metadata": {
  "kernelspec": {
   "display_name": "Python 3",
   "language": "python",
   "name": "python3"
  },
  "language_info": {
   "codemirror_mode": {
    "name": "ipython",
    "version": 3
   },
   "file_extension": ".py",
   "mimetype": "text/x-python",
   "name": "python",
   "nbconvert_exporter": "python",
   "pygments_lexer": "ipython3",
   "version": "3.7.3"
  }
 },
 "nbformat": 4,
 "nbformat_minor": 2
}
