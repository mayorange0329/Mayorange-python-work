{
 "cells": [
  {
   "cell_type": "markdown",
   "metadata": {},
   "source": [
    "## 作業1\n",
    "### 政大印象短詩產生器\n",
    "\n",
    "上次沒有練習到Choice所以再試一次機器人"
   ]
  },
  {
   "cell_type": "code",
   "execution_count": 21,
   "metadata": {},
   "outputs": [],
   "source": [
    "%matplotlib inline\n",
    "\n",
    "import numpy as np\n",
    "import matplotlib.pyplot as plt\n",
    "import pandas as pd\n",
    "import pandas as pd\n",
    "import math"
   ]
  },
  {
   "cell_type": "code",
   "execution_count": 22,
   "metadata": {},
   "outputs": [],
   "source": [
    "from numpy.random import choice\n",
    "from numpy.random import randint"
   ]
  },
  {
   "cell_type": "code",
   "execution_count": 27,
   "metadata": {},
   "outputs": [],
   "source": [
    "words = '''你\n",
    "我\n",
    "他\n",
    "雨\n",
    "雲\n",
    "山\n",
    "河\n",
    "橋\n",
    "傘\n",
    "河堤\n",
    "夕陽\n",
    "晚風\n",
    "星星\n",
    "階梯\n",
    "芒草\n",
    "走廊\n",
    "公車'''"
   ]
  },
  {
   "cell_type": "code",
   "execution_count": 28,
   "metadata": {},
   "outputs": [],
   "source": [
    "phrase = words.split(\"\\n\")"
   ]
  },
  {
   "cell_type": "code",
   "execution_count": 34,
   "metadata": {},
   "outputs": [
    {
     "name": "stdout",
     "output_type": "stream",
     "text": [
      "星星 河 雨\n",
      "走廊 晚風 河堤\n",
      "傘 橋 山\n",
      "他 公車 芒草\n",
      "芒草 雨 山\n"
     ]
    }
   ],
   "source": [
    "l = randint(4, 6)\n",
    "for i in range(l):\n",
    "    n = randint(3, 5)\n",
    "    s = choice(phrase, n)\n",
    "    S = \" \".join(s)\n",
    "    print(S)"
   ]
  }
 ],
 "metadata": {
  "kernelspec": {
   "display_name": "Python 3",
   "language": "python",
   "name": "python3"
  },
  "language_info": {
   "codemirror_mode": {
    "name": "ipython",
    "version": 3
   },
   "file_extension": ".py",
   "mimetype": "text/x-python",
   "name": "python",
   "nbconvert_exporter": "python",
   "pygments_lexer": "ipython3",
   "version": "3.7.3"
  }
 },
 "nbformat": 4,
 "nbformat_minor": 2
}
