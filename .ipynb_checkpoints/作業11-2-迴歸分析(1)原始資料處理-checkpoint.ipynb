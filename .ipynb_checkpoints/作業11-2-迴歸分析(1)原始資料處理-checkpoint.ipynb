{
 "cells": [
  {
   "cell_type": "markdown",
   "metadata": {},
   "source": [
    "說明：\n",
    "\n",
    "學生另有修習「迴歸分析」這門課，期中報告要自選數據做簡單線性迴歸模型分析。\n",
    "該門課指定使用的程式工具以SAS為主，因此想用同一份數據以Python練習處理。\n",
    "\n",
    "### 主題：2018年民主指數與人均國內生產毛額之簡單線性迴歸模型分析\n",
    "\n",
    "\n",
    "之後的幾週有幾份加分題作業預計會跟著製作期中報告的進度推進，以此主題延續下去，將兩邊的製作過程比對結果是否會有差異，最後提出操作上的心得。\n",
    "\n",
    "--\n",
    "\n",
    "本週進度：原始資料處理、初步敘述性統計\n",
    "\n",
    "--\n",
    "\n",
    "第一步：先到網站上下載原始資料\n",
    "\n",
    "--\n",
    "\n",
    "變數說明：\n",
    "\n",
    "x：2018年人均GDP(單位：國際元)\n",
    "\n",
    "（2018 GDP per capita, current prices (Purchasing power parity; international dollars per capita)）\n",
    "\n",
    "資料來源：國際貨幣基金組織《世界經濟展望》International Monetary Fund World Economic Outlook Database\n",
    "\n",
    "\n",
    "y：2018年民主指數\n",
    "\n",
    "資料來源：經濟學人信息社(Economist Intelligence Unit (EIU))--Democracy Index 2018: Me too？Political participation, protest and democracy\n",
    "\n",
    "該指數衡量五個指標：選舉程序與多樣性、政府運作、政治參與、政治文化和公民自由。政權按得分分為「完全民主」（8至10分）、「部分民主」（6至7.9分）、「混合政權」（4至5.9分）和「專制政權」（低於4分）四類。\n",
    "\n",
    "--\n",
    "\n",
    "第二步：初步比對篩選資料後，存成csv檔\n",
    "\n",
    "總共蒐集到225筆人均國內生產毛額與168筆民主指數資料，比對後刪除一些資料不齊全的國家後，最後留下155筆資料\n",
    "\n",
    "--\n",
    "\n",
    "第三步：將自己整理的csv檔叫來python處理"
   ]
  },
  {
   "cell_type": "code",
   "execution_count": 17,
   "metadata": {},
   "outputs": [],
   "source": [
    "%matplotlib inline\n",
    "import numpy as np\n",
    "import matplotlib.pyplot as plt\n",
    "import pandas as pd\n",
    "import seaborn as sns"
   ]
  },
  {
   "cell_type": "code",
   "execution_count": 20,
   "metadata": {},
   "outputs": [
    {
     "data": {
      "text/html": [
       "<div>\n",
       "<style scoped>\n",
       "    .dataframe tbody tr th:only-of-type {\n",
       "        vertical-align: middle;\n",
       "    }\n",
       "\n",
       "    .dataframe tbody tr th {\n",
       "        vertical-align: top;\n",
       "    }\n",
       "\n",
       "    .dataframe thead th {\n",
       "        text-align: right;\n",
       "    }\n",
       "</style>\n",
       "<table border=\"1\" class=\"dataframe\">\n",
       "  <thead>\n",
       "    <tr style=\"text-align: right;\">\n",
       "      <th></th>\n",
       "      <th>Country</th>\n",
       "      <th>2018 GDP</th>\n",
       "      <th>Democracy index</th>\n",
       "      <th>Unnamed: 3</th>\n",
       "      <th>Unnamed: 4</th>\n",
       "      <th>Unnamed: 5</th>\n",
       "      <th>Unnamed: 6</th>\n",
       "      <th>Unnamed: 7</th>\n",
       "    </tr>\n",
       "  </thead>\n",
       "  <tbody>\n",
       "    <tr>\n",
       "      <th>0</th>\n",
       "      <td>Afghanistan</td>\n",
       "      <td>2025.472</td>\n",
       "      <td>2.97</td>\n",
       "      <td>NaN</td>\n",
       "      <td>NaN</td>\n",
       "      <td>NaN</td>\n",
       "      <td>NaN</td>\n",
       "      <td>NaN</td>\n",
       "    </tr>\n",
       "    <tr>\n",
       "      <th>1</th>\n",
       "      <td>Albania</td>\n",
       "      <td>13326.694</td>\n",
       "      <td>5.98</td>\n",
       "      <td>NaN</td>\n",
       "      <td>NaN</td>\n",
       "      <td>NaN</td>\n",
       "      <td>NaN</td>\n",
       "      <td>NaN</td>\n",
       "    </tr>\n",
       "    <tr>\n",
       "      <th>2</th>\n",
       "      <td>Algeria</td>\n",
       "      <td>15331.743</td>\n",
       "      <td>3.50</td>\n",
       "      <td>NaN</td>\n",
       "      <td>NaN</td>\n",
       "      <td>NaN</td>\n",
       "      <td>NaN</td>\n",
       "      <td>NaN</td>\n",
       "    </tr>\n",
       "    <tr>\n",
       "      <th>3</th>\n",
       "      <td>Angola</td>\n",
       "      <td>6851.272</td>\n",
       "      <td>3.62</td>\n",
       "      <td>NaN</td>\n",
       "      <td>NaN</td>\n",
       "      <td>NaN</td>\n",
       "      <td>NaN</td>\n",
       "      <td>NaN</td>\n",
       "    </tr>\n",
       "    <tr>\n",
       "      <th>4</th>\n",
       "      <td>Argentina</td>\n",
       "      <td>20551.043</td>\n",
       "      <td>7.02</td>\n",
       "      <td>NaN</td>\n",
       "      <td>NaN</td>\n",
       "      <td>NaN</td>\n",
       "      <td>NaN</td>\n",
       "      <td>NaN</td>\n",
       "    </tr>\n",
       "  </tbody>\n",
       "</table>\n",
       "</div>"
      ],
      "text/plain": [
       "       Country   2018 GDP  Democracy index  Unnamed: 3  Unnamed: 4  \\\n",
       "0  Afghanistan   2025.472             2.97         NaN         NaN   \n",
       "1      Albania  13326.694             5.98         NaN         NaN   \n",
       "2      Algeria  15331.743             3.50         NaN         NaN   \n",
       "3       Angola   6851.272             3.62         NaN         NaN   \n",
       "4    Argentina  20551.043             7.02         NaN         NaN   \n",
       "\n",
       "   Unnamed: 5 Unnamed: 6 Unnamed: 7  \n",
       "0         NaN        NaN        NaN  \n",
       "1         NaN        NaN        NaN  \n",
       "2         NaN        NaN        NaN  \n",
       "3         NaN        NaN        NaN  \n",
       "4         NaN        NaN        NaN  "
      ]
     },
     "execution_count": 20,
     "metadata": {},
     "output_type": "execute_result"
    }
   ],
   "source": [
    "df1=pd.read_csv(\"迴歸分析原始資料.csv\",encoding=\"big5\")\n",
    "df1.head()\n",
    "\n",
    "#資料其實只有前三欄，但多出了幾欄Unnamed"
   ]
  },
  {
   "cell_type": "code",
   "execution_count": 21,
   "metadata": {},
   "outputs": [
    {
     "data": {
      "text/html": [
       "<div>\n",
       "<style scoped>\n",
       "    .dataframe tbody tr th:only-of-type {\n",
       "        vertical-align: middle;\n",
       "    }\n",
       "\n",
       "    .dataframe tbody tr th {\n",
       "        vertical-align: top;\n",
       "    }\n",
       "\n",
       "    .dataframe thead th {\n",
       "        text-align: right;\n",
       "    }\n",
       "</style>\n",
       "<table border=\"1\" class=\"dataframe\">\n",
       "  <thead>\n",
       "    <tr style=\"text-align: right;\">\n",
       "      <th></th>\n",
       "      <th>Country</th>\n",
       "      <th>2018 GDP</th>\n",
       "      <th>Democracy index</th>\n",
       "    </tr>\n",
       "  </thead>\n",
       "  <tbody>\n",
       "    <tr>\n",
       "      <th>0</th>\n",
       "      <td>Afghanistan</td>\n",
       "      <td>2025.472</td>\n",
       "      <td>2.97</td>\n",
       "    </tr>\n",
       "    <tr>\n",
       "      <th>1</th>\n",
       "      <td>Albania</td>\n",
       "      <td>13326.694</td>\n",
       "      <td>5.98</td>\n",
       "    </tr>\n",
       "    <tr>\n",
       "      <th>2</th>\n",
       "      <td>Algeria</td>\n",
       "      <td>15331.743</td>\n",
       "      <td>3.50</td>\n",
       "    </tr>\n",
       "    <tr>\n",
       "      <th>3</th>\n",
       "      <td>Angola</td>\n",
       "      <td>6851.272</td>\n",
       "      <td>3.62</td>\n",
       "    </tr>\n",
       "    <tr>\n",
       "      <th>4</th>\n",
       "      <td>Argentina</td>\n",
       "      <td>20551.043</td>\n",
       "      <td>7.02</td>\n",
       "    </tr>\n",
       "    <tr>\n",
       "      <th>5</th>\n",
       "      <td>Armenia</td>\n",
       "      <td>10273.434</td>\n",
       "      <td>4.79</td>\n",
       "    </tr>\n",
       "    <tr>\n",
       "      <th>6</th>\n",
       "      <td>Australia</td>\n",
       "      <td>52379.456</td>\n",
       "      <td>9.09</td>\n",
       "    </tr>\n",
       "    <tr>\n",
       "      <th>7</th>\n",
       "      <td>Austria</td>\n",
       "      <td>52172.116</td>\n",
       "      <td>8.29</td>\n",
       "    </tr>\n",
       "    <tr>\n",
       "      <th>8</th>\n",
       "      <td>Azerbaijan</td>\n",
       "      <td>18022.631</td>\n",
       "      <td>2.65</td>\n",
       "    </tr>\n",
       "    <tr>\n",
       "      <th>9</th>\n",
       "      <td>Bahrain</td>\n",
       "      <td>50048.506</td>\n",
       "      <td>2.71</td>\n",
       "    </tr>\n",
       "    <tr>\n",
       "      <th>10</th>\n",
       "      <td>Bangladesh</td>\n",
       "      <td>4630.291</td>\n",
       "      <td>5.57</td>\n",
       "    </tr>\n",
       "    <tr>\n",
       "      <th>11</th>\n",
       "      <td>Belarus</td>\n",
       "      <td>19940.726</td>\n",
       "      <td>3.13</td>\n",
       "    </tr>\n",
       "    <tr>\n",
       "      <th>12</th>\n",
       "      <td>Belgium</td>\n",
       "      <td>48327.204</td>\n",
       "      <td>7.78</td>\n",
       "    </tr>\n",
       "    <tr>\n",
       "      <th>13</th>\n",
       "      <td>Benin</td>\n",
       "      <td>3267.363</td>\n",
       "      <td>5.74</td>\n",
       "    </tr>\n",
       "    <tr>\n",
       "      <th>14</th>\n",
       "      <td>Bhutan</td>\n",
       "      <td>9343.630</td>\n",
       "      <td>5.30</td>\n",
       "    </tr>\n",
       "    <tr>\n",
       "      <th>15</th>\n",
       "      <td>Bolivia</td>\n",
       "      <td>7842.232</td>\n",
       "      <td>5.70</td>\n",
       "    </tr>\n",
       "    <tr>\n",
       "      <th>16</th>\n",
       "      <td>Botswana</td>\n",
       "      <td>17947.746</td>\n",
       "      <td>7.81</td>\n",
       "    </tr>\n",
       "    <tr>\n",
       "      <th>17</th>\n",
       "      <td>Brazil</td>\n",
       "      <td>16146.092</td>\n",
       "      <td>6.97</td>\n",
       "    </tr>\n",
       "    <tr>\n",
       "      <th>18</th>\n",
       "      <td>Bulgaria</td>\n",
       "      <td>23169.339</td>\n",
       "      <td>7.03</td>\n",
       "    </tr>\n",
       "    <tr>\n",
       "      <th>19</th>\n",
       "      <td>Burkina Faso</td>\n",
       "      <td>1981.957</td>\n",
       "      <td>4.75</td>\n",
       "    </tr>\n",
       "    <tr>\n",
       "      <th>20</th>\n",
       "      <td>Burundi</td>\n",
       "      <td>732.796</td>\n",
       "      <td>2.33</td>\n",
       "    </tr>\n",
       "    <tr>\n",
       "      <th>21</th>\n",
       "      <td>Cambodia</td>\n",
       "      <td>4348.413</td>\n",
       "      <td>3.59</td>\n",
       "    </tr>\n",
       "    <tr>\n",
       "      <th>22</th>\n",
       "      <td>Cameroon</td>\n",
       "      <td>3830.105</td>\n",
       "      <td>3.28</td>\n",
       "    </tr>\n",
       "    <tr>\n",
       "      <th>23</th>\n",
       "      <td>Canada</td>\n",
       "      <td>49690.168</td>\n",
       "      <td>9.15</td>\n",
       "    </tr>\n",
       "    <tr>\n",
       "      <th>24</th>\n",
       "      <td>Central African Republic</td>\n",
       "      <td>788.839</td>\n",
       "      <td>1.52</td>\n",
       "    </tr>\n",
       "    <tr>\n",
       "      <th>25</th>\n",
       "      <td>China</td>\n",
       "      <td>18116.045</td>\n",
       "      <td>3.32</td>\n",
       "    </tr>\n",
       "    <tr>\n",
       "      <th>26</th>\n",
       "      <td>Chad</td>\n",
       "      <td>2442.485</td>\n",
       "      <td>1.61</td>\n",
       "    </tr>\n",
       "    <tr>\n",
       "      <th>27</th>\n",
       "      <td>Chile</td>\n",
       "      <td>25700.477</td>\n",
       "      <td>7.97</td>\n",
       "    </tr>\n",
       "    <tr>\n",
       "      <th>28</th>\n",
       "      <td>Colombia</td>\n",
       "      <td>14935.683</td>\n",
       "      <td>6.96</td>\n",
       "    </tr>\n",
       "    <tr>\n",
       "      <th>29</th>\n",
       "      <td>Comoros</td>\n",
       "      <td>2789.537</td>\n",
       "      <td>3.71</td>\n",
       "    </tr>\n",
       "    <tr>\n",
       "      <th>...</th>\n",
       "      <td>...</td>\n",
       "      <td>...</td>\n",
       "      <td>...</td>\n",
       "    </tr>\n",
       "    <tr>\n",
       "      <th>125</th>\n",
       "      <td>Slovenia</td>\n",
       "      <td>36741.444</td>\n",
       "      <td>7.50</td>\n",
       "    </tr>\n",
       "    <tr>\n",
       "      <th>126</th>\n",
       "      <td>South Africa</td>\n",
       "      <td>13629.758</td>\n",
       "      <td>7.24</td>\n",
       "    </tr>\n",
       "    <tr>\n",
       "      <th>127</th>\n",
       "      <td>South Korea</td>\n",
       "      <td>43289.874</td>\n",
       "      <td>8.00</td>\n",
       "    </tr>\n",
       "    <tr>\n",
       "      <th>128</th>\n",
       "      <td>Spain</td>\n",
       "      <td>40172.154</td>\n",
       "      <td>8.08</td>\n",
       "    </tr>\n",
       "    <tr>\n",
       "      <th>129</th>\n",
       "      <td>Sri Lanka</td>\n",
       "      <td>13443.436</td>\n",
       "      <td>6.19</td>\n",
       "    </tr>\n",
       "    <tr>\n",
       "      <th>130</th>\n",
       "      <td>Sudan</td>\n",
       "      <td>4229.275</td>\n",
       "      <td>2.15</td>\n",
       "    </tr>\n",
       "    <tr>\n",
       "      <th>131</th>\n",
       "      <td>Suriname</td>\n",
       "      <td>15110.525</td>\n",
       "      <td>6.98</td>\n",
       "    </tr>\n",
       "    <tr>\n",
       "      <th>132</th>\n",
       "      <td>Sweden</td>\n",
       "      <td>53651.789</td>\n",
       "      <td>9.39</td>\n",
       "    </tr>\n",
       "    <tr>\n",
       "      <th>133</th>\n",
       "      <td>Switzerland</td>\n",
       "      <td>65009.820</td>\n",
       "      <td>9.03</td>\n",
       "    </tr>\n",
       "    <tr>\n",
       "      <th>134</th>\n",
       "      <td>Taiwan</td>\n",
       "      <td>53074.323</td>\n",
       "      <td>7.73</td>\n",
       "    </tr>\n",
       "    <tr>\n",
       "      <th>135</th>\n",
       "      <td>Tajikistan</td>\n",
       "      <td>3426.533</td>\n",
       "      <td>1.93</td>\n",
       "    </tr>\n",
       "    <tr>\n",
       "      <th>136</th>\n",
       "      <td>Tanzania</td>\n",
       "      <td>3273.038</td>\n",
       "      <td>5.41</td>\n",
       "    </tr>\n",
       "    <tr>\n",
       "      <th>137</th>\n",
       "      <td>Thailand</td>\n",
       "      <td>19484.028</td>\n",
       "      <td>4.63</td>\n",
       "    </tr>\n",
       "    <tr>\n",
       "      <th>138</th>\n",
       "      <td>Timor-Leste</td>\n",
       "      <td>4972.603</td>\n",
       "      <td>7.19</td>\n",
       "    </tr>\n",
       "    <tr>\n",
       "      <th>139</th>\n",
       "      <td>Togo</td>\n",
       "      <td>1749.715</td>\n",
       "      <td>3.10</td>\n",
       "    </tr>\n",
       "    <tr>\n",
       "      <th>140</th>\n",
       "      <td>Tunisia</td>\n",
       "      <td>12384.355</td>\n",
       "      <td>6.41</td>\n",
       "    </tr>\n",
       "    <tr>\n",
       "      <th>141</th>\n",
       "      <td>Turkey</td>\n",
       "      <td>28044.394</td>\n",
       "      <td>4.37</td>\n",
       "    </tr>\n",
       "    <tr>\n",
       "      <th>142</th>\n",
       "      <td>Turkmenistan</td>\n",
       "      <td>19518.095</td>\n",
       "      <td>1.72</td>\n",
       "    </tr>\n",
       "    <tr>\n",
       "      <th>143</th>\n",
       "      <td>Uganda</td>\n",
       "      <td>2497.299</td>\n",
       "      <td>5.20</td>\n",
       "    </tr>\n",
       "    <tr>\n",
       "      <th>144</th>\n",
       "      <td>Ukraine</td>\n",
       "      <td>9287.334</td>\n",
       "      <td>5.69</td>\n",
       "    </tr>\n",
       "    <tr>\n",
       "      <th>145</th>\n",
       "      <td>United Arab Emirates</td>\n",
       "      <td>69222.478</td>\n",
       "      <td>2.76</td>\n",
       "    </tr>\n",
       "    <tr>\n",
       "      <th>146</th>\n",
       "      <td>United Kingdom</td>\n",
       "      <td>45740.756</td>\n",
       "      <td>8.53</td>\n",
       "    </tr>\n",
       "    <tr>\n",
       "      <th>147</th>\n",
       "      <td>United States</td>\n",
       "      <td>62868.917</td>\n",
       "      <td>7.96</td>\n",
       "    </tr>\n",
       "    <tr>\n",
       "      <th>148</th>\n",
       "      <td>Uruguay</td>\n",
       "      <td>23157.966</td>\n",
       "      <td>8.38</td>\n",
       "    </tr>\n",
       "    <tr>\n",
       "      <th>149</th>\n",
       "      <td>Uzbekistan</td>\n",
       "      <td>8498.357</td>\n",
       "      <td>2.01</td>\n",
       "    </tr>\n",
       "    <tr>\n",
       "      <th>150</th>\n",
       "      <td>Venezuela</td>\n",
       "      <td>10797.621</td>\n",
       "      <td>3.16</td>\n",
       "    </tr>\n",
       "    <tr>\n",
       "      <th>151</th>\n",
       "      <td>Vietnam</td>\n",
       "      <td>7513.112</td>\n",
       "      <td>3.08</td>\n",
       "    </tr>\n",
       "    <tr>\n",
       "      <th>152</th>\n",
       "      <td>Yemen</td>\n",
       "      <td>2253.315</td>\n",
       "      <td>1.95</td>\n",
       "    </tr>\n",
       "    <tr>\n",
       "      <th>153</th>\n",
       "      <td>Zambia</td>\n",
       "      <td>4117.823</td>\n",
       "      <td>5.61</td>\n",
       "    </tr>\n",
       "    <tr>\n",
       "      <th>154</th>\n",
       "      <td>Zimbabwe</td>\n",
       "      <td>2908.261</td>\n",
       "      <td>3.16</td>\n",
       "    </tr>\n",
       "  </tbody>\n",
       "</table>\n",
       "<p>155 rows × 3 columns</p>\n",
       "</div>"
      ],
      "text/plain": [
       "                      Country   2018 GDP  Democracy index\n",
       "0                 Afghanistan   2025.472             2.97\n",
       "1                     Albania  13326.694             5.98\n",
       "2                     Algeria  15331.743             3.50\n",
       "3                      Angola   6851.272             3.62\n",
       "4                   Argentina  20551.043             7.02\n",
       "5                     Armenia  10273.434             4.79\n",
       "6                   Australia  52379.456             9.09\n",
       "7                     Austria  52172.116             8.29\n",
       "8                  Azerbaijan  18022.631             2.65\n",
       "9                     Bahrain  50048.506             2.71\n",
       "10                 Bangladesh   4630.291             5.57\n",
       "11                    Belarus  19940.726             3.13\n",
       "12                    Belgium  48327.204             7.78\n",
       "13                      Benin   3267.363             5.74\n",
       "14                     Bhutan   9343.630             5.30\n",
       "15                    Bolivia   7842.232             5.70\n",
       "16                   Botswana  17947.746             7.81\n",
       "17                     Brazil  16146.092             6.97\n",
       "18                   Bulgaria  23169.339             7.03\n",
       "19               Burkina Faso   1981.957             4.75\n",
       "20                    Burundi    732.796             2.33\n",
       "21                   Cambodia   4348.413             3.59\n",
       "22                   Cameroon   3830.105             3.28\n",
       "23                     Canada  49690.168             9.15\n",
       "24   Central African Republic    788.839             1.52\n",
       "25                      China  18116.045             3.32\n",
       "26                       Chad   2442.485             1.61\n",
       "27                      Chile  25700.477             7.97\n",
       "28                   Colombia  14935.683             6.96\n",
       "29                    Comoros   2789.537             3.71\n",
       "..                        ...        ...              ...\n",
       "125                  Slovenia  36741.444             7.50\n",
       "126              South Africa  13629.758             7.24\n",
       "127               South Korea  43289.874             8.00\n",
       "128                     Spain  40172.154             8.08\n",
       "129                 Sri Lanka  13443.436             6.19\n",
       "130                     Sudan   4229.275             2.15\n",
       "131                  Suriname  15110.525             6.98\n",
       "132                    Sweden  53651.789             9.39\n",
       "133               Switzerland  65009.820             9.03\n",
       "134                    Taiwan  53074.323             7.73\n",
       "135                Tajikistan   3426.533             1.93\n",
       "136                  Tanzania   3273.038             5.41\n",
       "137                  Thailand  19484.028             4.63\n",
       "138               Timor-Leste   4972.603             7.19\n",
       "139                      Togo   1749.715             3.10\n",
       "140                   Tunisia  12384.355             6.41\n",
       "141                    Turkey  28044.394             4.37\n",
       "142              Turkmenistan  19518.095             1.72\n",
       "143                    Uganda   2497.299             5.20\n",
       "144                   Ukraine   9287.334             5.69\n",
       "145      United Arab Emirates  69222.478             2.76\n",
       "146            United Kingdom  45740.756             8.53\n",
       "147             United States  62868.917             7.96\n",
       "148                   Uruguay  23157.966             8.38\n",
       "149                Uzbekistan   8498.357             2.01\n",
       "150                 Venezuela  10797.621             3.16\n",
       "151                   Vietnam   7513.112             3.08\n",
       "152                     Yemen   2253.315             1.95\n",
       "153                    Zambia   4117.823             5.61\n",
       "154                  Zimbabwe   2908.261             3.16\n",
       "\n",
       "[155 rows x 3 columns]"
      ]
     },
     "execution_count": 21,
     "metadata": {},
     "output_type": "execute_result"
    }
   ],
   "source": [
    "#查詢解決方式後，因為Unnamed數目不多，先決定用drop將其去除\n",
    "\n",
    "df2=df1.drop(['Unnamed: 3', 'Unnamed: 4', 'Unnamed: 5','Unnamed: 6','Unnamed: 7'],axis = 1)\n",
    "df3=df2.drop([155,156,157,158,159,160])\n",
    "df3"
   ]
  },
  {
   "cell_type": "markdown",
   "metadata": {},
   "source": [
    "第四步：先對變數進行敘述性統計\n"
   ]
  },
  {
   "cell_type": "code",
   "execution_count": 25,
   "metadata": {},
   "outputs": [
    {
     "data": {
      "image/png": "[encoded data removed]",
      "text/plain": [
       "<Figure size 432x288 with 1 Axes>"
      ]
     },
     "metadata": {
      "needs_background": "light"
     },
     "output_type": "display_data"
    }
   ],
   "source": [
    "#x：2018年人均GDP\n",
    "#畫出直方圖\n",
    "\n",
    "plt.hist(df3['2018 GDP'],bins=[0,1000,2000,5000,7000,10000,20000,30000,40000,50000,60000,70000,80000,90000,100000,150000],fc='#ffb6b9')\n",
    "plt.xlabel(\"國際元\",fontproperties=\"Microsoft JhengHei\")\n",
    "plt.ylabel(\"國家數量\",fontproperties=\"Microsoft JhengHei\")\n",
    "plt.title(\"2018 年以購買力平價計算的人均國內生產毛額（單位：國際元）\",fontproperties=\"Microsoft JhengHei\")\n",
    "\n",
    "plt.show()"
   ]
  },
  {
   "cell_type": "code",
   "execution_count": 32,
   "metadata": {},
   "outputs": [
    {
     "data": {
      "text/plain": [
       "22379.224064516122"
      ]
     },
     "execution_count": 32,
     "metadata": {},
     "output_type": "execute_result"
    }
   ],
   "source": [
    "#檢視x的平均數\n",
    "np.mean(df3['2018 GDP'])"
   ]
  },
  {
   "cell_type": "code",
   "execution_count": 29,
   "metadata": {},
   "outputs": [
    {
     "data": {
      "text/plain": [
       "22762.49844262351"
      ]
     },
     "execution_count": 29,
     "metadata": {},
     "output_type": "execute_result"
    }
   ],
   "source": [
    "#檢視x的標準差\n",
    "np.std(df3['2018 GDP'])"
   ]
  },
  {
   "cell_type": "code",
   "execution_count": 30,
   "metadata": {},
   "outputs": [
    {
     "data": {
      "text/plain": [
       "129638.44099999999"
      ]
     },
     "execution_count": 30,
     "metadata": {},
     "output_type": "execute_result"
    }
   ],
   "source": [
    "#檢視x的最大值\n",
    "max(df3['2018 GDP'])"
   ]
  },
  {
   "cell_type": "code",
   "execution_count": 31,
   "metadata": {},
   "outputs": [
    {
     "data": {
      "text/plain": [
       "732.796"
      ]
     },
     "execution_count": 31,
     "metadata": {},
     "output_type": "execute_result"
    }
   ],
   "source": [
    "#檢視x的最小值\n",
    "min(df3['2018 GDP'])"
   ]
  },
  {
   "cell_type": "code",
   "execution_count": 26,
   "metadata": {},
   "outputs": [
    {
     "data": {
      "image/png": "[encoded data removed]",
      "text/plain": [
       "<Figure size 432x288 with 1 Axes>"
      ]
     },
     "metadata": {
      "needs_background": "light"
     },
     "output_type": "display_data"
    }
   ],
   "source": [
    "#y：2018年民主指數\n",
    "#畫出直方圖\n",
    "\n",
    "plt.hist(df3['Democracy index'],bins=[0,1,2,3,4,5,6,7,8,9,10],fc='#ffb6b9')\n",
    "plt.xlabel(\"民主指數\",fontproperties=\"Microsoft JhengHei\")\n",
    "plt.ylabel(\"國家數量\",fontproperties=\"Microsoft JhengHei\")\n",
    "plt.title(\"2018 年民主指數\",fontproperties=\"Microsoft JhengHei\")\n",
    "\n",
    "plt.show()"
   ]
  },
  {
   "cell_type": "code",
   "execution_count": 33,
   "metadata": {},
   "outputs": [
    {
     "data": {
      "text/plain": [
       "5.603677419354841"
      ]
     },
     "execution_count": 33,
     "metadata": {},
     "output_type": "execute_result"
    }
   ],
   "source": [
    "#檢視y的平均數\n",
    "np.mean(df3['Democracy index'])"
   ]
  },
  {
   "cell_type": "code",
   "execution_count": 34,
   "metadata": {},
   "outputs": [
    {
     "data": {
      "text/plain": [
       "2.1500052571143042"
      ]
     },
     "execution_count": 34,
     "metadata": {},
     "output_type": "execute_result"
    }
   ],
   "source": [
    "#檢視y的標準差\n",
    "np.std(df3['Democracy index'])"
   ]
  },
  {
   "cell_type": "code",
   "execution_count": 35,
   "metadata": {},
   "outputs": [
    {
     "data": {
      "text/plain": [
       "9.87"
      ]
     },
     "execution_count": 35,
     "metadata": {},
     "output_type": "execute_result"
    }
   ],
   "source": [
    "#檢視y的最大值\n",
    "max(df3['Democracy index'])"
   ]
  },
  {
   "cell_type": "code",
   "execution_count": 36,
   "metadata": {},
   "outputs": [
    {
     "data": {
      "text/plain": [
       "1.52"
      ]
     },
     "execution_count": 36,
     "metadata": {},
     "output_type": "execute_result"
    }
   ],
   "source": [
    "#檢視y的最小值\n",
    "min(df3['Democracy index'])"
   ]
  },
  {
   "cell_type": "code",
   "execution_count": 37,
   "metadata": {},
   "outputs": [
    {
     "data": {
      "image/png": "[encoded data removed]",
      "text/plain": [
       "<Figure size 432x288 with 1 Axes>"
      ]
     },
     "metadata": {
      "needs_background": "light"
     },
     "output_type": "display_data"
    }
   ],
   "source": [
    "#再畫出散佈圖用直觀方式檢視分布情況\n",
    "\n",
    "df3.plot(x='2018 GDP',y='Democracy index',kind='scatter',fc='red')\n",
    "plt.show()"
   ]
  }
 ],
 "metadata": {
  "kernelspec": {
   "display_name": "Python 3",
   "language": "python",
   "name": "python3"
  },
  "language_info": {
   "codemirror_mode": {
    "name": "ipython",
    "version": 3
   },
   "file_extension": ".py",
   "mimetype": "text/x-python",
   "name": "python",
   "nbconvert_exporter": "python",
   "pygments_lexer": "ipython3",
   "version": "3.7.3"
  }
 },
 "nbformat": 4,
 "nbformat_minor": 2
}
