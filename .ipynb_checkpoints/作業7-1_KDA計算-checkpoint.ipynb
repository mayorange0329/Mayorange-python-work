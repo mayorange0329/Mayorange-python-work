{
 "cells": [
  {
   "cell_type": "code",
   "execution_count": 9,
   "metadata": {},
   "outputs": [],
   "source": [
    "%matplotlib inline\n",
    "\n",
    "import numpy as np\n",
    "import matplotlib.pyplot as plt\n",
    "import pandas as pd\n",
    "import sympy as sp\n",
    "from sympy import S\n",
    "import random"
   ]
  },
  {
   "cell_type": "markdown",
   "metadata": {},
   "source": [
    "# KDA計算\n",
    "\n",
    "### KDA指的是KILL DEATH ASSIST（殺人率，死亡率，支援率），出自遊戲《DotA》、《LOL》等遊戲。\n",
    "### 一般公式是（殺人數+助攻數）/死亡數； (若死亡數為0則默認為1)。"
   ]
  },
  {
   "cell_type": "code",
   "execution_count": 53,
   "metadata": {},
   "outputs": [],
   "source": [
    "game=[1,2,3,4,5,6,7,8,9,10,11,12,13,14,15]\n",
    "K=[7,1,9,1,8,6,8,13,2,3,15,2,9,7,3]\n",
    "D=[1,5,1,5,1,3,1,1,4,1,2,4,1,1,1]\n",
    "A=[9,3,6,9,11,9,3,11,1,10,5,3,10,5,3]\n",
    "Damage=[19.5,15.5,25,14.6,27.7,26.5,25.1,35.5,19.9,36.1,39.6,28.9,24.1,18.7,17.9]\n",
    "WL=[1,0,0,1,1,0,0,1,0,1]"
   ]
  },
  {
   "cell_type": "code",
   "execution_count": 47,
   "metadata": {},
   "outputs": [],
   "source": [
    "arr_K=np.array(K)\n",
    "arr_D=np.array(D)\n",
    "arr_A=np.array(A)\n",
    "arr_WL=np.array(WL)"
   ]
  },
  {
   "cell_type": "code",
   "execution_count": 48,
   "metadata": {},
   "outputs": [],
   "source": [
    "KDA=(arr_K+arr_A)/arr_D"
   ]
  },
  {
   "cell_type": "code",
   "execution_count": 49,
   "metadata": {},
   "outputs": [
    {
     "data": {
      "text/plain": [
       "array([16.  ,  0.8 , 15.  ,  2.  , 19.  ,  5.  , 11.  , 24.  ,  0.75,\n",
       "       13.  , 10.  ,  1.25, 19.  , 12.  ,  6.  ])"
      ]
     },
     "execution_count": 49,
     "metadata": {},
     "output_type": "execute_result"
    }
   ],
   "source": [
    "KDA"
   ]
  }
 ],
 "metadata": {
  "kernelspec": {
   "display_name": "Python 3",
   "language": "python",
   "name": "python3"
  },
  "language_info": {
   "codemirror_mode": {
    "name": "ipython",
    "version": 3
   },
   "file_extension": ".py",
   "mimetype": "text/x-python",
   "name": "python",
   "nbconvert_exporter": "python",
   "pygments_lexer": "ipython3",
   "version": "3.7.3"
  }
 },
 "nbformat": 4,
 "nbformat_minor": 2
}
