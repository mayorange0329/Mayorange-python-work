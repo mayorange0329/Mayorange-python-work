{
 "cells": [
  {
   "cell_type": "code",
   "execution_count": 1,
   "metadata": {},
   "outputs": [],
   "source": [
    "%matplotlib inline\n",
    "\n",
    "import numpy as np\n",
    "import matplotlib.pyplot as plt\n",
    "import pandas as pd\n",
    "import pandas as pd\n",
    "import math"
   ]
  },
  {
   "cell_type": "markdown",
   "metadata": {},
   "source": [
    "## 作業2\n",
    "\n",
    "餐點總金額試算"
   ]
  },
  {
   "cell_type": "code",
   "execution_count": 4,
   "metadata": {},
   "outputs": [
    {
     "name": "stdout",
     "output_type": "stream",
     "text": [
      "歡迎使用餐點金額試算小工具！\n",
      "請輸入您的主餐份數: 4\n",
      "請輸入您的配餐份數: 3\n",
      "請輸入您想加購的塑膠袋個數: 1\n",
      "請輸入想加購的甜點份數份數: 5\n",
      "您的餐點總金額為621\n"
     ]
    }
   ],
   "source": [
    "print(\"歡迎使用餐點金額試算小工具！\")\n",
    "\n",
    "a=int(input('請輸入您的主餐份數: '))\n",
    "b=int(input('請輸入您的配餐份數: '))\n",
    "c=int(input('請輸入您想加購的塑膠袋個數: '))\n",
    "d=int(input('請輸入想加購的甜點份數份數: '))\n",
    "e=a*80+b*50+c+d*30\n",
    "print('您的餐點總金額為'+str(e))"
   ]
  }
 ],
 "metadata": {
  "kernelspec": {
   "display_name": "Python 3",
   "language": "python",
   "name": "python3"
  },
  "language_info": {
   "codemirror_mode": {
    "name": "ipython",
    "version": 3
   },
   "file_extension": ".py",
   "mimetype": "text/x-python",
   "name": "python",
   "nbconvert_exporter": "python",
   "pygments_lexer": "ipython3",
   "version": "3.7.3"
  }
 },
 "nbformat": 4,
 "nbformat_minor": 2
}
