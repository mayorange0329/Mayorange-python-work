{
 "cells": [
  {
   "cell_type": "code",
   "execution_count": 10,
   "metadata": {},
   "outputs": [],
   "source": [
    "%matplotlib inline\n",
    "\n",
    "import numpy as np\n",
    "import matplotlib.pyplot as plt\n",
    "import pandas as pd\n",
    "import pandas as pd\n",
    "import math"
   ]
  },
  {
   "cell_type": "markdown",
   "metadata": {},
   "source": [
    "## Calculate\n",
    "### $2\\sum_{k=333333}^{666666} k$= 333333666666\n",
    "\n",
    "\n",
    "\n",
    "參考出處：[Twitter@potetoichiro](https://twitter.com/potetoichiro/status/1180841586852151296?s=20&fbclid=IwAR217l_eJqQdFGp9NUFrQR3OUAev54dLyDIsKK6e6z81Y1oZKNtm00e_gYc)"
   ]
  },
  {
   "cell_type": "code",
   "execution_count": 13,
   "metadata": {},
   "outputs": [
    {
     "name": "stdout",
     "output_type": "stream",
     "text": [
      "333333666666\n"
     ]
    }
   ],
   "source": [
    "sum = 0\n",
    "for k in range(333333,666667):\n",
    "    sum = sum + k \n",
    "print(2*sum)"
   ]
  }
 ],
 "metadata": {
  "kernelspec": {
   "display_name": "Python 3",
   "language": "python",
   "name": "python3"
  },
  "language_info": {
   "codemirror_mode": {
    "name": "ipython",
    "version": 3
   },
   "file_extension": ".py",
   "mimetype": "text/x-python",
   "name": "python",
   "nbconvert_exporter": "python",
   "pygments_lexer": "ipython3",
   "version": "3.7.3"
  }
 },
 "nbformat": 4,
 "nbformat_minor": 2
}
