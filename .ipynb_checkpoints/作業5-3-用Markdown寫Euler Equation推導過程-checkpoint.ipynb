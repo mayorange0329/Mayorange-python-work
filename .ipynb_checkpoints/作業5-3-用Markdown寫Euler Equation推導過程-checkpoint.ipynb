{
 "cells": [
  {
   "cell_type": "markdown",
   "metadata": {},
   "source": [
    "### 將之前手寫的總體經濟學作業用Markdown再寫一次"
   ]
  },
  {
   "cell_type": "markdown",
   "metadata": {},
   "source": [
    "### Problem 1\n",
    "\n",
    "給定兩期消費模型問題為\n",
    "\n",
    "$$maxU = u(C_t) + \\beta u(C_{t+1})$$\n",
    "$$s.t. C_t + \\frac{C_{t+1}}{1+r_t} = Y_t + \\frac{Y_{t+1}}{1+r_t}$$\n",
    "\n",
    "而效用函數為 $u(C) = \\frac{C^{1-\\sigma}}{1-\\sigma}$，其中$u'(C) = C^{-\\sigma}$，請推導出 Euler Equation 為 $ C_t^{-\\sigma} = \\beta (1+r_t) C_{t+1}^{-\\sigma}$"
   ]
  },
  {
   "cell_type": "markdown",
   "metadata": {},
   "source": [
    "### Solution 1：\n",
    "\n",
    "\n",
    "因為消費只存在於兩期，所以最適解為：$$u'(C_t)=\\beta({1+r_t}u'(C_t+1))$$\n",
    "\n",
    "代入$u'(C) = C^{-\\sigma}$，推導出 Euler Equation 為\n",
    "$$ C_t^{-\\sigma} = \\beta (1+r_t) C_{t+1}^{-\\sigma}$$"
   ]
  },
  {
   "cell_type": "markdown",
   "metadata": {},
   "source": [
    "---\n",
    "\n",
    "### Problem 2:\n",
    "\n",
    "使用 Euler Equation 與限制式\n",
    "$$C_t + \\frac{C_{t+1}}{1+r_t} = Y_t + \\frac{Y_{t+1}}{1+r_t}$$\n",
    "推導出\n",
    "$$C_t = \\frac{1}{(1+\\beta\\cdot(1+r_t)^{\\frac{1-\\sigma}{\\sigma}} )} \\bigg[ Y_t + \\frac{Y_{t+1}}{1+r_t} \\bigg]$$"
   ]
  },
  {
   "cell_type": "markdown",
   "metadata": {},
   "source": [
    "### Solution 2:\n",
    "\n",
    "將Euler Equation$ C_t^{-\\sigma} = \\beta (1+r_t) C_{t+1}^{-\\sigma}$左右同時開$-\\sigma$次方並整理：\n",
    "$$ C_t = \\beta^{\\frac{-1}{\\sigma}} (1+r_t)^{\\frac{-1}{\\sigma}} C_{t+1}$$\n",
    "$$ C_{t+1} = C_t\\beta^{\\frac{1}{\\sigma}} (1+r_t)^{\\frac{1}{\\sigma}}$$\n",
    "將$ C_{t+1} = C_t\\beta^{\\frac{1}{\\sigma}} (1+r_t)^{\\frac{1}{\\sigma}}$代回限制式$C_t + \\frac{C_{t+1}}{1+r_t} = Y_t + \\frac{Y_{t+1}}{1+r_t}$並整理，即可得出：\n",
    "\n",
    "\n",
    "$$C_t = \\frac{1}{(1+\\beta\\cdot(1+r_t)^{\\frac{1-\\sigma}{\\sigma}} )} \\bigg[ Y_t + \\frac{Y_{t+1}}{1+r_t} \\bigg]$$"
   ]
  }
 ],
 "metadata": {
  "kernelspec": {
   "display_name": "Python 3",
   "language": "python",
   "name": "python3"
  },
  "language_info": {
   "codemirror_mode": {
    "name": "ipython",
    "version": 3
   },
   "file_extension": ".py",
   "mimetype": "text/x-python",
   "name": "python",
   "nbconvert_exporter": "python",
   "pygments_lexer": "ipython3",
   "version": "3.7.3"
  }
 },
 "nbformat": 4,
 "nbformat_minor": 2
}
