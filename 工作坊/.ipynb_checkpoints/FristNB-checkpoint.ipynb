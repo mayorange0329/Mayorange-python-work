{
 "cells": [
  {
   "cell_type": "raw",
   "metadata": {},
   "source": [
    "# Jupyter Notebook 是一個建構於網頁應用程式的整合開發環境，允許資料科學團隊像是寫作筆記一般地撰寫程式、顯示程式輸出、視覺化、支援 Markdown 標記語言與 LaTex 數學方程式的文字段落，從 2014 年推出以來風靡資料科學生態圈。Jupyter 其中 Ju 指的是 Julia 語言、py 代表 Python 語言而 r 則為 R 語言，這個命名也讓 Jupyter 專案希望海納百川、作為多種程式語言的共同撰寫介面的企圖心一覽無遺。多數筆記本輸出都是靜態圖形或表格，但資料科學團隊時常有更多的應用場景是需要即時（real-time）地看到參數調校對模型輸出所產生的影響，在這個著力點上，Jupyter 專案善用了身為網頁應用程式的優勢，設計出具備網頁前端 Widgets 的表單功能，讓資料科學團隊可以在筆記本中添加互動式介面，讓實驗、試誤、模擬或學習可以在 Jupyter Notebook 中實現參數化（parameterization）。"
   ]
  },
  {
   "cell_type": "markdown",
   "metadata": {},
   "source": [
    "# My First Jupyter Notebook with AI Project"
   ]
  },
  {
   "cell_type": "markdown",
   "metadata": {},
   "source": [
    "今天會使用的新元件"
   ]
  },
  {
   "cell_type": "code",
   "execution_count": null,
   "metadata": {},
   "outputs": [],
   "source": [
    "pip install ipywidgets\n",
    "jupyter nbextension enable --py widgetsnbextension"
   ]
  },
  {
   "cell_type": "markdown",
   "metadata": {},
   "source": [
    "Dropdownlist Sample"
   ]
  },
  {
   "cell_type": "code",
   "execution_count": 4,
   "metadata": {},
   "outputs": [
    {
     "data": {
      "application/vnd.jupyter.widget-view+json": {
       "model_id": "3c2d7a29ad404cc7bdc6106e9af355d1",
       "version_major": 2,
       "version_minor": 0
      },
      "text/plain": [
       "Dropdown(description='Next WMM:', options=('Tokyo Marathon', 'Boston Marathon', 'New York Marathon', 'Chicago …"
      ]
     },
     "metadata": {},
     "output_type": "display_data"
    }
   ],
   "source": [
    "import ipywidgets as widgets\n",
    "from IPython.display import display\n",
    "\n",
    "world_majors = widgets.Dropdown(\n",
    "    options=['Tokyo Marathon', 'Boston Marathon', 'New York Marathon',\n",
    "            'Chicago Marathon', 'London Marathon', 'Berlin Marathon'],\n",
    "    value='Tokyo Marathon',\n",
    "    description='Next WMM:',\n",
    "    disabled=False,\n",
    ")\n",
    "display(world_majors)"
   ]
  },
  {
   "cell_type": "markdown",
   "metadata": {},
   "source": [
    "Radiobutton Sample"
   ]
  },
  {
   "cell_type": "code",
   "execution_count": 5,
   "metadata": {},
   "outputs": [
    {
     "data": {
      "application/vnd.jupyter.widget-view+json": {
       "model_id": "0e80552407de4264805713f68be3e343",
       "version_major": 2,
       "version_minor": 0
      },
      "text/plain": [
       "RadioButtons(description='Next WMM:', options=('Tokyo Marathon', 'Boston Marathon', 'New York Marathon', 'Chic…"
      ]
     },
     "metadata": {},
     "output_type": "display_data"
    }
   ],
   "source": [
    "import ipywidgets as widgets\n",
    "from IPython.display import display\n",
    "\n",
    "rbt = widgets.RadioButtons(\n",
    "    options=['Tokyo Marathon', 'Boston Marathon', 'New York Marathon',\n",
    "            'Chicago Marathon', 'London Marathon', 'Berlin Marathon'],\n",
    "    value='Tokyo Marathon',\n",
    "    description='Next WMM:',\n",
    "    disabled=False,\n",
    ")\n",
    "display(rbt)"
   ]
  },
  {
   "cell_type": "code",
   "execution_count": 6,
   "metadata": {},
   "outputs": [
    {
     "name": "stdout",
     "output_type": "stream",
     "text": [
      "Tokyo Marathon\n"
     ]
    }
   ],
   "source": [
    "print(rbt.value)"
   ]
  },
  {
   "cell_type": "markdown",
   "metadata": {},
   "source": [
    "Date Puck up "
   ]
  },
  {
   "cell_type": "code",
   "execution_count": 7,
   "metadata": {},
   "outputs": [
    {
     "data": {
      "application/vnd.jupyter.widget-view+json": {
       "model_id": "9104bca527ad4ae3881d02a64e49b6f5",
       "version_major": 2,
       "version_minor": 0
      },
      "text/plain": [
       "DatePicker(value=None, description='Next WMM:')"
      ]
     },
     "metadata": {},
     "output_type": "display_data"
    }
   ],
   "source": [
    "import ipywidgets as widgets\n",
    "from IPython.display import display\n",
    "\n",
    "next_wmm_date = widgets.DatePicker(\n",
    "    description='Next WMM:'\n",
    ")\n",
    "display(next_wmm_date)"
   ]
  },
  {
   "cell_type": "code",
   "execution_count": 8,
   "metadata": {},
   "outputs": [
    {
     "name": "stdout",
     "output_type": "stream",
     "text": [
      "2020 Tokyo Marathon will be hosted on None.\n"
     ]
    }
   ],
   "source": [
    "wmm_msg = \"2020 Tokyo Marathon will be hosted on {}.\".format(next_wmm_date.value)\n",
    "print(wmm_msg)"
   ]
  },
  {
   "cell_type": "code",
   "execution_count": null,
   "metadata": {},
   "outputs": [],
   "source": [
    "Text box Sample"
   ]
  },
  {
   "cell_type": "code",
   "execution_count": 9,
   "metadata": {},
   "outputs": [
    {
     "data": {
      "application/vnd.jupyter.widget-view+json": {
       "model_id": "3e549f44ab6140079e5a9e9dad9a71b3",
       "version_major": 2,
       "version_minor": 0
      },
      "text/plain": [
       "Text(value='world', description='Say hello to:', placeholder='Type something')"
      ]
     },
     "metadata": {},
     "output_type": "display_data"
    }
   ],
   "source": [
    "import ipywidgets as widgets\n",
    "from IPython.display import display\n",
    "\n",
    "txt = widgets.Text(\n",
    "    value='world',\n",
    "    placeholder='Type something',\n",
    "    description='Say hello to:',\n",
    "    disabled=False\n",
    ")\n",
    "display(txt)"
   ]
  },
  {
   "cell_type": "code",
   "execution_count": 10,
   "metadata": {},
   "outputs": [
    {
     "name": "stdout",
     "output_type": "stream",
     "text": [
      "world\n"
     ]
    }
   ],
   "source": [
    "print(txt.value)"
   ]
  },
  {
   "cell_type": "markdown",
   "metadata": {},
   "source": [
    "My AI Project using MS Azure AI to translate English to Chinese"
   ]
  },
  {
   "cell_type": "code",
   "execution_count": 11,
   "metadata": {},
   "outputs": [
    {
     "data": {
      "application/vnd.jupyter.widget-view+json": {
       "model_id": "05512c446da74d3dbe11fdb32f5aed11",
       "version_major": 2,
       "version_minor": 0
      },
      "text/plain": [
       "Textarea(value='2020 Tokyo Marathon', description='Say hello to:', placeholder='Type something')"
      ]
     },
     "metadata": {},
     "output_type": "display_data"
    }
   ],
   "source": [
    "import ipywidgets as widgets\n",
    "from IPython.display import display\n",
    "say_hello_to = widgets.Textarea(\n",
    "    value='2020 Tokyo Marathon',\n",
    "    placeholder='Type something',\n",
    "    description='Say hello to:',\n",
    "    disabled=False\n",
    ")\n",
    "display(say_hello_to)"
   ]
  },
  {
   "cell_type": "code",
   "execution_count": 12,
   "metadata": {},
   "outputs": [
    {
     "name": "stdout",
     "output_type": "stream",
     "text": [
      "你好2020东京马拉松！\n"
     ]
    }
   ],
   "source": [
    "import requests\n",
    "import json\n",
    "\n",
    "\n",
    "url = \"https://api-apc.cognitive.microsofttranslator.com/translate\"\n",
    " \n",
    "querystring = {\"api-version\":\"3.0\",\"to\":\"zh-Hans\"}\n",
    " \n",
    "payload = \"[{ \\\"text\\\" : \\\"\"+\"Hello {}!\".format(say_hello_to.value) +\" \\\"}]\"\n",
    "headers = {\n",
    "    'content-type': \"application/json\",\n",
    "    'Ocp-Apim-Subscription-Key': 'ebd66f59fa6649b296e97c21ca5dfa4c',\n",
    "    }\n",
    " \n",
    "response = requests.request(\"POST\", url, data=payload, headers=headers, params=querystring)\n",
    "#print first 4000 characters of response\n",
    "ans = json.loads(response.text[:4000])\n",
    "print(ans[0]['translations'][0]['text'])"
   ]
  },
  {
   "cell_type": "code",
   "execution_count": 13,
   "metadata": {},
   "outputs": [
    {
     "data": {
      "application/vnd.jupyter.widget-view+json": {
       "model_id": "16ceb78dd11b42b880e843156ba3feaf",
       "version_major": 2,
       "version_minor": 0
      },
      "text/plain": [
       "VBox(children=(Button(description='My Button', style=ButtonStyle()), Output()))"
      ]
     },
     "metadata": {},
     "output_type": "display_data"
    }
   ],
   "source": [
    "button = widgets.Button(description='My Button')\n",
    "out = widgets.Output()\n",
    "def on_button_clicked(_):\n",
    "      # \"linking function with output\"\n",
    "      with out:\n",
    "          # what happens when we press the button\n",
    "          print('Something happens!')\n",
    "        \n",
    "# linking button and function together using a button's method\n",
    "button.on_click(on_button_clicked)\n",
    "# displaying button and its output together\n",
    "widgets.VBox([button,out])"
   ]
  }
 ],
 "metadata": {
  "kernelspec": {
   "display_name": "Python 3",
   "language": "python",
   "name": "python3"
  },
  "language_info": {
   "codemirror_mode": {
    "name": "ipython",
    "version": 3
   },
   "file_extension": ".py",
   "mimetype": "text/x-python",
   "name": "python",
   "nbconvert_exporter": "python",
   "pygments_lexer": "ipython3",
   "version": "3.7.3"
  }
 },
 "nbformat": 4,
 "nbformat_minor": 2
}
