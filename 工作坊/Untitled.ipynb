{
 "cells": [
  {
   "cell_type": "code",
   "execution_count": 1,
   "metadata": {},
   "outputs": [
    {
     "data": {
      "application/vnd.jupyter.widget-view+json": {
       "model_id": "045c89cc66f048d2a27d782f2ce79c8f",
       "version_major": 2,
       "version_minor": 0
      },
      "text/plain": [
       "Dropdown(description='Next WMM:', options=('Tokyo Marathon', 'Boston Marathon', 'New York Marathon', 'Chicago …"
      ]
     },
     "metadata": {},
     "output_type": "display_data"
    }
   ],
   "source": [
    "import ipywidgets as widgets\n",
    "from IPython.display import display\n",
    "\n",
    "world_majors = widgets.Dropdown(\n",
    "    options=['Tokyo Marathon', 'Boston Marathon', 'New York Marathon',\n",
    "            'Chicago Marathon', 'London Marathon', 'Berlin Marathon'],\n",
    "    value='Tokyo Marathon',\n",
    "    description='Next WMM:',\n",
    "    disabled=False,\n",
    ")\n",
    "display(world_majors)"
   ]
  },
  {
   "cell_type": "code",
   "execution_count": 3,
   "metadata": {},
   "outputs": [
    {
     "data": {
      "application/vnd.jupyter.widget-view+json": {
       "model_id": "ac0b98cda6da4719a1c6eb935c2807e3",
       "version_major": 2,
       "version_minor": 0
      },
      "text/plain": [
       "RadioButtons(description='Next WMM:', options=('Tokyo Marathon', 'Boston Marathon', 'New York Marathon', 'Chic…"
      ]
     },
     "metadata": {},
     "output_type": "display_data"
    }
   ],
   "source": [
    "import ipywidgets as widgets\n",
    "from IPython.display import display\n",
    "\n",
    "rbt = widgets.RadioButtons(\n",
    "    options=['Tokyo Marathon', 'Boston Marathon', 'New York Marathon',\n",
    "            'Chicago Marathon', 'London Marathon', 'Berlin Marathon'],\n",
    "    value='Tokyo Marathon',\n",
    "    description='Next WMM:',\n",
    "    disabled=False,\n",
    ")\n",
    "display(rbt)"
   ]
  },
  {
   "cell_type": "code",
   "execution_count": 4,
   "metadata": {},
   "outputs": [
    {
     "name": "stdout",
     "output_type": "stream",
     "text": [
      "Tokyo Marathon\n"
     ]
    }
   ],
   "source": [
    "print(rbt.value)"
   ]
  },
  {
   "cell_type": "code",
   "execution_count": 5,
   "metadata": {},
   "outputs": [
    {
     "data": {
      "application/vnd.jupyter.widget-view+json": {
       "model_id": "5f1c149a608e4887b6a543e98c47ddab",
       "version_major": 2,
       "version_minor": 0
      },
      "text/plain": [
       "DatePicker(value=None, description='Next WMM:')"
      ]
     },
     "metadata": {},
     "output_type": "display_data"
    }
   ],
   "source": [
    "import ipywidgets as widgets\n",
    "from IPython.display import display\n",
    "\n",
    "next_wmm_date = widgets.DatePicker(\n",
    "    description='Next WMM:'\n",
    ")\n",
    "display(next_wmm_date)"
   ]
  },
  {
   "cell_type": "code",
   "execution_count": 6,
   "metadata": {},
   "outputs": [
    {
     "name": "stdout",
     "output_type": "stream",
     "text": [
      "2020 Tokyo Marathon will be hosted on 2020-02-02.\n"
     ]
    }
   ],
   "source": [
    "wmm_msg = \"2020 Tokyo Marathon will be hosted on {}.\".format(next_wmm_date.value)\n",
    "print(wmm_msg)"
   ]
  },
  {
   "cell_type": "code",
   "execution_count": 7,
   "metadata": {},
   "outputs": [
    {
     "data": {
      "application/vnd.jupyter.widget-view+json": {
       "model_id": "03ad2bc227c34866b6cd0b9f373dbcf3",
       "version_major": 2,
       "version_minor": 0
      },
      "text/plain": [
       "Text(value='world', description='Say hello to:', placeholder='Type something')"
      ]
     },
     "metadata": {},
     "output_type": "display_data"
    }
   ],
   "source": [
    "import ipywidgets as widgets\n",
    "from IPython.display import display\n",
    "\n",
    "txt = widgets.Text(\n",
    "    value='world',\n",
    "    placeholder='Type something',\n",
    "    description='Say hello to:',\n",
    "    disabled=False\n",
    ")\n",
    "display(txt)"
   ]
  },
  {
   "cell_type": "code",
   "execution_count": 8,
   "metadata": {},
   "outputs": [
    {
     "name": "stdout",
     "output_type": "stream",
     "text": [
      "apple\n"
     ]
    }
   ],
   "source": [
    "print(txt.value)"
   ]
  },
  {
   "cell_type": "code",
   "execution_count": 13,
   "metadata": {},
   "outputs": [
    {
     "data": {
      "application/vnd.jupyter.widget-view+json": {
       "model_id": "1e61c961061b400fb8500022cc9bf4a2",
       "version_major": 2,
       "version_minor": 0
      },
      "text/plain": [
       "Textarea(value='2020 Tokyo Marathon', description='Say hello to:', placeholder='Type something')"
      ]
     },
     "metadata": {},
     "output_type": "display_data"
    },
    {
     "name": "stdout",
     "output_type": "stream",
     "text": [
      "你好2020东京马拉松！\n"
     ]
    }
   ],
   "source": [
    "import ipywidgets as widgets\n",
    "from IPython.display import display\n",
    "say_hello_to = widgets.Textarea(\n",
    "    value='2020 Tokyo Marathon',\n",
    "    placeholder='Type something',\n",
    "    description='Say hello to:',\n",
    "    disabled=False\n",
    ")\n",
    "display(say_hello_to)\n",
    "\n",
    "\n",
    "import requests\n",
    "import json\n",
    "\n",
    "\n",
    "url = \"https://api-apc.cognitive.microsofttranslator.com/translate\"\n",
    " \n",
    "querystring = {\"api-version\":\"3.0\",\"to\":\"zh-Hans\"}\n",
    " \n",
    "payload = \"[{ \\\"text\\\" : \\\"\"+\"Hello {}!\".format(say_hello_to.value) +\" \\\"}]\"\n",
    "headers = {\n",
    "    'content-type': \"application/json\",\n",
    "    'Ocp-Apim-Subscription-Key': 'ebd66f59fa6649b296e97c21ca5dfa4c',\n",
    "    }\n",
    " \n",
    "response = requests.request(\"POST\", url, data=payload, headers=headers, params=querystring)\n",
    "#print first 4000 characters of response\n",
    "ans = json.loads(response.text[:4000])\n",
    "print(ans[0]['translations'][0]['text'])"
   ]
  },
  {
   "cell_type": "code",
   "execution_count": 11,
   "metadata": {},
   "outputs": [
    {
     "data": {
      "application/vnd.jupyter.widget-view+json": {
       "model_id": "bfbada0a7aaf419f91fe75c8d435799d",
       "version_major": 2,
       "version_minor": 0
      },
      "text/plain": [
       "VBox(children=(Button(description='My Button', style=ButtonStyle()), Output()))"
      ]
     },
     "metadata": {},
     "output_type": "display_data"
    }
   ],
   "source": [
    "button = widgets.Button(description='My Button')\n",
    "out = widgets.Output()\n",
    "def on_button_clicked(_):\n",
    "      # \"linking function with output\"\n",
    "      with out:\n",
    "          # what happens when we press the button\n",
    "          print('Something happens!')\n",
    "        \n",
    "# linking button and function together using a button's method\n",
    "button.on_click(on_button_clicked)\n",
    "# displaying button and its output together\n",
    "widgets.VBox([button,out])"
   ]
  },
  {
   "cell_type": "code",
   "execution_count": 20,
   "metadata": {},
   "outputs": [
    {
     "data": {
      "application/vnd.jupyter.widget-view+json": {
       "model_id": "ef327c14181a4244b3314f0920ef5b16",
       "version_major": 2,
       "version_minor": 0
      },
      "text/plain": [
       "Textarea(value='Type English', description='Type English:', placeholder='Type something')"
      ]
     },
     "metadata": {},
     "output_type": "display_data"
    }
   ],
   "source": [
    "\n",
    "\n",
    "\n"
   ]
  },
  {
   "cell_type": "code",
   "execution_count": 34,
   "metadata": {},
   "outputs": [
    {
     "data": {
      "application/vnd.jupyter.widget-view+json": {
       "model_id": "3839cc26344d41309794067eb44c8b7d",
       "version_major": 2,
       "version_minor": 0
      },
      "text/plain": [
       "Text(value=' ', description='翻譯：', placeholder='Type something')"
      ]
     },
     "metadata": {},
     "output_type": "display_data"
    },
    {
     "data": {
      "application/vnd.jupyter.widget-view+json": {
       "model_id": "ecfead1ae5594faf8a274b6a6254e045",
       "version_major": 2,
       "version_minor": 0
      },
      "text/plain": [
       "VBox(children=(Button(description='Translate', style=ButtonStyle()), Output()))"
      ]
     },
     "metadata": {},
     "output_type": "display_data"
    }
   ],
   "source": [
    "txt = widgets.Text(\n",
    "    value=' ',\n",
    "    placeholder='Type something',\n",
    "    description='翻譯：',\n",
    "    disabled=False\n",
    ")\n",
    "display(txt)\n",
    "\n",
    "url = \"https://api-apc.cognitive.microsofttranslator.com/translate\"\n",
    " \n",
    "querystring = {\"api-version\":\"3.0\",\"to\":\"zh-Hans\"}\n",
    " \n",
    "payload = \"[{ \\\"text\\\" : \\\"\"+format(txt.value) +\" \\\"}]\"\n",
    "headers = {\n",
    "    'content-type': \"application/json\",\n",
    "    'Ocp-Apim-Subscription-Key': 'ebd66f59fa6649b296e97c21ca5dfa4c',\n",
    "    }\n",
    " \n",
    "response = requests.request(\"POST\", url, data=payload, headers=headers, params=querystring)\n",
    "#print first 4000 characters of response\n",
    "ans = json.loads(response.text[:4000])\n",
    "\n",
    "\n",
    "button = widgets.Button(description='Translate')\n",
    "out = widgets.Output()\n",
    "def on_button_clicked(_):\n",
    "      # \"linking function with output\"\n",
    "      with out:\n",
    "        \n",
    "        url = \"https://api-apc.cognitive.microsofttranslator.com/translate\"\n",
    " \n",
    "        querystring = {\"api-version\":\"3.0\",\"to\":\"zh-Hans\"}\n",
    " \n",
    "        payload = \"[{ \\\"text\\\" : \\\"\"+format(txt.value) +\" \\\"}]\"\n",
    "        headers = {\n",
    "            'content-type': \"application/json\",\n",
    "            'Ocp-Apim-Subscription-Key': 'ebd66f59fa6649b296e97c21ca5dfa4c',\n",
    "            }\n",
    " \n",
    "        response = requests.request(\"POST\", url, data=payload, headers=headers, params=querystring)\n",
    "#print first 4000 characters of response\n",
    "        ans = json.loads(response.text[:4000])\n",
    "          # what happens when we press the button\n",
    "        print(ans[0]['translations'][0]['text'])\n",
    "        \n",
    "# linking button and function together using a button's method\n",
    "button.on_click(on_button_clicked)\n",
    "# displaying button and its output together\n",
    "widgets.VBox([button,out])"
   ]
  },
  {
   "cell_type": "code",
   "execution_count": null,
   "metadata": {},
   "outputs": [],
   "source": []
  }
 ],
 "metadata": {
  "kernelspec": {
   "display_name": "Python 3",
   "language": "python",
   "name": "python3"
  },
  "language_info": {
   "codemirror_mode": {
    "name": "ipython",
    "version": 3
   },
   "file_extension": ".py",
   "mimetype": "text/x-python",
   "name": "python",
   "nbconvert_exporter": "python",
   "pygments_lexer": "ipython3",
   "version": "3.7.3"
  }
 },
 "nbformat": 4,
 "nbformat_minor": 2
}
