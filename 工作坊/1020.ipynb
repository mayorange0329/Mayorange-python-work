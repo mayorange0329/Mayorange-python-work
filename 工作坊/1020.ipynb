{
 "cells": [
  {
   "cell_type": "code",
   "execution_count": 2,
   "metadata": {},
   "outputs": [
    {
     "name": "stdout",
     "output_type": "stream",
     "text": [
      "1\n",
      "2\n",
      "3\n",
      "4\n",
      "5\n",
      "2\n",
      "3\n",
      "4\n",
      "5\n",
      "6\n",
      "3\n",
      "4\n",
      "5\n",
      "6\n",
      "7\n",
      "finish\n"
     ]
    }
   ],
   "source": [
    "for i in [1,2,3]:\n",
    "    print(i)\n",
    "    for j in [1,2,3,4]:\n",
    "        print(j+i)\n",
    "\n",
    "print(\"finish\")"
   ]
  },
  {
   "cell_type": "code",
   "execution_count": 18,
   "metadata": {},
   "outputs": [
    {
     "name": "stdout",
     "output_type": "stream",
     "text": [
      "1 x 1 = 1 \n",
      "1 x 2 = 2 \n",
      "1 x 3 = 3 \n",
      "1 x 4 = 4 \n",
      "1 x 5 = 5 \n",
      "1 x 6 = 6 \n",
      "1 x 7 = 7 \n",
      "1 x 8 = 8 \n",
      "1 x 9 = 9 \n",
      "2 x 1 = 2 \n",
      "2 x 2 = 4 \n",
      "2 x 3 = 6 \n",
      "2 x 4 = 8 \n",
      "2 x 5 = 10 \n",
      "2 x 6 = 12 \n",
      "2 x 7 = 14 \n",
      "2 x 8 = 16 \n",
      "2 x 9 = 18 \n",
      "3 x 1 = 3 \n",
      "3 x 2 = 6 \n",
      "3 x 3 = 9 \n",
      "3 x 4 = 12 \n",
      "3 x 5 = 15 \n",
      "3 x 6 = 18 \n",
      "3 x 7 = 21 \n",
      "3 x 8 = 24 \n",
      "3 x 9 = 27 \n",
      "4 x 1 = 4 \n",
      "4 x 2 = 8 \n",
      "4 x 3 = 12 \n",
      "4 x 4 = 16 \n",
      "4 x 5 = 20 \n",
      "4 x 6 = 24 \n",
      "4 x 7 = 28 \n",
      "4 x 8 = 32 \n",
      "4 x 9 = 36 \n",
      "5 x 1 = 5 \n",
      "5 x 2 = 10 \n",
      "5 x 3 = 15 \n",
      "5 x 4 = 20 \n",
      "5 x 5 = 25 \n",
      "5 x 6 = 30 \n",
      "5 x 7 = 35 \n",
      "5 x 8 = 40 \n",
      "5 x 9 = 45 \n",
      "6 x 1 = 6 \n",
      "6 x 2 = 12 \n",
      "6 x 3 = 18 \n",
      "6 x 4 = 24 \n",
      "6 x 5 = 30 \n",
      "6 x 6 = 36 \n",
      "6 x 7 = 42 \n",
      "6 x 8 = 48 \n",
      "6 x 9 = 54 \n",
      "7 x 1 = 7 \n",
      "7 x 2 = 14 \n",
      "7 x 3 = 21 \n",
      "7 x 4 = 28 \n",
      "7 x 5 = 35 \n",
      "7 x 6 = 42 \n",
      "7 x 7 = 49 \n",
      "7 x 8 = 56 \n",
      "7 x 9 = 63 \n",
      "8 x 1 = 8 \n",
      "8 x 2 = 16 \n",
      "8 x 3 = 24 \n",
      "8 x 4 = 32 \n",
      "8 x 5 = 40 \n",
      "8 x 6 = 48 \n",
      "8 x 7 = 56 \n",
      "8 x 8 = 64 \n",
      "8 x 9 = 72 \n",
      "9 x 1 = 9 \n",
      "9 x 2 = 18 \n",
      "9 x 3 = 27 \n",
      "9 x 4 = 36 \n",
      "9 x 5 = 45 \n",
      "9 x 6 = 54 \n",
      "9 x 7 = 63 \n",
      "9 x 8 = 72 \n",
      "9 x 9 = 81 \n"
     ]
    }
   ],
   "source": [
    "for i in range(1,10):\n",
    "    for j in range(1,10):\n",
    "        k=  i*j\n",
    "        print ('%d x %d = %d ' %(i, j , k))"
   ]
  },
  {
   "cell_type": "code",
   "execution_count": 23,
   "metadata": {},
   "outputs": [
    {
     "name": "stdout",
     "output_type": "stream",
     "text": [
      "5.1 setosa\n",
      "4.9 setosa\n",
      "4.7 setosa\n",
      "4.6 setosa\n"
     ]
    }
   ],
   "source": [
    "import csv\n",
    "\n",
    "#開啟CSV檔案\n",
    "with open('Iris.csv',newline='')as csvfile:\n",
    "    \n",
    "    #讀取CSV檔案內容，將每一頁轉成一個Dictionary\n",
    "    rows=csv.DictReader(csvfile)\n",
    "    \n",
    "    #以迴圈輸出指定欄位\n",
    "    for row in rows:\n",
    "        print(row['sepal_length'],row['species'])"
   ]
  },
  {
   "cell_type": "code",
   "execution_count": 32,
   "metadata": {},
   "outputs": [],
   "source": [
    "import csv\n",
    "\n",
    "#開啟CSV檔案\n",
    "with open('output.csv','w',newline='')as csvfile:\n",
    "    \n",
    "    writer=csv.writer(csvfile,delimiter=' ')\n",
    "    \n",
    "    writer.writerow(['姓名','身高','體重'])\n",
    "    writer.writerow(['小明',179,65])\n",
    "    writer.writerow(['小華',170,49])"
   ]
  },
  {
   "cell_type": "code",
   "execution_count": null,
   "metadata": {},
   "outputs": [],
   "source": []
  }
 ],
 "metadata": {
  "kernelspec": {
   "display_name": "Python 3",
   "language": "python",
   "name": "python3"
  },
  "language_info": {
   "codemirror_mode": {
    "name": "ipython",
    "version": 3
   },
   "file_extension": ".py",
   "mimetype": "text/x-python",
   "name": "python",
   "nbconvert_exporter": "python",
   "pygments_lexer": "ipython3",
   "version": "3.7.3"
  }
 },
 "nbformat": 4,
 "nbformat_minor": 2
}
