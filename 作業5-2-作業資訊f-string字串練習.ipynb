{
 "cells": [
  {
   "cell_type": "code",
   "execution_count": 31,
   "metadata": {},
   "outputs": [],
   "source": [
    "%matplotlib inline\n",
    "\n",
    "import numpy as np\n",
    "import matplotlib.pyplot as plt\n",
    "import pandas as pd\n",
    "import pandas as pd\n",
    "import math"
   ]
  },
  {
   "cell_type": "markdown",
   "metadata": {},
   "source": [
    "### 用f-string寫一個能自己輸入作業資訊的字串練習"
   ]
  },
  {
   "cell_type": "code",
   "execution_count": 32,
   "metadata": {},
   "outputs": [
    {
     "name": "stdout",
     "output_type": "stream",
     "text": [
      "請輸入系級：經濟三\n",
      "請輸入學號：106208018\n",
      "請輸入姓名：陳湘琦\n",
      "請輸入作業週次：五\n",
      "請輸入作業編號：2\n"
     ]
    }
   ],
   "source": [
    "系級=input(\"請輸入系級：\")\n",
    "學號=input(\"請輸入學號：\")\n",
    "姓名=input(\"請輸入姓名：\")\n",
    "週次=input(\"請輸入作業週次：\")\n",
    "編號=input(\"請輸入作業編號：\")"
   ]
  },
  {
   "cell_type": "code",
   "execution_count": 33,
   "metadata": {},
   "outputs": [],
   "source": [
    "homeworknum=f\"數學軟體應用程式練習--第{週次}週  作業{編號}\"\n",
    "infor=f\"系級：{系級}  學號：:{學號}  姓名：{姓名}\""
   ]
  },
  {
   "cell_type": "code",
   "execution_count": 34,
   "metadata": {},
   "outputs": [
    {
     "name": "stdout",
     "output_type": "stream",
     "text": [
      "數學軟體應用程式練習--第五週  作業2\n",
      "系級：經濟三  學號：:106208018  姓名：陳湘琦\n"
     ]
    }
   ],
   "source": [
    "print(homeworknum)\n",
    "print(infor)"
   ]
  }
 ],
 "metadata": {
  "kernelspec": {
   "display_name": "Python 3",
   "language": "python",
   "name": "python3"
  },
  "language_info": {
   "codemirror_mode": {
    "name": "ipython",
    "version": 3
   },
   "file_extension": ".py",
   "mimetype": "text/x-python",
   "name": "python",
   "nbconvert_exporter": "python",
   "pygments_lexer": "ipython3",
   "version": "3.7.3"
  }
 },
 "nbformat": 4,
 "nbformat_minor": 2
}
