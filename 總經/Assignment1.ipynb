{
 "cells": [
  {
   "cell_type": "markdown",
   "metadata": {},
   "source": [
    "# Assignment 1 (Deadline 2019/10/4, 12:00PM)\n",
    "---\n",
    "106208018 經三乙 陳湘琦"
   ]
  },
  {
   "cell_type": "markdown",
   "metadata": {},
   "source": [
    "# Part I: Analytical Problems\n",
    "---"
   ]
  },
  {
   "cell_type": "markdown",
   "metadata": {},
   "source": [
    "## 1. GDP Accounting\n",
    "\n",
    "|      Producer     |      Production |   Intermediate Input | Value Added |---| Wage        | Rent        | Tax         | Profit      | Interest    |     \n",
    "|-------------------|------------|----------------------| ------------|---| ------------| ------------| ------------| ------------| ------------|    \n",
    "|   Rubber Producer |  $\\$2800$  |  $A$ (Import)        |   $\\$2500$  |---|   $\\$500$   |   $\\$500$   |   $\\$500$   |   $D$       |   $\\$400$   |    \n",
    "|   Tires Producer  |  $\\$3000$  |  $\\$2800$            |   $B$     |---|   $E$     |   $\\$20$    |   $\\$20$    |   $\\$50$    |   $\\$10$    |    \n",
    "|   Car Producer    |  $H$       |  $\\$2100$              |   $\\$3000$    |---|   $\\$100$   |   $\\$500$   |   $\\$1000$  |   $F$       |   $\\$400$   |    \n",
    "\n",
    "\n",
    "|      Expenditure  |  Cars (Unit) | Tires (Unit)         |     \n",
    "|-------------------|--------------|----------------------|    \n",
    "|   Household       |  $50$        |  $K$                 |    \n",
    "|   Firm            |  $100$       |  $100$               |    \n",
    "|   Government      |  $J$         |  $120$               |    \n",
    "|   Export          |  $50$        |  $50$                |    \n",
    "\n",
    "上面為 AAA 國在 2018 年度的 GDP 的相關資料表格。在 2018 年中，輪胎 (Tires) 單位價格是 $3$ 而車子單位價格是 $17$。而上方表格是與生產面和所得面相關資訊，下方的表格是支出面相關資訊 (亦即不同部門消費了多少單位最終商品)。請注意，此問題中，最終商品有輪胎與車子。輪胎製造商生產了 $1000$ 單位的輪胎，車輛製造商僅跟輪胎製造商購買 $700$ 單位的輪胎。此題中，不考慮存貨。請回答下面問題。\n",
    "\n",
    "\n",
    "1. 請回答表格中的 $A, B, D, E, F, H, J, K$ 的數字\n",
    "\n",
    "\n",
    "2. 請驗證不管由生產面，支出面或是所得面，計算出的 GDP 都一樣\n",
    "\n",
    "\n",
    "3. 給定 2017 為基期。假設 2017 輪胎價格為 $2$, 車子單位價格為 $15$，請算出該國 2018 的實質 GDP 與 GDP Deflator\n",
    "\n",
    "\n",
    "4. 給定題目資訊，你是否有辦法算出 CPI? 若沒有辦法，請說明你需要哪些資訊\n",
    "---"
   ]
  },
  {
   "cell_type": "markdown",
   "metadata": {},
   "source": [
    "## Sol 1.\n",
    "\n",
    "### A=2800-2500=300\n",
    "### B=3000-2800=200\n",
    "### D=2500-500-500-500-400=600\n",
    "### E=200-20-20-50-10=100\n",
    "### F=3000-100-500-1000-400=1000\n",
    "### H=2100+300=5100\n",
    "### J=300-100-50-50=100\n",
    "### K=1000-700-100-120-50=30\n",
    "\n",
    "\n",
    "\n",
    "## Sol 2.\n",
    "\n",
    "### 生產面：(2800-2500)+(3000-2800)+(5100-2100)=5700\n",
    "\n",
    "### 支出面：17*(50+100+100+50)+3*(30+100+120+50)-300=5700\n",
    "\n",
    "### 所得面：W(=500+100+100)+R(=500+20+500)+T(=500+20+1000)+P(=600+50+1000)+I(400+10+400)=5700\n",
    "\n",
    "\n",
    "\n",
    "## Sol 3.\n",
    "\n",
    "### 2018實質GDP= 2*300 + 15*300=5100\n",
    "### 2018 GDP Deflator=(3*300+17*300)/5100=1.1764\n",
    "\n",
    "\n",
    "\n",
    "## Sol.4\n",
    "\n",
    "### 否。尚須2017的輪胎、車子消費數量才能算出CPI。"
   ]
  },
  {
   "cell_type": "markdown",
   "metadata": {},
   "source": [
    "## 2. Consumption Demand\n",
    "\n",
    "給定兩期消費模型問題為\n",
    "\n",
    "\\begin{equation}\n",
    "\\begin{split}\n",
    "\\max \\;\\; & U  = u(C_t) + \\beta u(C_{t+1}) \\\\\n",
    "s.t. \\;\\; & C_t + \\frac{C_{t+1}}{1+r_t} = Y_t + \\frac{Y_{t+1}}{1+r_t}\n",
    "\\end{split}\n",
    "\\end{equation}\n",
    "\n",
    "而效用函數為 $$u(C) = \\frac{C^{1-\\sigma}}{1-\\sigma},\\; 其中 u'(C) = C^{-\\sigma}$$\n",
    "\n",
    "\n",
    "1. 請回答該效用函數對應的邊際效用有無符合邊際效用遞減?\n",
    "\n",
    "\n",
    "\n",
    "2. 請推導出 Euler Equation 為 $$ C_t^{-\\sigma} = \\beta (1+r_t) C_{t+1}^{-\\sigma}$$\n",
    "\n",
    "\n",
    "3. 請解釋 Euler Equation 的直覺\n",
    "\n",
    "\n",
    "\n",
    "4. 使用 Euler Equation 與限制式 $$C_t + \\frac{C_{t+1}}{1+r_t} = Y_t + \\frac{Y_{t+1}}{1+r_t}$$ 推導出 $$C_t = \\frac{1}{(1+\\beta\\cdot(1+r_t)^{\\frac{1-\\sigma}{\\sigma}} )} \\bigg[ Y_t + \\frac{Y_{t+1}}{1+r_t} \\bigg]$$\n",
    "\n",
    "---\n",
    "\n"
   ]
  },
  {
   "cell_type": "markdown",
   "metadata": {},
   "source": [
    "![總經A1-2](總經A1-2.jpg)"
   ]
  },
  {
   "cell_type": "markdown",
   "metadata": {},
   "source": []
  },
  {
   "cell_type": "markdown",
   "metadata": {},
   "source": []
  },
  {
   "cell_type": "markdown",
   "metadata": {},
   "source": []
  },
  {
   "cell_type": "markdown",
   "metadata": {},
   "source": [
    "# Part II: Python Problems\n",
    "\n",
    "說明：Part II 需要在 ipynb 上作答。當你完成後，選擇 File --> Print Preview，會跳出一個新的頁面。進入那個新的頁面，使用瀏覽器的列印功能，你便可以將該頁面儲存成 PDF\n",
    "\n",
    "---"
   ]
  },
  {
   "cell_type": "markdown",
   "metadata": {},
   "source": [
    "## 1. Markdown \n",
    "\n",
    "請在 Markdown 模式中輸入下面的文字並執行\n",
    "\n",
    "```LaTeX\n",
    "$$ u(C_t) = C_t - \\theta \\frac{C_t^2}{2}  $$\n",
    "```\n",
    "\n",
    "請將結果列印出來"
   ]
  },
  {
   "cell_type": "markdown",
   "metadata": {},
   "source": [
    "\n",
    "\n",
    "\n",
    "$$ u(C_t) = C_t - \\theta \\frac{C_t^2}{2}  $$"
   ]
  },
  {
   "cell_type": "markdown",
   "metadata": {},
   "source": [
    "## 2. Code\n",
    "\n",
    "請回答下列問題\n",
    "\n",
    "1. 在 Python 中，如果你要計算，比如 $3/2$，對應的 Code 為 \n",
    "```Python \n",
    "3/2\n",
    "```\n",
    "現在請用 Python 計算 $$\\frac{x}{2}$$ 其中, $x$ 請放你的學號"
   ]
  },
  {
   "cell_type": "code",
   "execution_count": 1,
   "metadata": {},
   "outputs": [
    {
     "data": {
      "text/plain": [
       "53104009.0"
      ]
     },
     "execution_count": 1,
     "metadata": {},
     "output_type": "execute_result"
    }
   ],
   "source": [
    "106208018/2"
   ]
  },
  {
   "cell_type": "markdown",
   "metadata": {},
   "source": [
    "2. 在討論消費時，有一個常見的效用函數為 $$ u(C) = C -  \\frac{C^2}{2}  $$ 請用 Python 計算, 當 $C = 0.04$ 時， $u(C)$ 的數值"
   ]
  },
  {
   "cell_type": "code",
   "execution_count": 5,
   "metadata": {},
   "outputs": [
    {
     "data": {
      "text/plain": [
       "0.0392"
      ]
     },
     "execution_count": 5,
     "metadata": {},
     "output_type": "execute_result"
    }
   ],
   "source": [
    "0.04-0.04*0.04/2"
   ]
  },
  {
   "cell_type": "markdown",
   "metadata": {},
   "source": [
    "3. 我們在上課有提到 Python 的函數，舉例來說，如果你要寫下 $$f(x) = x^3 - 8x^2 + 5x + 7$$ 之函數，對應的 Code 為 \n",
    "\n",
    "```Python\n",
    "def f(x):\n",
    "    y = x**3 - 8*x**2 + 5*x + 7\n",
    "    return y\n",
    "```\n",
    "請用 Python 的函數功能，寫下可以計算第 2 小題之效用函數效用值的函數 Code"
   ]
  },
  {
   "cell_type": "code",
   "execution_count": 5,
   "metadata": {},
   "outputs": [],
   "source": [
    "def u(c):\n",
    "    print(c-c**2/2)\n",
    "    return u"
   ]
  },
  {
   "cell_type": "markdown",
   "metadata": {},
   "source": [
    "4. 請利用第 3 小題你寫下的函數，計算 $C = 0.16$, $C = 0.25$, $C = 0.49$ 對應的效用數值"
   ]
  },
  {
   "cell_type": "code",
   "execution_count": 6,
   "metadata": {},
   "outputs": [
    {
     "name": "stdout",
     "output_type": "stream",
     "text": [
      "0.1472\n"
     ]
    },
    {
     "data": {
      "text/plain": [
       "<function __main__.u(c)>"
      ]
     },
     "execution_count": 6,
     "metadata": {},
     "output_type": "execute_result"
    }
   ],
   "source": [
    "u(0.16)"
   ]
  },
  {
   "cell_type": "code",
   "execution_count": 7,
   "metadata": {},
   "outputs": [
    {
     "name": "stdout",
     "output_type": "stream",
     "text": [
      "0.21875\n"
     ]
    },
    {
     "data": {
      "text/plain": [
       "<function __main__.u(c)>"
      ]
     },
     "execution_count": 7,
     "metadata": {},
     "output_type": "execute_result"
    }
   ],
   "source": [
    "u(0.25)"
   ]
  },
  {
   "cell_type": "code",
   "execution_count": 8,
   "metadata": {},
   "outputs": [
    {
     "name": "stdout",
     "output_type": "stream",
     "text": [
      "0.36995\n"
     ]
    },
    {
     "data": {
      "text/plain": [
       "<function __main__.u(c)>"
      ]
     },
     "execution_count": 8,
     "metadata": {},
     "output_type": "execute_result"
    }
   ],
   "source": [
    "u(0.49)"
   ]
  }
 ],
 "metadata": {
  "kernelspec": {
   "display_name": "Python 3",
   "language": "python",
   "name": "python3"
  },
  "language_info": {
   "codemirror_mode": {
    "name": "ipython",
    "version": 3
   },
   "file_extension": ".py",
   "mimetype": "text/x-python",
   "name": "python",
   "nbconvert_exporter": "python",
   "pygments_lexer": "ipython3",
   "version": "3.7.3"
  }
 },
 "nbformat": 4,
 "nbformat_minor": 2
}
