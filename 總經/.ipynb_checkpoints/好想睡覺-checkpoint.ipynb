{
 "cells": [
  {
   "cell_type": "markdown",
   "metadata": {},
   "source": [
    "# Assignment 2 (Deadline 2019/10/16, 12:00PM)\n",
    "---"
   ]
  },
  {
   "cell_type": "markdown",
   "metadata": {},
   "source": [
    "# Part I: Analytical Problems\n",
    "---"
   ]
  },
  {
   "cell_type": "markdown",
   "metadata": {},
   "source": [
    "## 1. Consumption Demand\n",
    "\n",
    "給定兩期消費模型問題為\n",
    "\n",
    "\\begin{equation}\n",
    "\\begin{split}\n",
    "\\max \\;\\; & U  = u(C_t) + \\beta u(C_{t+1}) \\\\\n",
    "s.t. \\;\\; & C_t + \\frac{C_{t+1}}{1+r_t} = Y_t + \\frac{Y_{t+1}}{1+r_t}\n",
    "\\end{split}\n",
    "\\end{equation}\n",
    "\n",
    "而效用函數為 $$u(C) = \\sqrt{C},\\; 其中 u'(C) = 0.5 C^{-0.5}$$\n",
    "\n",
    "1. 請推導出 Euler Equation 為 $$ C_t^{-0.5} = \\beta (1+r_t) C_{t+1}^{-0.5}$$\n",
    "\n",
    "2. 使用 Euler Equation 與限制式 $$C_t + \\frac{C_{t+1}}{1+r_t} = Y_t + \\frac{Y_{t+1}}{1+r_t}$$ 推導出 $$C_t = \\frac{1}{(1+\\beta^2\\cdot(1+r_t) )} \\bigg[ Y_t + \\frac{Y_{t+1}}{1+r_t} \\bigg]$$\n",
    "\n",
    "\n",
    "3. 給定 $r_t = 0.05$, $Y_t = 0$, $Y_{t+1} = 105$, $\\beta^2 (1+r_t) = 1$, 請推導出 \n",
    "\n",
    "\n",
    "$$C_t = 50, S_t = -50$$\n",
    "\n",
    "\n",
    "4. __[流動性限制]__ 給定現在存在流動性限制, 該消費者只能從銀行借入最多 20 單位，請推導出 $$C_t = 20, S_t = -20$$ 並解釋直覺\n",
    "\n",
    "\n",
    "\n",
    "__- 以下不存在流動性限制__\n",
    "\n",
    "\n",
    "5. __[課稅]__ 給定現在政府課所得稅, 稅率為 $\\tau$, 請解釋為何預算限制式會變成 \n",
    "\n",
    "\n",
    "$$ C_t + \\frac{C_{t+1}}{1+r_t} = (1-\\tau)Y_t + \\frac{(1-\\tau)Y_{t+1}}{1+r_t} $$\n",
    "\n",
    "\n",
    "6. 接續 3, 請推導此時的 $C_t$ 為 \n",
    "\n",
    "$$C_t = \\frac{1}{(1+\\beta^2\\cdot(1+r_t) )} \\bigg[ (1-\\tau)Y_t + \\frac{(1-\\tau)Y_{t+1}}{1+r_t}  \\bigg]$$\n",
    "\n",
    "\n",
    "\n",
    "---"
   ]
  },
  {
   "cell_type": "markdown",
   "metadata": {},
   "source": [
    "1. 消費只存在於兩期而已，所以 Euler equation 的最適解為 $u'(C_t) = \\beta (1+r_t) u'(C_{t+1})$ ，帶入 $u'(C) = 0.5\\cdot C^{-0.5}$ 後即可得出 Euler equation 為 $ C_t^{-0.5} = \\beta (1+r_t) C_{t+1}^{-0.5}$ 。\n",
    "\n",
    "\n",
    "2. 根據 $$ C_t^{-0.5} = \\beta \\cdot (1+r_t) \\cdot C_{t+1}^{-0.5}$$ 開$-0.5$ 次方根後可以得到 $$ C_t = \\beta^{-2} \\cdot (1+r_t)^{-2} \\cdot C_{t+1}$$ 左右移項整理之後會變成 $$ C_{t+1} = C_t \\cdot \\beta^{2} \\cdot (1+r_t)^2 $$ 將上式帶入$$C_t + \\frac{C_{t+1}}{1+r_t} = Y_t + \\frac{Y_{t+1}}{1+r_t}$$後可以得出 $$C_t + C_t \\cdot \\beta^{2} \\cdot (1+r_t) = Y_t + \\frac{Y_{t+1}}{1+r_t}$$$$C_t = \\frac{1}{(1+\\beta^2\\cdot(1+r_t) )} \\bigg[ Y_t + \\frac{Y_{t+1}}{1+r_t} \\bigg]$$\n",
    "\n",
    "\n",
    "3. 帶入給定數字後$$C_t = \\frac{1}{1+1} \\cdot (0+\\frac{105}{1+0.05})$$ 得出$$C_t = \\frac{1}{2} \\cdot 100 = 50$$ 而 $$ S_t = Y_t - C_t = 0 - 50 = -50$$\n",
    "\n",
    "\n",
    "4. 最多只能借 $20$ 單位則 $S_t = -20$，$C_t = Y_t - S_t = 0 + 20 = 20 $，因為最多只能從銀行借 $20$ 單位，且第 $t$ 期沒有所得所以只能消費跟銀行借到的 $20$ 單位。\n",
    "\n",
    "\n",
    "5. 因為政府課稅會導致可支配所得減少 $\\tau \\cdot Y$ ，可支配所得變成 $ (1- \\tau)\\cdot Y$ 所以限制式會改變成\n",
    "\n",
    "$$ C_t + \\frac{C_{t+1}}{1+r_t} = (1-\\tau)Y_t + \\frac{(1-\\tau)Y_{t+1}}{1+r_t} $$\n",
    "\n",
    "6. 將 $$ C_{t+1} = C_t \\cdot \\beta^{2} \\cdot (1+r_t)^2 $$ 帶入 $$ C_t + \\frac{C_{t+1}}{1+r_t} = (1-\\tau)Y_t + \\frac{(1-\\tau)Y_{t+1}}{1+r_t} $$ 可以得出 $$C_t + C_t \\cdot \\beta^{2} \\cdot (1+r_t) = (1-\\tau) Y_t + \\frac{(1-\\tau)Y_{t+1}}{1+r_t}$$  移項整理後就能到$$C_t = \\frac{1}{(1+\\beta^2\\cdot(1+r_t) )} \\bigg[ (1-\\tau)Y_t + \\frac{(1-\\tau)Y_{t+1}}{1+r_t}  \\bigg]$$"
   ]
  },
  {
   "cell_type": "markdown",
   "metadata": {},
   "source": [
    "## 2. Equilibrium\n",
    "\n",
    "給定兩期模型, 家戶 $i$ 的消費為 \n",
    "\n",
    "$$C_t(i) = \\frac{1}{(1+\\beta^2\\cdot(1+r_t) )} \\bigg[ Y_t(i) + \\frac{Y_{t+1}(i)}{1+r_t} \\bigg]$$\n",
    "\n",
    "現在假設有三個家戶, 亦即 $i = 1, 2, 3$。而他們相關的 Endownment 資訊如下 \n",
    "\n",
    "- 家戶 1: $Y_t(1) = 30, Y_{t+1}(1) = 30$\n",
    "\n",
    "- 家戶 2: $Y_t(2) = 50, Y_{t+1}(2) = 20$\n",
    "\n",
    "- 家戶 3: $Y_t(3) = 20, Y_{t+1}(3) = 50$\n",
    "\n",
    "請回答下列問題\n",
    "\n",
    "1. 請推導總和消費 $C_t$ 如下\n",
    "\n",
    "$$C_t = \\frac{1}{(1+\\beta^2\\cdot(1+r_t) )} \\bigg[ 100 + \\frac{ 100 }{1+r_t} \\bigg] $$\n",
    "\n",
    "2. 請利用商品市場均衡條件 $Y_t = C_t$, 算出均衡利率為 \n",
    "\n",
    "$$ r_t = \\frac{1-\\beta}{\\beta}$$\n",
    "\n",
    "3. 請推導家戶個別儲蓄函數為 \n",
    "\n",
    "$$ S_t(i) = \\frac{\\beta^2\\cdot(1+r_t)}{(1+\\beta^2\\cdot(1+r_t) )}  Y_t(i) -  \\frac{1}{(1+\\beta^2\\cdot(1+r_t) )} \\frac{Y_{t+1}(i)}{1+r_t}   $$\n",
    "\n",
    "4. 給定均衡利率下, 請驗證下面結果\n",
    "\n",
    "$$ S_t(1) = 0, \\; S_t(2) = \\frac{\\beta}{1+\\beta} 30, \\;  S_t(3) = -\\frac{\\beta}{1+\\beta} 30   $$\n",
    "\n",
    "\n",
    "5. 接續 4, 請驗證總和儲蓄 $S_t = 0$\n",
    "\n",
    "\n",
    "---\n"
   ]
  },
  {
   "cell_type": "markdown",
   "metadata": {},
   "source": [
    "1. 總和所得分別為 $$Y_t = Y_t(1)+Y_t(2)+Y_t(3) = 30+50+20=100$$和$$Y_{t+1} =  Y_{t+1}(1)+Y_{t+1}(2)+Y_{t+1}(3)=30+20+50=100$$ 帶入 $$C_t(i) = \\frac{1}{(1+\\beta^2\\cdot(1+r_t) )} \\bigg[ Y_t(i) + \\frac{Y_{t+1}(i)}{1+r_t} \\bigg]$$ 可以堆導出總和消費 $C_t$ 等於 $$C_t = \\frac{1}{(1+\\beta^2\\cdot(1+r_t) )} \\bigg[ 100 + \\frac{ 100 }{1+r_t} \\bigg] $$\n",
    "\n",
    "\n",
    "2. 令 $C_t = Y_t = 100$ ，則1.的等式會變成$$100 = \\frac{1}{(1+\\beta^2\\cdot(1+r_t) )} \\bigg[ 100 + \\frac{ 100 }{1+r_t} \\bigg] $$ 同除於 $100$ 再兩邊同乘 $1+\\beta^2\\cdot(1+r_t)$ 後會變成 $$ 1+\\beta ^2\\cdot (1+r_t) = 1+ \\frac{1}{1+r_t}$$ 再同乘 $1+r_t$ 後得到$$(1+r_t)^2 = \\frac{1}{\\beta^2}$$ 開二次方根、移項後等於 $$ r_t = \\frac{1}{\\beta} - 1$$ 等於 $$ r_t = \\frac{1-\\beta}{\\beta}$$\n",
    "\n",
    "\n",
    "3. $$ S_t(i) = Y_t(i) - C_t(i) = Y_t(i) - \\frac{1}{(1+\\beta^2\\cdot(1+r_t) )} \\bigg[ Y_t(i) + \\frac{Y_{t+1}(i)}{1+r_t} \\bigg]$$乘開化簡後會等於$$ S_t(i) = (1 - \\frac{1}{(1+\\beta^2\\cdot(1+r_t) )})\\cdot Y_t(i) - \\frac{1}{(1+\\beta^2\\cdot(1+r_t) )}\\cdot \\frac{Y_{t+1}(i)}{1+r_t} $$ 等於 $$ S_t(i) = \\frac{\\beta^2\\cdot(1+r_t)}{(1+\\beta^2\\cdot(1+r_t) )}\\cdot Y_t(i) -  \\frac{1}{(1+\\beta^2\\cdot(1+r_t) )} \\cdot \\frac{Y_{t+1}(i)}{1+r_t}   $$\n",
    "\n",
    "\n",
    "4. 將均衡利率 $$ r_t = \\frac{1-\\beta}{\\beta}$$ 帶入家戶個別儲蓄函數化簡後會變成 $$ S_t(i) = \\frac{\\beta}{1+\\beta} \\cdot Y_t(i) - \\frac{\\beta}{1+\\beta}\\cdot Y_{t+1}$$家戶 1: $$Y_t(1) = 30, Y_{t+1}(1) = 30$$ 家戶 2: $$Y_t(2) = 50, Y_{t+1}(2) = 20$$ 家戶 3: $$Y_t(3) = 20, Y_{t+1}(3) = 50$$ 帶入後就能得到 $$ S_t(1) = 0, \\; S_t(2) = \\frac{\\beta}{1+\\beta}\\cdot30, \\;  S_t(3) = -\\frac{\\beta}{1+\\beta}\\cdot30   $$\n",
    "\n",
    "\n",
    "5. 總和儲蓄$$ S_t = S_t(1) + S_t(2) + S_t(3) = 0+\\frac{\\beta}{1+\\beta}\\cdot30 + (-\\frac{\\beta}{1+\\beta}\\cdot 30) =0$$"
   ]
  },
  {
   "cell_type": "markdown",
   "metadata": {},
   "source": [
    "## 3. Multiple Periods\n",
    "\n",
    "給定 4 期消費模型問題為\n",
    "\n",
    "\\begin{equation}\n",
    "\\begin{split}\n",
    "\\max \\;\\; & U  = u(C_t) + \\beta u(C_{t+1}) + \\beta^2 u(C_{t+2}) + \\beta^3 u(C_{t+3}) \\\\\n",
    "s.t. \\;\\; & Y_t = C_t + S_t \\\\ \n",
    "& Y_{t+1} + (1+r_t)S_t = C_{t+1} + S_{t+1} \\\\\n",
    "& Y_{t+2} + (1+r_{t+1})S_{t+1} = C_{t+2} + S_{t+2} \\\\\n",
    "& Y_{t+3} + (1+r_{t+2})S_{t+2} = C_{t+3} + S_{t+3} \\\\\n",
    "\\end{split}\n",
    "\\end{equation}\n",
    "\n",
    "而效用函數為 $$u(C) = \\ln C,\\; 其中 u'(C) = 1/C$$\n",
    "\n",
    "1. 請解釋為什麼 $S_{t+3} = 0$\n",
    "\n",
    "\n",
    "2. 給定 $r_{t} = r_{t+1} = r_{t+2} = r$, 請推導出終身預算限制式為 \n",
    "\n",
    "$$ C_t + \\frac{C_{t+1}}{1+r} + \\frac{C_{t+2}}{(1+r)^2} + \\frac{C_{t+2}}{(1+r)^3} =  Y_t + \\frac{Y_{t+1}}{1+r} + \\frac{Y_{t+2}}{(1+r)^2} + \\frac{Y_{t+2}}{(1+r)^3} $$\n",
    "\n",
    "3. 給定 $r_{t} = r_{t+1} = r_{t+2} = r$,  請推導出 Euler Equations 為 \n",
    "\n",
    "$$ C_t^{-1} = \\beta (1+r) C_{t+1}^{-1}$$\n",
    "\n",
    "$$ C_{t+1}^{-1} = \\beta (1+r) C_{t+2}^{-1}$$\n",
    "\n",
    "$$ C_{t+2}^{-1} = \\beta (1+r) C_{t+3}^{-1}$$\n",
    "\n",
    "\n",
    "4. 給定 $r_{t} = r_{t+1} = r_{t+2} = r$,  使用 Euler Equation 與限制式 $$ C_t + \\frac{C_{t+1}}{1+r} + \\frac{C_{t+2}}{(1+r)^2} + \\frac{C_{t+3}}{(1+r)^3} =  Y_t + \\frac{Y_{t+1}}{1+r} + \\frac{Y_{t+2}}{(1+r)^2} + \\frac{Y_{t+2}}{(1+r)^3} $$ 請推導出\n",
    "\n",
    "$$ C_t = \\frac{1}{1+\\beta + \\beta^2 + \\beta^3}   X_t  ,\\;\\;  X_t =  Y_t + \\frac{Y_{t+1}}{1+r} + \\frac{Y_{t+2}}{(1+r)^2} + \\frac{Y_{t+2}}{(1+r)^3}  $$\n",
    "\n",
    "\n",
    "5. 給定 $r_{t} = r_{t+1} = r_{t+2} = r$,  給定恆常所得為 $\\overline{Y}$, 請算出 \n",
    "\n",
    "$$ \\overline{Y} = \\frac{(1+r)^3}{(1+r)^3 + (1+r)^2 + (1+r) + 1} X_t $$\n",
    "\n",
    "\n",
    "6. 假設 $1+r = 1/\\beta$, 請算出 \n",
    "\n",
    "$$ X_t = \\frac{(1+r)^3 + (1+r)^2 + (1+r) + 1}{(1+r)^3}  \\overline{Y} =  (1+\\beta + \\beta^2 + \\beta^3) \\overline{Y}$$\n",
    "\n",
    "\n",
    "7. 接續 6, 請算出 $$C_t = \\overline{Y}$$ 並解釋經濟直覺\n",
    "\n",
    "---"
   ]
  },
  {
   "cell_type": "markdown",
   "metadata": {},
   "source": [
    "1.因為第 $t+3$ 為此消費者的最後一期，消費者存錢後也沒有下一期能夠使用了，所以消費者不會在第 $t+3$ 期時存錢，因此 $S_{t+3}=0$ 。\n",
    "\n",
    "\n",
    "2.給定 $r_{t} = r_{t+1} = r_{t+2} = r$ 和 $S_{t+3}=0$ 後，各個限制式會變成\n",
    "\n",
    "\n",
    "\\begin{equation}\n",
    "\\begin{split}\n",
    "\\;\\; &Y_t = C_t + S_t \\\\ \n",
    "& Y_{t+1} + (1+r)S_t = C_{t+1} + S_{t+1} \\\\\n",
    "& Y_{t+2} + (1+r)S_{t+1} = C_{t+2} + S_{t+2} \\\\\n",
    "& Y_{t+3} + (1+r)S_{t+2} = C_{t+3} \\\\\n",
    "\\end{split}\n",
    "\\end{equation}先將限制式轉換另一種形式\n",
    "\n",
    "\n",
    "\\begin{equation}\n",
    "\\begin{split}\n",
    "\\;\\; &Y_t = C_t + S_t \\\\ \n",
    "& \\frac{Y_{t+1}}{1+r} + S_t = \\frac{C_{t+1}}{1+r} + \\frac{S_{t+1}}{1+r} \\\\\n",
    "& \\frac{Y_{t+2}}{(1+r)^2} + \\frac{S_{t+1}}{1+r} = \\frac{C_{t+2}}{(1+r)^2} +\\frac{S_{t+2}}{(1+r)^2} \\\\\n",
    "& \\frac{Y_{t+3}}{(1+r)^3} + \\frac{S_{t+2}}{(1+r)^2} = \\frac{C_{t+3}}{(1+r)^3} \\\\\n",
    "\\end{split}\n",
    "\\end{equation}\n",
    "\n",
    "再把四個限制式相加後得到 \n",
    "\n",
    "$$Y_t+\\frac{Y_{t+1}}{1+r} + S_t+\\frac{Y_{t+2}}{(1+r)^2} + \\frac{S_{t+1}}{1+r}+\\frac{Y_{t+3}}{(1+r)^3} + \\frac{S_{t+2}}{(1+r)^2}=C_t + S_t +\\frac{C_{t+1}}{1+r} + \\frac{S_{t+1}}{1+r}+\\frac{C_{t+2}}{(1+r)^2} +\\frac{S_{t+2}}{(1+r)^2}+\\frac{C_{t+3}}{(1+r)^3}$$\n",
    "\n",
    "再化簡左右式顛倒就能得到\n",
    "\n",
    "$$ C_t + \\frac{C_{t+1}}{1+r} + \\frac{C_{t+2}}{(1+r)^2} + \\frac{C_{t+3}}{(1+r)^3} =  Y_t + \\frac{Y_{t+1}}{1+r} + \\frac{Y_{t+2}}{(1+r)^2} + \\frac{Y_{t+3}}{(1+r)^3} $$\n",
    "\n",
    "3.消費存在於四期，每一期都會考慮儲蓄到下一期會得到的效益，所以 Euler equation 的最適解為 \n",
    "\n",
    "$$u'(C_t) = \\beta (1+r) u'(C_{t+1})$$\n",
    "\n",
    "$$u'(C_{t+1}) = \\beta (1+r) u'(C_{t+2})$$\n",
    "\n",
    "$$u'(C_{t+2}) = \\beta (1+r) u'(C_{t+3})$$\n",
    "\n",
    "帶入 $u'(C) = C^{-1}$ 後即可得出 Euler equation 為\n",
    "\n",
    "$$ C_t^{-1} = \\beta (1+r) C_{t+1}^{-1}$$\n",
    "\n",
    "$$ C_{t+1}^{-1} = \\beta (1+r) C_{t+2}^{-1}$$\n",
    "\n",
    "$$ C_{t+2}^{-1} = \\beta (1+r) C_{t+3}^{-1}$$\n",
    "\n",
    "4.將 Euler equation 整理移項乘一乘可以得到\n",
    "\n",
    "$$ C_{t+3}= \\beta^3 (1+r)^3 C_t$$\n",
    "\n",
    "$$ C_{t+2}= \\beta^2 (1+r)^2 C_t$$\n",
    "\n",
    "$$ C_{t+1}= \\beta^1 (1+r)^1 C_t$$\n",
    "\n",
    "帶入\n",
    "\n",
    "$$ C_t + \\frac{C_{t+1}}{1+r} + \\frac{C_{t+2}}{(1+r)^2} + \\frac{C_{t+3}}{(1+r)^3} =  Y_t + \\frac{Y_{t+1}}{1+r} + \\frac{Y_{t+2}}{(1+r)^2} + \\frac{Y_{t+3}}{(1+r)^3} $$ \n",
    "\n",
    "可以得到\n",
    "\n",
    "$$ C_t + \\frac{ \\beta^1 (1+r)^1 C_t}{1+r} + \\frac{\\beta^2 (1+r)^2 C_t}{(1+r)^2} + \\frac{\\beta^3 (1+r)^3 C_t}{(1+r)^3} =  Y_t + \\frac{Y_{t+1}}{1+r} + \\frac{Y_{t+2}}{(1+r)^2} + \\frac{Y_{t+3}}{(1+r)^3} $$ \n",
    "\n",
    "化簡後可以得到\n",
    "\n",
    "$$ (1+\\beta + \\beta^2 + \\beta^3) C_t = Y_t + \\frac{Y_{t+1}}{1+r} + \\frac{Y_{t+2}}{(1+r)^2} + \\frac{Y_{t+3}}{(1+r)^3} $$\n",
    "\n",
    "整理後即可得到\n",
    "\n",
    "$$ C_t = \\frac{1}{1+\\beta + \\beta^2 + \\beta^3}   X_t  ,\\;\\;  X_t =  Y_t + \\frac{Y_{t+1}}{1+r} + \\frac{Y_{t+2}}{(1+r)^2} + \\frac{Y_{t+3}}{(1+r)^3}  $$\n",
    "\n",
    "5.$$ \\overline{Y}+\\frac{\\overline{Y}}{1+r}+\\frac{\\overline{Y}}{(1+r)^2}+\\frac{\\overline{Y}}{(1+r)^3}=X_t$$\n",
    "\n",
    "同乘$(1+r)^3$變成\n",
    "\n",
    "$$ \\overline{Y}(1+r)^3 +\\overline{Y}(1+r)^2+\\overline{Y}(1+r)+\\overline{Y}=(1+r)^3 X_t$$\n",
    "\n",
    "整理後變成\n",
    "\n",
    "$$ \\overline{Y} = \\frac{(1+r)^3}{(1+r)^3 + (1+r)^2 + (1+r) + 1} X_t $$\n",
    "\n",
    "6.$$ \\overline{Y} = \\frac{(1+r)^3}{(1+r)^3 + (1+r)^2 + (1+r) + 1} X_t $$\n",
    "\n",
    "可以寫成\n",
    "\n",
    "$$X_t=  \\frac{(1+r)^3 + (1+r)^2 + (1+r) + 1}{(1+r)^3}  \\overline{Y}  $$\n",
    "\n",
    "$$X_t = (1 + (1+r)^{-1} + (1+r)^{-2} + (1+r)^{-3})\\overline{Y} $$\n",
    "\n",
    "因為 $1+r = 1/\\beta = \\beta^{-1}$，所以等式會變成\n",
    "\n",
    "$$ X_t = \\frac{(1+r)^3 + (1+r)^2 + (1+r) + 1}{(1+r)^3}  \\overline{Y} =  (1+\\beta + \\beta^2 + \\beta^3) \\overline{Y}$$\n",
    "\n",
    "7.$$ C_t = \\frac{1}{1+\\beta + \\beta^2 + \\beta^3}   X_t $$\n",
    "\n",
    "將 $ X_t = (1+\\beta + \\beta^2 + \\beta^3) \\overline{Y}$ 帶入得到$$ C_t = \\frac{1}{1+\\beta + \\beta^2 + \\beta^3}(1+\\beta + \\beta^2 + \\beta^3) \\overline{Y}$$\n",
    "\n",
    "$$ C_t = \\overline{Y}$$\n",
    "\n",
    "當利率恆定時，每一期的消費量會等於每一期的恆常所得。"
   ]
  },
  {
   "cell_type": "markdown",
   "metadata": {},
   "source": [
    "# Part II: Python Problems\n",
    "\n",
    "說明：Part II 需要在 ipynb 上作答。當你完成後，選擇 File --> Print Preview，會跳出一個新的頁面。進入那個新的頁面，使用瀏覽器的列印功能，你便可以將該頁面儲存成 PDF\n",
    "\n",
    "---"
   ]
  },
  {
   "cell_type": "markdown",
   "metadata": {},
   "source": [
    "1. 請用 Python 的函數功能，寫下可以計算下面效用函數效用值的函數 Code\n",
    "\n",
    "$$u(c) = c^{0.5}$$"
   ]
  },
  {
   "cell_type": "code",
   "execution_count": 1,
   "metadata": {},
   "outputs": [],
   "source": [
    "def u(c):\n",
    "    u=c**(0.5)\n",
    "    return u"
   ]
  },
  {
   "cell_type": "markdown",
   "metadata": {},
   "source": [
    "2. 請用學號創建一個 list, 舉例來說, 你的學號如果是 95258016, 請建立 [95, 258, 16] 的 list"
   ]
  },
  {
   "cell_type": "code",
   "execution_count": 2,
   "metadata": {},
   "outputs": [],
   "source": [
    "clist = [106,3040,13]"
   ]
  },
  {
   "cell_type": "markdown",
   "metadata": {},
   "source": [
    "3. 利用前面兩個小題你寫下的函數與 list, 使用上課所示範的 for-loop 算出 list 中每個值對應的效用值, 並將其存在 ans_list 這空的 list 中"
   ]
  },
  {
   "cell_type": "code",
   "execution_count": 3,
   "metadata": {},
   "outputs": [],
   "source": [
    "ans_list = []\n",
    "\n",
    "for c in clist:\n",
    "    ans = u(c)\n",
    "    ans_list.append(ans)"
   ]
  },
  {
   "cell_type": "code",
   "execution_count": 4,
   "metadata": {},
   "outputs": [
    {
     "data": {
      "text/plain": [
       "[10.295630140987, 55.136195008360886, 3.605551275463989]"
      ]
     },
     "execution_count": 4,
     "metadata": {},
     "output_type": "execute_result"
    }
   ],
   "source": [
    "ans_list"
   ]
  }
 ],
 "metadata": {
  "kernelspec": {
   "display_name": "Python 3",
   "language": "python",
   "name": "python3"
  },
  "language_info": {
   "codemirror_mode": {
    "name": "ipython",
    "version": 3
   },
   "file_extension": ".py",
   "mimetype": "text/x-python",
   "name": "python",
   "nbconvert_exporter": "python",
   "pygments_lexer": "ipython3",
   "version": "3.7.3"
  }
 },
 "nbformat": 4,
 "nbformat_minor": 2
}
