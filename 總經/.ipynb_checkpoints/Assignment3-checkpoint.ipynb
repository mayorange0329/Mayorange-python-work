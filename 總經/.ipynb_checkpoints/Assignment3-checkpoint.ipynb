{
 "cells": [
  {
   "cell_type": "markdown",
   "metadata": {},
   "source": [
    "# Assignment 2 (Deadline 2019/11/8, 12:30PM)\n",
    "---"
   ]
  },
  {
   "cell_type": "markdown",
   "metadata": {},
   "source": [
    "# Part I: Analytical Problems\n",
    "---"
   ]
  },
  {
   "cell_type": "markdown",
   "metadata": {},
   "source": [
    "## 1. 廠商資本與勞動需求\n",
    "\n",
    "我們在課堂知道，廠商的利潤為\n",
    "\n",
    "\\begin{equation*}\n",
    "\\begin{split}\n",
    " D& =    A_t F(K_t, N_t^d)  - w_t N_t^d  \\\\ \n",
    "& + \\frac{ A_{t+1} F(K_{t+1}, N_{t+1}^d)  +(1-\\delta)K_{t+1} - (1+r_t)(K_{t+1} - (1-\\delta)K_t) - w_{t+1} N_{t+1}^d  }{1+r_t} \n",
    "\\end{split}\n",
    "\\end{equation*}\n",
    "\n",
    "請回答下列問題\n",
    "\n",
    "1. 請仿照上課推導 $N_t^d$ 的方式，推導出 $N_{t+1}^d$ 為 \n",
    "$$ A_{t+1} \\frac{\\Delta F(\\overline{K}_{t+1}, N_{t+1})}{\\Delta N_{t+1}} = w_{t+1} $$\n",
    "其中，$\\Delta F(\\overline{K}_{t+1}, N_{t+1}) = F(\\overline{K}_{t+1}, N_{t+1}^1) - F(\\overline{K}_{t+1}, N_{t+1}^0)$, $\\Delta N_{t+1} = N_{t+1}^1 - N_{t+1}^0$\n",
    "\n",
    "\n",
    "2. 請仿照之前推導 $K_{t+1}$ 方式，推導出考慮勞動下，$K_{t+1}$ 為\n",
    "$$ A_{t+1} \\frac{\\Delta F({K}_{t+1}, \\overline{N}_{t+1})}{\\Delta K_{t+1}} = r_t + \\delta $$\n",
    "其中，$\\Delta F({K}_{t+1}, \\overline{N}_{t+1}) = F({K}_{t+1}^1, \\overline{N}_{t+1}) - F(K_{t+1}^0, \\overline{N}_{t+1})$, $\\Delta K_{t+1} = K_{t+1}^1 - K_{t+1}^0$\n"
   ]
  },
  {
   "cell_type": "markdown",
   "metadata": {},
   "source": [
    "## 2. 生產函數\n",
    "\n",
    "課堂中，我們最常看到的生產函數為 \n",
    "$$ Y = AF(K,N) = A K^\\alpha N^{1-\\alpha}, \\;\\; 0<\\alpha<1 $$\n",
    "這函數對應的邊際產出為\n",
    "\n",
    "$$\\displaystyle 勞動邊際產出 \\;\\; MP_L = \\frac{\\Delta Y}{\\Delta N} = A \\frac{\\Delta F}{\\Delta N} = AK^\\alpha \\cdot(1-\\alpha)  N^{-\\alpha}  $$\n",
    "\n",
    "$$\\displaystyle 資本邊際產出 \\;\\; MP_K = \\frac{\\Delta Y}{\\Delta K} = A \\frac{\\Delta F}{\\Delta K} = A\\alpha K^{\\alpha - 1}   N^{1-\\alpha}  $$\n",
    "請驗證這生產函數符合下列性質\n"
   ]
  },
  {
   "cell_type": "markdown",
   "metadata": {},
   "source": [
    "### a. Constant Return to Scale\n",
    "\n",
    "請驗證\n",
    "\n",
    "$$  Y_t   = {A_t} F(2 K_t, 2 N_t) = 2 Y_t $$"
   ]
  },
  {
   "cell_type": "markdown",
   "metadata": {},
   "source": [
    "### b. 要素投入不為零\n",
    "\n",
    "請驗證\n",
    "\n",
    "\n",
    " $$ {A_t} F(0, N_t) = 0$$\n",
    "\n",
    "\n",
    " $$ {A_t} F(K_t, 0) = 0$$"
   ]
  },
  {
   "cell_type": "markdown",
   "metadata": {},
   "source": [
    "### c. 邊際產出遞減\n",
    "\n",
    "請驗證\n",
    "\n",
    "當 $N$ 上升，$MP_L$ 下降; 當 $K$ 上升，$MP_K$ 下降\n"
   ]
  },
  {
   "cell_type": "markdown",
   "metadata": {},
   "source": [
    "###  d. 要素互補\n",
    "\n",
    "請驗證\n",
    "\n",
    "當 $N$ 上升，$MP_K$ 上升; 當 $K$ 上升，$MP_L$ 上升\n",
    "\n",
    "---"
   ]
  },
  {
   "cell_type": "markdown",
   "metadata": {},
   "source": [
    "# Part II: Python Problems\n",
    "\n",
    "說明：Part II 需要在 ipynb 上作答。當你完成後，選擇 File --> Print Preview，會跳出一個新的頁面。進入那個新的頁面，使用瀏覽器的列印功能，你便可以將該頁面儲存成 PDF\n",
    "\n",
    "---"
   ]
  },
  {
   "cell_type": "markdown",
   "metadata": {},
   "source": [
    "## 1. Python 的選取\n",
    "\n",
    "請用學號創建一個 list, 舉例來說, 你的學號如果是 95258016, 請建立 [2006, 95, 258, 16] 的 list。亦即最後的數字重複一次。對應的 code 如下 \n",
    "\n",
    "```python\n",
    "xlist = [2006, 95, 258, 16]\n",
    "```\n",
    "\n",
    "請告訴我，如果你輸入了 \n",
    "\n",
    "```python\n",
    "xlist[2]\n",
    "```\n",
    "\n",
    "回傳的是 list 中第幾個數字"
   ]
  },
  {
   "cell_type": "code",
   "execution_count": null,
   "metadata": {},
   "outputs": [],
   "source": [
    "stunumlist=[106,208,]"
   ]
  },
  {
   "cell_type": "markdown",
   "metadata": {},
   "source": [
    "## 2. Numpy \n",
    "\n",
    "1. 請將上一題創造出來的 xlist 變成 numpy array, 命名成 xarray\n",
    "\n",
    "\n",
    "2. Numpy 中的 max 可以找出數列中最大的數值。請用 Numpy 找出該數列中最大的數字。\n",
    "\n",
    "\n",
    "3. Numpy 中的 min 可以找出數列中最小的數值。請用 Numpy 找出該數列中最小的數字。\n",
    "\n",
    "\n",
    "4. Numpy 中的 mean 可以算出平均數。請用 Numpy 找出該數列中的平均數。 "
   ]
  },
  {
   "cell_type": "code",
   "execution_count": null,
   "metadata": {},
   "outputs": [],
   "source": []
  },
  {
   "cell_type": "markdown",
   "metadata": {},
   "source": [
    "### 3. 聯立方程式\n",
    "\n",
    "假設現在有個聯立方程式如下\n",
    "\n",
    "$$ x + y + z = 1 $$\n",
    "$$ 2x + y - z = 8 $$\n",
    "$$ 3x + y + 4z = 5 $$\n",
    "\n",
    "現在假設你想要用 ```fsolve```  解這聯立方程式，你需要先定義一個 python function。現在這 function 如下，但是不完整，請把缺少的部份補完\n",
    "\n",
    "```python\n",
    "def f(V):\n",
    "    x = V[0]\n",
    "    y = V[1]\n",
    "    z = \n",
    "    eq0 = x + y + z - 1\n",
    "    eq1 = \n",
    "    eq2 = \n",
    "    return eq0, eq1, eq2\n",
    "```\n",
    "\n",
    "然後用 fsolve 解出可以使得這三個方程式滿足之 $x, y, z$。記得，引入 ```fsolve``` 的 code 為 \n",
    "```python\n",
    "from scipy import fsolve\n",
    "```"
   ]
  },
  {
   "cell_type": "code",
   "execution_count": null,
   "metadata": {},
   "outputs": [],
   "source": []
  }
 ],
 "metadata": {
  "kernelspec": {
   "display_name": "Python 3",
   "language": "python",
   "name": "python3"
  },
  "language_info": {
   "codemirror_mode": {
    "name": "ipython",
    "version": 3
   },
   "file_extension": ".py",
   "mimetype": "text/x-python",
   "name": "python",
   "nbconvert_exporter": "python",
   "pygments_lexer": "ipython3",
   "version": "3.7.3"
  }
 },
 "nbformat": 4,
 "nbformat_minor": 2
}
